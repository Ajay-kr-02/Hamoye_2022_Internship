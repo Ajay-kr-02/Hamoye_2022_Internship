{
 "cells": [
  {
   "cell_type": "markdown",
   "id": "cac46b85",
   "metadata": {},
   "source": [
    "<b> Name: Ajay Kumar <br>\n",
    "    Hamoye ID: 147bffea7681f000 </b>"
   ]
  },
  {
   "cell_type": "code",
   "execution_count": 1,
   "id": "4b981bf9",
   "metadata": {},
   "outputs": [],
   "source": [
    "#import the required libraries\n",
    "import numpy as np \n",
    "import pandas as pd \n",
    "import seaborn as sns  \n",
    "import matplotlib.pyplot as plt\n",
    "%matplotlib inline\n",
    "import warnings\n",
    "warnings.filterwarnings('ignore')\n",
    "import pandas_profiling\n",
    "import xgboost as xgb\n",
    "import lightgbm as lgb\n",
    "import sklearn.utils"
   ]
  },
  {
   "cell_type": "markdown",
   "id": "58a51a63",
   "metadata": {},
   "source": [
    "# Loading of Data"
   ]
  },
  {
   "cell_type": "code",
   "execution_count": 2,
   "id": "8ce4e4c5",
   "metadata": {},
   "outputs": [],
   "source": [
    "grid_data= pd.read_csv('Data_for_UCI_named.csv') # loading data"
   ]
  },
  {
   "cell_type": "code",
   "execution_count": 3,
   "id": "c8f5b127",
   "metadata": {},
   "outputs": [
    {
     "data": {
      "text/html": [
       "<div>\n",
       "<style scoped>\n",
       "    .dataframe tbody tr th:only-of-type {\n",
       "        vertical-align: middle;\n",
       "    }\n",
       "\n",
       "    .dataframe tbody tr th {\n",
       "        vertical-align: top;\n",
       "    }\n",
       "\n",
       "    .dataframe thead th {\n",
       "        text-align: right;\n",
       "    }\n",
       "</style>\n",
       "<table border=\"1\" class=\"dataframe\">\n",
       "  <thead>\n",
       "    <tr style=\"text-align: right;\">\n",
       "      <th></th>\n",
       "      <th>tau1</th>\n",
       "      <th>tau2</th>\n",
       "      <th>tau3</th>\n",
       "      <th>tau4</th>\n",
       "      <th>p1</th>\n",
       "      <th>p2</th>\n",
       "      <th>p3</th>\n",
       "      <th>p4</th>\n",
       "      <th>g1</th>\n",
       "      <th>g2</th>\n",
       "      <th>g3</th>\n",
       "      <th>g4</th>\n",
       "      <th>stab</th>\n",
       "      <th>stabf</th>\n",
       "    </tr>\n",
       "  </thead>\n",
       "  <tbody>\n",
       "    <tr>\n",
       "      <th>0</th>\n",
       "      <td>2.959060</td>\n",
       "      <td>3.079885</td>\n",
       "      <td>8.381025</td>\n",
       "      <td>9.780754</td>\n",
       "      <td>3.763085</td>\n",
       "      <td>-0.782604</td>\n",
       "      <td>-1.257395</td>\n",
       "      <td>-1.723086</td>\n",
       "      <td>0.650456</td>\n",
       "      <td>0.859578</td>\n",
       "      <td>0.887445</td>\n",
       "      <td>0.958034</td>\n",
       "      <td>0.055347</td>\n",
       "      <td>unstable</td>\n",
       "    </tr>\n",
       "    <tr>\n",
       "      <th>1</th>\n",
       "      <td>9.304097</td>\n",
       "      <td>4.902524</td>\n",
       "      <td>3.047541</td>\n",
       "      <td>1.369357</td>\n",
       "      <td>5.067812</td>\n",
       "      <td>-1.940058</td>\n",
       "      <td>-1.872742</td>\n",
       "      <td>-1.255012</td>\n",
       "      <td>0.413441</td>\n",
       "      <td>0.862414</td>\n",
       "      <td>0.562139</td>\n",
       "      <td>0.781760</td>\n",
       "      <td>-0.005957</td>\n",
       "      <td>stable</td>\n",
       "    </tr>\n",
       "    <tr>\n",
       "      <th>2</th>\n",
       "      <td>8.971707</td>\n",
       "      <td>8.848428</td>\n",
       "      <td>3.046479</td>\n",
       "      <td>1.214518</td>\n",
       "      <td>3.405158</td>\n",
       "      <td>-1.207456</td>\n",
       "      <td>-1.277210</td>\n",
       "      <td>-0.920492</td>\n",
       "      <td>0.163041</td>\n",
       "      <td>0.766689</td>\n",
       "      <td>0.839444</td>\n",
       "      <td>0.109853</td>\n",
       "      <td>0.003471</td>\n",
       "      <td>unstable</td>\n",
       "    </tr>\n",
       "    <tr>\n",
       "      <th>3</th>\n",
       "      <td>0.716415</td>\n",
       "      <td>7.669600</td>\n",
       "      <td>4.486641</td>\n",
       "      <td>2.340563</td>\n",
       "      <td>3.963791</td>\n",
       "      <td>-1.027473</td>\n",
       "      <td>-1.938944</td>\n",
       "      <td>-0.997374</td>\n",
       "      <td>0.446209</td>\n",
       "      <td>0.976744</td>\n",
       "      <td>0.929381</td>\n",
       "      <td>0.362718</td>\n",
       "      <td>0.028871</td>\n",
       "      <td>unstable</td>\n",
       "    </tr>\n",
       "    <tr>\n",
       "      <th>4</th>\n",
       "      <td>3.134112</td>\n",
       "      <td>7.608772</td>\n",
       "      <td>4.943759</td>\n",
       "      <td>9.857573</td>\n",
       "      <td>3.525811</td>\n",
       "      <td>-1.125531</td>\n",
       "      <td>-1.845975</td>\n",
       "      <td>-0.554305</td>\n",
       "      <td>0.797110</td>\n",
       "      <td>0.455450</td>\n",
       "      <td>0.656947</td>\n",
       "      <td>0.820923</td>\n",
       "      <td>0.049860</td>\n",
       "      <td>unstable</td>\n",
       "    </tr>\n",
       "  </tbody>\n",
       "</table>\n",
       "</div>"
      ],
      "text/plain": [
       "       tau1      tau2      tau3      tau4        p1        p2        p3  \\\n",
       "0  2.959060  3.079885  8.381025  9.780754  3.763085 -0.782604 -1.257395   \n",
       "1  9.304097  4.902524  3.047541  1.369357  5.067812 -1.940058 -1.872742   \n",
       "2  8.971707  8.848428  3.046479  1.214518  3.405158 -1.207456 -1.277210   \n",
       "3  0.716415  7.669600  4.486641  2.340563  3.963791 -1.027473 -1.938944   \n",
       "4  3.134112  7.608772  4.943759  9.857573  3.525811 -1.125531 -1.845975   \n",
       "\n",
       "         p4        g1        g2        g3        g4      stab     stabf  \n",
       "0 -1.723086  0.650456  0.859578  0.887445  0.958034  0.055347  unstable  \n",
       "1 -1.255012  0.413441  0.862414  0.562139  0.781760 -0.005957    stable  \n",
       "2 -0.920492  0.163041  0.766689  0.839444  0.109853  0.003471  unstable  \n",
       "3 -0.997374  0.446209  0.976744  0.929381  0.362718  0.028871  unstable  \n",
       "4 -0.554305  0.797110  0.455450  0.656947  0.820923  0.049860  unstable  "
      ]
     },
     "execution_count": 3,
     "metadata": {},
     "output_type": "execute_result"
    }
   ],
   "source": [
    "grid_data.head()"
   ]
  },
  {
   "cell_type": "markdown",
   "id": "529b2995",
   "metadata": {},
   "source": [
    "<b> Description of Data Set </b> <br>\n",
    "It has 12 primary predictive features and two dependent variables. <br>\n",
    " <b> Predictive features: </b> <br>\n",
    " 1.\t'tau1' to 'tau4': the reaction time of each network participant, a real value within the range 0.5 to 10 ('tau1' corresponds to the supplier node, 'tau2' to 'tau4' to the consumer nodes). <br>\n",
    " 2.\t'p1' to 'p4': nominal power produced (positive) or consumed (negative) by each network participant, a real value within the range -2.0 to -0.5 for consumers ('p2' to 'p4'). As the total power consumed equals the total power generated, p1 (supplier node) = - (p2 + p3 + p4). <br>\n",
    " 3.\t'g1' to 'g4': price elasticity coefficient for each network participant, a real value within the range 0.05 to 1.00 ('g1' corresponds to the supplier node, 'g2' to 'g4' to the consumer nodes; 'g' stands for 'gamma'). <br>\n",
    "\n",
    "<b> Dependent Variables: </b> <br>\n",
    "1.\t'stab': the maximum real part of the characteristic differential equation root (if positive, the system is linearly unstable; if negative, linearly stable). <br>\n",
    "2.\t'stabf': a categorical (binary) label ('stable' or 'unstable'). <br>\n",
    "\n",
    "Because of the direct relationship between 'stab' and 'stabf' ('stabf' = 'stable' if 'stab' <= 0, 'unstable' otherwise), 'stab' should be dropped and 'stabf' will remain as the sole dependent variable (binary classification).\n"
   ]
  },
  {
   "cell_type": "code",
   "execution_count": 4,
   "id": "20d17599",
   "metadata": {},
   "outputs": [
    {
     "data": {
      "text/plain": [
       "(10000, 14)"
      ]
     },
     "execution_count": 4,
     "metadata": {},
     "output_type": "execute_result"
    }
   ],
   "source": [
    "grid_data.shape # size of data set"
   ]
  },
  {
   "cell_type": "code",
   "execution_count": 5,
   "id": "475719ee",
   "metadata": {},
   "outputs": [
    {
     "data": {
      "text/html": [
       "<div>\n",
       "<style scoped>\n",
       "    .dataframe tbody tr th:only-of-type {\n",
       "        vertical-align: middle;\n",
       "    }\n",
       "\n",
       "    .dataframe tbody tr th {\n",
       "        vertical-align: top;\n",
       "    }\n",
       "\n",
       "    .dataframe thead th {\n",
       "        text-align: right;\n",
       "    }\n",
       "</style>\n",
       "<table border=\"1\" class=\"dataframe\">\n",
       "  <thead>\n",
       "    <tr style=\"text-align: right;\">\n",
       "      <th></th>\n",
       "      <th>tau1</th>\n",
       "      <th>tau2</th>\n",
       "      <th>tau3</th>\n",
       "      <th>tau4</th>\n",
       "      <th>p1</th>\n",
       "      <th>p2</th>\n",
       "      <th>p3</th>\n",
       "      <th>p4</th>\n",
       "      <th>g1</th>\n",
       "      <th>g2</th>\n",
       "      <th>g3</th>\n",
       "      <th>g4</th>\n",
       "      <th>stab</th>\n",
       "    </tr>\n",
       "  </thead>\n",
       "  <tbody>\n",
       "    <tr>\n",
       "      <th>count</th>\n",
       "      <td>10000.000000</td>\n",
       "      <td>10000.000000</td>\n",
       "      <td>10000.000000</td>\n",
       "      <td>10000.000000</td>\n",
       "      <td>10000.000000</td>\n",
       "      <td>10000.000000</td>\n",
       "      <td>10000.000000</td>\n",
       "      <td>10000.000000</td>\n",
       "      <td>10000.000000</td>\n",
       "      <td>10000.000000</td>\n",
       "      <td>10000.000000</td>\n",
       "      <td>10000.000000</td>\n",
       "      <td>10000.000000</td>\n",
       "    </tr>\n",
       "    <tr>\n",
       "      <th>mean</th>\n",
       "      <td>5.250000</td>\n",
       "      <td>5.250001</td>\n",
       "      <td>5.250004</td>\n",
       "      <td>5.249997</td>\n",
       "      <td>3.750000</td>\n",
       "      <td>-1.250000</td>\n",
       "      <td>-1.250000</td>\n",
       "      <td>-1.250000</td>\n",
       "      <td>0.525000</td>\n",
       "      <td>0.525000</td>\n",
       "      <td>0.525000</td>\n",
       "      <td>0.525000</td>\n",
       "      <td>0.015731</td>\n",
       "    </tr>\n",
       "    <tr>\n",
       "      <th>std</th>\n",
       "      <td>2.742548</td>\n",
       "      <td>2.742549</td>\n",
       "      <td>2.742549</td>\n",
       "      <td>2.742556</td>\n",
       "      <td>0.752160</td>\n",
       "      <td>0.433035</td>\n",
       "      <td>0.433035</td>\n",
       "      <td>0.433035</td>\n",
       "      <td>0.274256</td>\n",
       "      <td>0.274255</td>\n",
       "      <td>0.274255</td>\n",
       "      <td>0.274255</td>\n",
       "      <td>0.036919</td>\n",
       "    </tr>\n",
       "    <tr>\n",
       "      <th>min</th>\n",
       "      <td>0.500793</td>\n",
       "      <td>0.500141</td>\n",
       "      <td>0.500788</td>\n",
       "      <td>0.500473</td>\n",
       "      <td>1.582590</td>\n",
       "      <td>-1.999891</td>\n",
       "      <td>-1.999945</td>\n",
       "      <td>-1.999926</td>\n",
       "      <td>0.050009</td>\n",
       "      <td>0.050053</td>\n",
       "      <td>0.050054</td>\n",
       "      <td>0.050028</td>\n",
       "      <td>-0.080760</td>\n",
       "    </tr>\n",
       "    <tr>\n",
       "      <th>25%</th>\n",
       "      <td>2.874892</td>\n",
       "      <td>2.875140</td>\n",
       "      <td>2.875522</td>\n",
       "      <td>2.874950</td>\n",
       "      <td>3.218300</td>\n",
       "      <td>-1.624901</td>\n",
       "      <td>-1.625025</td>\n",
       "      <td>-1.624960</td>\n",
       "      <td>0.287521</td>\n",
       "      <td>0.287552</td>\n",
       "      <td>0.287514</td>\n",
       "      <td>0.287494</td>\n",
       "      <td>-0.015557</td>\n",
       "    </tr>\n",
       "    <tr>\n",
       "      <th>50%</th>\n",
       "      <td>5.250004</td>\n",
       "      <td>5.249981</td>\n",
       "      <td>5.249979</td>\n",
       "      <td>5.249734</td>\n",
       "      <td>3.751025</td>\n",
       "      <td>-1.249966</td>\n",
       "      <td>-1.249974</td>\n",
       "      <td>-1.250007</td>\n",
       "      <td>0.525009</td>\n",
       "      <td>0.525003</td>\n",
       "      <td>0.525015</td>\n",
       "      <td>0.525002</td>\n",
       "      <td>0.017142</td>\n",
       "    </tr>\n",
       "    <tr>\n",
       "      <th>75%</th>\n",
       "      <td>7.624690</td>\n",
       "      <td>7.624893</td>\n",
       "      <td>7.624948</td>\n",
       "      <td>7.624838</td>\n",
       "      <td>4.282420</td>\n",
       "      <td>-0.874977</td>\n",
       "      <td>-0.875043</td>\n",
       "      <td>-0.875065</td>\n",
       "      <td>0.762435</td>\n",
       "      <td>0.762490</td>\n",
       "      <td>0.762440</td>\n",
       "      <td>0.762433</td>\n",
       "      <td>0.044878</td>\n",
       "    </tr>\n",
       "    <tr>\n",
       "      <th>max</th>\n",
       "      <td>9.999469</td>\n",
       "      <td>9.999837</td>\n",
       "      <td>9.999450</td>\n",
       "      <td>9.999443</td>\n",
       "      <td>5.864418</td>\n",
       "      <td>-0.500108</td>\n",
       "      <td>-0.500072</td>\n",
       "      <td>-0.500025</td>\n",
       "      <td>0.999937</td>\n",
       "      <td>0.999944</td>\n",
       "      <td>0.999982</td>\n",
       "      <td>0.999930</td>\n",
       "      <td>0.109403</td>\n",
       "    </tr>\n",
       "  </tbody>\n",
       "</table>\n",
       "</div>"
      ],
      "text/plain": [
       "               tau1          tau2          tau3          tau4            p1  \\\n",
       "count  10000.000000  10000.000000  10000.000000  10000.000000  10000.000000   \n",
       "mean       5.250000      5.250001      5.250004      5.249997      3.750000   \n",
       "std        2.742548      2.742549      2.742549      2.742556      0.752160   \n",
       "min        0.500793      0.500141      0.500788      0.500473      1.582590   \n",
       "25%        2.874892      2.875140      2.875522      2.874950      3.218300   \n",
       "50%        5.250004      5.249981      5.249979      5.249734      3.751025   \n",
       "75%        7.624690      7.624893      7.624948      7.624838      4.282420   \n",
       "max        9.999469      9.999837      9.999450      9.999443      5.864418   \n",
       "\n",
       "                 p2            p3            p4            g1            g2  \\\n",
       "count  10000.000000  10000.000000  10000.000000  10000.000000  10000.000000   \n",
       "mean      -1.250000     -1.250000     -1.250000      0.525000      0.525000   \n",
       "std        0.433035      0.433035      0.433035      0.274256      0.274255   \n",
       "min       -1.999891     -1.999945     -1.999926      0.050009      0.050053   \n",
       "25%       -1.624901     -1.625025     -1.624960      0.287521      0.287552   \n",
       "50%       -1.249966     -1.249974     -1.250007      0.525009      0.525003   \n",
       "75%       -0.874977     -0.875043     -0.875065      0.762435      0.762490   \n",
       "max       -0.500108     -0.500072     -0.500025      0.999937      0.999944   \n",
       "\n",
       "                 g3            g4          stab  \n",
       "count  10000.000000  10000.000000  10000.000000  \n",
       "mean       0.525000      0.525000      0.015731  \n",
       "std        0.274255      0.274255      0.036919  \n",
       "min        0.050054      0.050028     -0.080760  \n",
       "25%        0.287514      0.287494     -0.015557  \n",
       "50%        0.525015      0.525002      0.017142  \n",
       "75%        0.762440      0.762433      0.044878  \n",
       "max        0.999982      0.999930      0.109403  "
      ]
     },
     "execution_count": 5,
     "metadata": {},
     "output_type": "execute_result"
    }
   ],
   "source": [
    "grid_data.describe() # Statistical data "
   ]
  },
  {
   "cell_type": "code",
   "execution_count": 6,
   "id": "d8a53856",
   "metadata": {},
   "outputs": [
    {
     "data": {
      "text/plain": [
       "tau1     0\n",
       "tau2     0\n",
       "tau3     0\n",
       "tau4     0\n",
       "p1       0\n",
       "p2       0\n",
       "p3       0\n",
       "p4       0\n",
       "g1       0\n",
       "g2       0\n",
       "g3       0\n",
       "g4       0\n",
       "stab     0\n",
       "stabf    0\n",
       "dtype: int64"
      ]
     },
     "execution_count": 6,
     "metadata": {},
     "output_type": "execute_result"
    }
   ],
   "source": [
    "grid_data.isnull().sum()"
   ]
  },
  {
   "cell_type": "markdown",
   "id": "a8a8058e",
   "metadata": {},
   "source": [
    "<b>There are no null values found.</b>"
   ]
  },
  {
   "cell_type": "code",
   "execution_count": 7,
   "id": "4bf3afe2",
   "metadata": {},
   "outputs": [
    {
     "data": {
      "text/plain": [
       "0"
      ]
     },
     "execution_count": 7,
     "metadata": {},
     "output_type": "execute_result"
    }
   ],
   "source": [
    "grid_data.duplicated().sum()"
   ]
  },
  {
   "cell_type": "markdown",
   "id": "15fa6354",
   "metadata": {},
   "source": [
    "<b> No duplicate records. </b>"
   ]
  },
  {
   "cell_type": "code",
   "execution_count": 8,
   "id": "4329eab6",
   "metadata": {},
   "outputs": [
    {
     "data": {
      "text/plain": [
       "unstable    6380\n",
       "stable      3620\n",
       "Name: stabf, dtype: int64"
      ]
     },
     "execution_count": 8,
     "metadata": {},
     "output_type": "execute_result"
    }
   ],
   "source": [
    "grid_data.stabf.value_counts() # Checking distrubution of classes in data set."
   ]
  },
  {
   "cell_type": "markdown",
   "id": "c19665ea",
   "metadata": {},
   "source": [
    "<b> unstable </b> class records is nearly twice of <b> stable </b> class."
   ]
  },
  {
   "cell_type": "code",
   "execution_count": 9,
   "id": "61993efc",
   "metadata": {},
   "outputs": [
    {
     "data": {
      "application/vnd.jupyter.widget-view+json": {
       "model_id": "3f8a3ad2b6114fcbabc68646329c7583",
       "version_major": 2,
       "version_minor": 0
      },
      "text/plain": [
       "Summarize dataset:   0%|          | 0/5 [00:00<?, ?it/s]"
      ]
     },
     "metadata": {},
     "output_type": "display_data"
    },
    {
     "data": {
      "application/vnd.jupyter.widget-view+json": {
       "model_id": "58a604a799c14c68a563f1ebd67b7bab",
       "version_major": 2,
       "version_minor": 0
      },
      "text/plain": [
       "Generate report structure:   0%|          | 0/1 [00:00<?, ?it/s]"
      ]
     },
     "metadata": {},
     "output_type": "display_data"
    },
    {
     "data": {
      "application/vnd.jupyter.widget-view+json": {
       "model_id": "896db048079d48c69cde604e00221710",
       "version_major": 2,
       "version_minor": 0
      },
      "text/plain": [
       "Render HTML:   0%|          | 0/1 [00:00<?, ?it/s]"
      ]
     },
     "metadata": {},
     "output_type": "display_data"
    },
    {
     "data": {
      "application/vnd.jupyter.widget-view+json": {
       "model_id": "931b80d9f4f54e868bcac3ad587a17d2",
       "version_major": 2,
       "version_minor": 0
      },
      "text/plain": [
       "Export report to file:   0%|          | 0/1 [00:00<?, ?it/s]"
      ]
     },
     "metadata": {},
     "output_type": "display_data"
    }
   ],
   "source": [
    "from pandas_profiling import ProfileReport\n",
    "prof = ProfileReport(grid_data)\n",
    "prof.to_file(output_file='output.html')"
   ]
  },
  {
   "cell_type": "markdown",
   "id": "38b0e285",
   "metadata": {},
   "source": [
    "<b> Complete data exploratory analysis of data set can be seen in output.html file. </b>"
   ]
  },
  {
   "cell_type": "code",
   "execution_count": 10,
   "id": "22e24038",
   "metadata": {},
   "outputs": [],
   "source": [
    "#Dropping the 'stab' column\n",
    "data_features = grid_data.drop(['stab', 'stabf'], axis = 1)\n",
    "data_target = grid_data['stabf']"
   ]
  },
  {
   "cell_type": "markdown",
   "id": "1aed3c52",
   "metadata": {},
   "source": [
    "# Modeling"
   ]
  },
  {
   "cell_type": "code",
   "execution_count": 11,
   "id": "14afb37b",
   "metadata": {},
   "outputs": [],
   "source": [
    "#Importing classification libraries\n",
    "from sklearn.preprocessing import StandardScaler\n",
    "from sklearn.ensemble import ExtraTreesClassifier, RandomForestClassifier\n",
    "from xgboost import XGBClassifier\n",
    "from lightgbm import LGBMClassifier\n",
    "from sklearn.model_selection import train_test_split"
   ]
  },
  {
   "cell_type": "code",
   "execution_count": 12,
   "id": "40ab1d3b",
   "metadata": {},
   "outputs": [],
   "source": [
    "# Splitting Data set\n",
    "X_train, X_test, y_train, y_test = train_test_split(data_features, data_target, test_size=0.2, random_state=1)"
   ]
  },
  {
   "cell_type": "code",
   "execution_count": 13,
   "id": "b70f7bc1",
   "metadata": {},
   "outputs": [],
   "source": [
    "#Feature scaling of  dataset with standard scaler\n",
    "\n",
    "scaler = StandardScaler()\n",
    "X_train = pd.DataFrame(scaler.fit_transform(X_train), columns=X_train.columns)\n",
    "X_test = pd.DataFrame(scaler.transform(X_test), columns=X_test.columns)"
   ]
  },
  {
   "cell_type": "markdown",
   "id": "f7550d52",
   "metadata": {},
   "source": [
    "<b> Following metrics are calculated in scikit-learn’s classification report: </b> <br>"
   ]
  },
  {
   "attachments": {
    "metrics.png": {
     "image/png": "[encoded data removed]"
    }
   },
   "cell_type": "markdown",
   "id": "e7028aa4",
   "metadata": {},
   "source": [
    "![metrics.png](attachment:metrics.png)"
   ]
  },
  {
   "cell_type": "markdown",
   "id": "6c435d51",
   "metadata": {},
   "source": [
    "## 1. Random Forest"
   ]
  },
  {
   "cell_type": "code",
   "execution_count": 14,
   "id": "aa9ad7f4",
   "metadata": {},
   "outputs": [],
   "source": [
    "# Random Forest Classifier\n",
    "random_forest = RandomForestClassifier(random_state=1)\n",
    " \n",
    "# Fitting of model\n",
    "random_forest.fit(X_train, y_train)\n",
    " \n",
    "# Predicting\n",
    "y_test_predictions = random_forest.predict(X_test)"
   ]
  },
  {
   "cell_type": "markdown",
   "id": "6a7c4795",
   "metadata": {},
   "source": [
    "<b> Confusion matrix for Random Forest Classifier: </b> "
   ]
  },
  {
   "cell_type": "code",
   "execution_count": 15,
   "id": "b493e597",
   "metadata": {},
   "outputs": [
    {
     "data": {
      "text/plain": [
       "array([[ 625,   87],\n",
       "       [  55, 1233]], dtype=int64)"
      ]
     },
     "execution_count": 15,
     "metadata": {},
     "output_type": "execute_result"
    }
   ],
   "source": [
    "from sklearn.metrics import confusion_matrix\n",
    "\n",
    "CM_RFC= confusion_matrix(y_true= y_test, y_pred= y_test_predictions , labels= ['stable', 'unstable'])\n",
    "\n",
    "CM_RFC"
   ]
  },
  {
   "cell_type": "markdown",
   "id": "12680c1c",
   "metadata": {},
   "source": [
    "## Question 14 "
   ]
  },
  {
   "cell_type": "markdown",
   "id": "397e6618",
   "metadata": {},
   "source": [
    "<b> Classification Report to find metrics for Random Forest Classifier: </b>"
   ]
  },
  {
   "cell_type": "code",
   "execution_count": 16,
   "id": "e7ad4ab2",
   "metadata": {},
   "outputs": [
    {
     "name": "stdout",
     "output_type": "stream",
     "text": [
      "              precision    recall  f1-score   support\n",
      "\n",
      "      stable     0.9191    0.8778    0.8980       712\n",
      "    unstable     0.9341    0.9573    0.9456      1288\n",
      "\n",
      "    accuracy                         0.9290      2000\n",
      "   macro avg     0.9266    0.9176    0.9218      2000\n",
      "weighted avg     0.9288    0.9290    0.9286      2000\n",
      "\n"
     ]
    }
   ],
   "source": [
    "from sklearn.metrics import classification_report\n",
    "print(classification_report(y_test, y_test_predictions , digits= 4))"
   ]
  },
  {
   "cell_type": "markdown",
   "id": "739a2b49",
   "metadata": {},
   "source": [
    "<b> Accuracy of Random Forest classifier is 0.9290 </b>"
   ]
  },
  {
   "cell_type": "markdown",
   "id": "4ff5ef70",
   "metadata": {},
   "source": [
    "## 2. Xtreme Gradient Boosting (XGBoost)"
   ]
  },
  {
   "cell_type": "code",
   "execution_count": 17,
   "id": "5c608bd4",
   "metadata": {},
   "outputs": [],
   "source": [
    "#Defining parameters\n",
    "parameters= {'max_depth': 3, 'eta': 0.3, 'objective': 'multi:softprob',\n",
    "       'num_class': 2}\n",
    "steps= 20"
   ]
  },
  {
   "cell_type": "code",
   "execution_count": 18,
   "id": "35b36ab5",
   "metadata": {},
   "outputs": [
    {
     "name": "stdout",
     "output_type": "stream",
     "text": [
      "[21:22:53] WARNING: C:/Users/Administrator/workspace/xgboost-win64_release_1.5.1/src/learner.cc:576: \n",
      "Parameters: { \"param\" } might not be used.\n",
      "\n",
      "  This could be a false alarm, with some parameters getting used by language bindings but\n",
      "  then being mistakenly passed down to XGBoost core, or some parameter actually being used\n",
      "  but getting flagged wrongly here. Please open an issue if you find any such cases.\n",
      "\n",
      "\n",
      "[21:22:53] WARNING: C:/Users/Administrator/workspace/xgboost-win64_release_1.5.1/src/learner.cc:1115: Starting in XGBoost 1.3.0, the default evaluation metric used with the objective 'binary:logistic' was changed from 'error' to 'logloss'. Explicitly set eval_metric if you'd like to restore the old behavior.\n"
     ]
    },
    {
     "data": {
      "text/plain": [
       "XGBClassifier(base_score=0.5, booster='gbtree', colsample_bylevel=1,\n",
       "              colsample_bynode=1, colsample_bytree=1, enable_categorical=False,\n",
       "              gamma=0, gpu_id=-1, importance_type=None,\n",
       "              interaction_constraints='', learning_rate=0.300000012,\n",
       "              max_delta_step=0, max_depth=6, min_child_weight=1, missing=nan,\n",
       "              monotone_constraints='()', n_estimators=100, n_jobs=12,\n",
       "              num_parallel_tree=1,\n",
       "              param={'eta': 0.3, 'max_depth': 3, 'num_class': 2,\n",
       "                     'objective': 'multi:softprob'},\n",
       "              predictor='auto', random_state=1, reg_alpha=0, reg_lambda=1,\n",
       "              scale_pos_weight=1, subsample=1, tree_method='exact',\n",
       "              validate_parameters=1, verbosity=None)"
      ]
     },
     "execution_count": 18,
     "metadata": {},
     "output_type": "execute_result"
    }
   ],
   "source": [
    "# instantiating XGBoost Classifier and fitting model\n",
    "\n",
    "xgboost_clas = xgb.XGBClassifier(param= parameters, random_state= 1)\n",
    "xgboost_clas.fit(X_train, y_train)"
   ]
  },
  {
   "cell_type": "markdown",
   "id": "bdab5f3f",
   "metadata": {},
   "source": [
    "<b> Confusion matrix for XGBoosting: </b>"
   ]
  },
  {
   "cell_type": "code",
   "execution_count": 19,
   "id": "266c4694",
   "metadata": {},
   "outputs": [
    {
     "data": {
      "text/plain": [
       "array([[ 648,   64],\n",
       "       [  45, 1243]], dtype=int64)"
      ]
     },
     "execution_count": 19,
     "metadata": {},
     "output_type": "execute_result"
    }
   ],
   "source": [
    "xgboost_pred= xgboost_clas.predict(X_test)\n",
    "\n",
    "cm_xgb= confusion_matrix(y_true= y_test, y_pred= xgboost_pred, labels= ['stable', 'unstable'])\n",
    "cm_xgb"
   ]
  },
  {
   "cell_type": "markdown",
   "id": "f618108a",
   "metadata": {},
   "source": [
    "## Question 06"
   ]
  },
  {
   "cell_type": "markdown",
   "id": "18976c0d",
   "metadata": {},
   "source": [
    "<b> Classification Report to find metrics for XGBoosting: </b>"
   ]
  },
  {
   "cell_type": "code",
   "execution_count": 20,
   "id": "df9a65bc",
   "metadata": {},
   "outputs": [
    {
     "name": "stdout",
     "output_type": "stream",
     "text": [
      "              precision    recall  f1-score   support\n",
      "\n",
      "      stable     0.9351    0.9101    0.9224       712\n",
      "    unstable     0.9510    0.9651    0.9580      1288\n",
      "\n",
      "    accuracy                         0.9455      2000\n",
      "   macro avg     0.9430    0.9376    0.9402      2000\n",
      "weighted avg     0.9453    0.9455    0.9453      2000\n",
      "\n"
     ]
    }
   ],
   "source": [
    "print(classification_report(y_test, xgboost_pred, digits= 4))"
   ]
  },
  {
   "cell_type": "markdown",
   "id": "27aace25",
   "metadata": {},
   "source": [
    "<b> Accuracy of XGBoost classifier is 0.9455 </b>"
   ]
  },
  {
   "cell_type": "markdown",
   "id": "566b6427",
   "metadata": {},
   "source": [
    "## 3. LightGBM"
   ]
  },
  {
   "cell_type": "code",
   "execution_count": 21,
   "id": "76052e57",
   "metadata": {},
   "outputs": [],
   "source": [
    "# Fitting the model\n",
    "lgbm_clas= lgb.LGBMClassifier(random_state= 1)\n",
    "lgbm_clas.fit(X_train, y_train)\n",
    "lgbm_pred = lgbm_clas.predict(X_test)"
   ]
  },
  {
   "cell_type": "markdown",
   "id": "5982f7fe",
   "metadata": {},
   "source": [
    "<b> Confusion matrix for LGBM: </b>"
   ]
  },
  {
   "cell_type": "code",
   "execution_count": 22,
   "id": "407e8dda",
   "metadata": {},
   "outputs": [
    {
     "data": {
      "text/plain": [
       "array([[ 641,   71],\n",
       "       [  50, 1238]], dtype=int64)"
      ]
     },
     "execution_count": 22,
     "metadata": {},
     "output_type": "execute_result"
    }
   ],
   "source": [
    "cm_lgbm= confusion_matrix(y_true= y_test, y_pred= lgbm_pred, labels= ['stable', 'unstable'])\n",
    "\n",
    "cm_lgbm"
   ]
  },
  {
   "cell_type": "markdown",
   "id": "109bbab3",
   "metadata": {},
   "source": [
    "## Question 08"
   ]
  },
  {
   "cell_type": "markdown",
   "id": "2d73d078",
   "metadata": {},
   "source": [
    "<B> Classification Report to find metrics for LGBM: </B>"
   ]
  },
  {
   "cell_type": "code",
   "execution_count": 23,
   "id": "ee217b2d",
   "metadata": {},
   "outputs": [
    {
     "name": "stdout",
     "output_type": "stream",
     "text": [
      "              precision    recall  f1-score   support\n",
      "\n",
      "      stable     0.9276    0.9003    0.9138       712\n",
      "    unstable     0.9458    0.9612    0.9534      1288\n",
      "\n",
      "    accuracy                         0.9395      2000\n",
      "   macro avg     0.9367    0.9307    0.9336      2000\n",
      "weighted avg     0.9393    0.9395    0.9393      2000\n",
      "\n"
     ]
    }
   ],
   "source": [
    "print(classification_report(y_test, lgbm_pred, digits=4))"
   ]
  },
  {
   "cell_type": "markdown",
   "id": "9fe7a4f1",
   "metadata": {},
   "source": [
    "<b> Accuracy of LGBM classifier is 0.9395 </b>"
   ]
  },
  {
   "cell_type": "markdown",
   "id": "2a27ce53",
   "metadata": {},
   "source": [
    "## 4. Extra Tree Classification"
   ]
  },
  {
   "cell_type": "code",
   "execution_count": 24,
   "id": "ba644328",
   "metadata": {},
   "outputs": [],
   "source": [
    "#Extra Trees Classifier () function and fitting the model\n",
    "\n",
    "ET_clas= ExtraTreesClassifier(random_state= 1)\n",
    "ET_clas.fit(X_train, y_train)\n",
    "ETC_pred= ET_clas.predict(X_test)"
   ]
  },
  {
   "cell_type": "markdown",
   "id": "0feb167a",
   "metadata": {},
   "source": [
    "<b> Confusion matrix for Extra Tree Classification: </b>"
   ]
  },
  {
   "cell_type": "code",
   "execution_count": 25,
   "id": "0012ec6d",
   "metadata": {},
   "outputs": [
    {
     "data": {
      "text/plain": [
       "array([[ 606,  106],\n",
       "       [  38, 1250]], dtype=int64)"
      ]
     },
     "execution_count": 25,
     "metadata": {},
     "output_type": "execute_result"
    }
   ],
   "source": [
    "cm_ETC= confusion_matrix(y_true= y_test, y_pred= ETC_pred, labels= ['stable', 'unstable'])\n",
    "\n",
    "cm_ETC"
   ]
  },
  {
   "cell_type": "markdown",
   "id": "b0bfbb48",
   "metadata": {},
   "source": [
    "<b> Classification Report to find metrics for Extra Tree Classification: </b>"
   ]
  },
  {
   "cell_type": "code",
   "execution_count": 26,
   "id": "67fff092",
   "metadata": {},
   "outputs": [
    {
     "name": "stdout",
     "output_type": "stream",
     "text": [
      "              precision    recall  f1-score   support\n",
      "\n",
      "      stable     0.9410    0.8511    0.8938       712\n",
      "    unstable     0.9218    0.9705    0.9455      1288\n",
      "\n",
      "    accuracy                         0.9280      2000\n",
      "   macro avg     0.9314    0.9108    0.9197      2000\n",
      "weighted avg     0.9287    0.9280    0.9271      2000\n",
      "\n"
     ]
    }
   ],
   "source": [
    "print(classification_report(y_test, ETC_pred, digits=4))"
   ]
  },
  {
   "cell_type": "markdown",
   "id": "030b1438",
   "metadata": {},
   "source": [
    "# <EM> Randomized Search CV on Extra Trees Classifier (Tuning) </EM> "
   ]
  },
  {
   "cell_type": "code",
   "execution_count": 27,
   "id": "b806391b",
   "metadata": {},
   "outputs": [],
   "source": [
    "from sklearn.model_selection import RandomizedSearchCV\n",
    "# define parameters\n",
    "ETC_parameters= {'n_estimators': [50, 100, 300, 500, 1000],\n",
    "           'min_samples_leaf':[1, 2, 4, 6, 8],\n",
    "           'min_samples_split': [2, 3, 5, 7, 9],\n",
    "           'max_features': ['auto', 'sqrt', 'log2', None]}"
   ]
  },
  {
   "cell_type": "code",
   "execution_count": 28,
   "id": "4aa3f02f",
   "metadata": {},
   "outputs": [],
   "source": [
    "# Intitialising Random search\n",
    "ETC_rscv= RandomizedSearchCV(estimator= ET_clas, param_distributions= ETC_parameters,cv=5, n_iter=10, \n",
    "                             scoring = 'accuracy', n_jobs = -1, verbose = 1, random_state= 1)"
   ]
  },
  {
   "cell_type": "code",
   "execution_count": 29,
   "id": "6bc1683e",
   "metadata": {},
   "outputs": [
    {
     "name": "stdout",
     "output_type": "stream",
     "text": [
      "Fitting 5 folds for each of 10 candidates, totalling 50 fits\n"
     ]
    },
    {
     "data": {
      "text/plain": [
       "RandomizedSearchCV(cv=5, estimator=ExtraTreesClassifier(random_state=1),\n",
       "                   n_jobs=-1,\n",
       "                   param_distributions={'max_features': ['auto', 'sqrt', 'log2',\n",
       "                                                         None],\n",
       "                                        'min_samples_leaf': [1, 2, 4, 6, 8],\n",
       "                                        'min_samples_split': [2, 3, 5, 7, 9],\n",
       "                                        'n_estimators': [50, 100, 300, 500,\n",
       "                                                         1000]},\n",
       "                   random_state=1, scoring='accuracy', verbose=1)"
      ]
     },
     "execution_count": 29,
     "metadata": {},
     "output_type": "execute_result"
    }
   ],
   "source": [
    "# fitting the model\n",
    "ETC_rscv.fit(X_train, y_train)"
   ]
  },
  {
   "cell_type": "markdown",
   "id": "ee39551f",
   "metadata": {},
   "source": [
    "## Question 12"
   ]
  },
  {
   "cell_type": "code",
   "execution_count": 30,
   "id": "1c5c1a3e",
   "metadata": {},
   "outputs": [
    {
     "data": {
      "text/plain": [
       "{'n_estimators': 1000,\n",
       " 'min_samples_split': 2,\n",
       " 'min_samples_leaf': 8,\n",
       " 'max_features': None}"
      ]
     },
     "execution_count": 30,
     "metadata": {},
     "output_type": "execute_result"
    }
   ],
   "source": [
    "# Printing out the best parameter\n",
    "ETC_rscv.best_params_"
   ]
  },
  {
   "cell_type": "code",
   "execution_count": 31,
   "id": "589bfd3d",
   "metadata": {},
   "outputs": [],
   "source": [
    "rscv_pred= ETC_rscv.predict(X_test)\n"
   ]
  },
  {
   "cell_type": "markdown",
   "id": "342fb70b",
   "metadata": {},
   "source": [
    "<b> Confusion matrix for Random Search CV on ETC: </b>"
   ]
  },
  {
   "cell_type": "code",
   "execution_count": 32,
   "id": "3fceb190",
   "metadata": {},
   "outputs": [
    {
     "data": {
      "text/plain": [
       "array([[ 619,   93],\n",
       "       [  53, 1235]], dtype=int64)"
      ]
     },
     "execution_count": 32,
     "metadata": {},
     "output_type": "execute_result"
    }
   ],
   "source": [
    "cm_etc_rscv= confusion_matrix(y_true= y_test, y_pred= rscv_pred, labels= ['stable', 'unstable'])\n",
    "\n",
    "cm_etc_rscv"
   ]
  },
  {
   "cell_type": "markdown",
   "id": "59b59f80",
   "metadata": {},
   "source": [
    "<b> Classification Report to find metrics for Random Search CV for Extra Tree Classifier: </b>"
   ]
  },
  {
   "cell_type": "markdown",
   "id": "a3d6eaad",
   "metadata": {},
   "source": [
    "## Question 13"
   ]
  },
  {
   "cell_type": "code",
   "execution_count": 33,
   "id": "03b2500b",
   "metadata": {},
   "outputs": [
    {
     "name": "stdout",
     "output_type": "stream",
     "text": [
      "              precision    recall  f1-score   support\n",
      "\n",
      "      stable     0.9211    0.8694    0.8945       712\n",
      "    unstable     0.9300    0.9589    0.9442      1288\n",
      "\n",
      "    accuracy                         0.9270      2000\n",
      "   macro avg     0.9256    0.9141    0.9193      2000\n",
      "weighted avg     0.9268    0.9270    0.9265      2000\n",
      "\n"
     ]
    }
   ],
   "source": [
    "print(classification_report(y_test, rscv_pred, digits= 4))"
   ]
  },
  {
   "cell_type": "markdown",
   "id": "841f31fa",
   "metadata": {},
   "source": [
    "<b> Its has been observed that there is drop in accuracy of the Extra Tree Classifier model. Previously its was 0.9280 and now it is 0.9270 </b>"
   ]
  },
  {
   "cell_type": "markdown",
   "id": "fc277972",
   "metadata": {},
   "source": [
    "## Question 20"
   ]
  },
  {
   "cell_type": "code",
   "execution_count": 34,
   "id": "549b7d6c",
   "metadata": {},
   "outputs": [
    {
     "name": "stdout",
     "output_type": "stream",
     "text": [
      "[0.11739736 0.11844468 0.11316851 0.11546569 0.03950675 0.04037132\n",
      " 0.04070628 0.04057864 0.08978291 0.09367636 0.09688268 0.09401882]\n"
     ]
    }
   ],
   "source": [
    "# determining the importance of the features\n",
    "print(ET_clas.feature_importances_)"
   ]
  },
  {
   "cell_type": "markdown",
   "id": "aaefa96f",
   "metadata": {},
   "source": [
    "<b>The most importanat feature is tau2, and the leas onet is p1. </b>"
   ]
  }
 ],
 "metadata": {
  "kernelspec": {
   "display_name": "Python 3 (ipykernel)",
   "language": "python",
   "name": "python3"
  },
  "language_info": {
   "codemirror_mode": {
    "name": "ipython",
    "version": 3
   },
   "file_extension": ".py",
   "mimetype": "text/x-python",
   "name": "python",
   "nbconvert_exporter": "python",
   "pygments_lexer": "ipython3",
   "version": "3.9.7"
  }
 },
 "nbformat": 4,
 "nbformat_minor": 5
}
