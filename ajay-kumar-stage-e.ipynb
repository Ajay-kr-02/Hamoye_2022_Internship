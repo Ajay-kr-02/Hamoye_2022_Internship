{
 "cells": [
  {
   "cell_type": "markdown",
   "id": "db3dd140",
   "metadata": {
    "papermill": {
     "duration": 0.054784,
     "end_time": "2022-04-04T07:24:28.736666",
     "exception": false,
     "start_time": "2022-04-04T07:24:28.681882",
     "status": "completed"
    },
    "tags": []
   },
   "source": [
    "<b> Name: Ajay Kumar <br>\n",
    "    Hamoye ID: 147bffea7681f000 </b>"
   ]
  },
  {
   "cell_type": "code",
   "execution_count": 1,
   "id": "f53ae9d7",
   "metadata": {
    "execution": {
     "iopub.execute_input": "2022-04-04T07:24:28.875225Z",
     "iopub.status.busy": "2022-04-04T07:24:28.868650Z",
     "iopub.status.idle": "2022-04-04T07:24:30.348637Z",
     "shell.execute_reply": "2022-04-04T07:24:30.347590Z",
     "shell.execute_reply.started": "2022-04-04T07:11:39.490326Z"
    },
    "papermill": {
     "duration": 1.546383,
     "end_time": "2022-04-04T07:24:30.348798",
     "exception": false,
     "start_time": "2022-04-04T07:24:28.802415",
     "status": "completed"
    },
    "tags": []
   },
   "outputs": [],
   "source": [
    "import numpy as np\n",
    "import pandas as pd\n",
    "import matplotlib.pyplot as plt\n",
    "import seaborn as sns\n",
    "from statsmodels.tsa.stattools import adfuller\n",
    "from fbprophet import Prophet"
   ]
  },
  {
   "cell_type": "code",
   "execution_count": 2,
   "id": "c5fe12a6",
   "metadata": {
    "execution": {
     "iopub.execute_input": "2022-04-04T07:24:30.460003Z",
     "iopub.status.busy": "2022-04-04T07:24:30.459261Z",
     "iopub.status.idle": "2022-04-04T07:24:30.639388Z",
     "shell.execute_reply": "2022-04-04T07:24:30.638750Z",
     "shell.execute_reply.started": "2022-04-04T07:11:40.906778Z"
    },
    "papermill": {
     "duration": 0.237843,
     "end_time": "2022-04-04T07:24:30.639553",
     "exception": false,
     "start_time": "2022-04-04T07:24:30.401710",
     "status": "completed"
    },
    "tags": []
   },
   "outputs": [],
   "source": [
    "data = pd.read_csv('../input/time-series-forecasting/Time_series_analysis_and_forecast_DATASET.csv')"
   ]
  },
  {
   "cell_type": "code",
   "execution_count": 3,
   "id": "46f8c9e4",
   "metadata": {
    "execution": {
     "iopub.execute_input": "2022-04-04T07:24:30.756046Z",
     "iopub.status.busy": "2022-04-04T07:24:30.755021Z",
     "iopub.status.idle": "2022-04-04T07:24:30.770408Z",
     "shell.execute_reply": "2022-04-04T07:24:30.770920Z",
     "shell.execute_reply.started": "2022-04-04T07:11:41.094787Z"
    },
    "papermill": {
     "duration": 0.077737,
     "end_time": "2022-04-04T07:24:30.771107",
     "exception": false,
     "start_time": "2022-04-04T07:24:30.693370",
     "status": "completed"
    },
    "tags": []
   },
   "outputs": [
    {
     "data": {
      "text/html": [
       "<div>\n",
       "<style scoped>\n",
       "    .dataframe tbody tr th:only-of-type {\n",
       "        vertical-align: middle;\n",
       "    }\n",
       "\n",
       "    .dataframe tbody tr th {\n",
       "        vertical-align: top;\n",
       "    }\n",
       "\n",
       "    .dataframe thead th {\n",
       "        text-align: right;\n",
       "    }\n",
       "</style>\n",
       "<table border=\"1\" class=\"dataframe\">\n",
       "  <thead>\n",
       "    <tr style=\"text-align: right;\">\n",
       "      <th></th>\n",
       "      <th>FullDate</th>\n",
       "      <th>Tmax</th>\n",
       "      <th>SysLoad</th>\n",
       "      <th>GasPrice</th>\n",
       "      <th>ElecPrice</th>\n",
       "    </tr>\n",
       "  </thead>\n",
       "  <tbody>\n",
       "    <tr>\n",
       "      <th>0</th>\n",
       "      <td>2010-09-01 00:00:00</td>\n",
       "      <td>15.8</td>\n",
       "      <td>1688.215</td>\n",
       "      <td>3.69</td>\n",
       "      <td>23.710</td>\n",
       "    </tr>\n",
       "    <tr>\n",
       "      <th>1</th>\n",
       "      <td>2010-09-01 01:00:00</td>\n",
       "      <td>15.8</td>\n",
       "      <td>1669.195</td>\n",
       "      <td>3.69</td>\n",
       "      <td>22.635</td>\n",
       "    </tr>\n",
       "    <tr>\n",
       "      <th>2</th>\n",
       "      <td>2010-09-01 02:00:00</td>\n",
       "      <td>15.8</td>\n",
       "      <td>1491.980</td>\n",
       "      <td>3.69</td>\n",
       "      <td>22.565</td>\n",
       "    </tr>\n",
       "    <tr>\n",
       "      <th>3</th>\n",
       "      <td>2010-09-01 03:00:00</td>\n",
       "      <td>15.8</td>\n",
       "      <td>1330.760</td>\n",
       "      <td>3.69</td>\n",
       "      <td>18.910</td>\n",
       "    </tr>\n",
       "    <tr>\n",
       "      <th>4</th>\n",
       "      <td>2010-09-01 04:00:00</td>\n",
       "      <td>15.8</td>\n",
       "      <td>1247.940</td>\n",
       "      <td>3.69</td>\n",
       "      <td>18.030</td>\n",
       "    </tr>\n",
       "  </tbody>\n",
       "</table>\n",
       "</div>"
      ],
      "text/plain": [
       "              FullDate  Tmax   SysLoad  GasPrice  ElecPrice\n",
       "0  2010-09-01 00:00:00  15.8  1688.215      3.69     23.710\n",
       "1  2010-09-01 01:00:00  15.8  1669.195      3.69     22.635\n",
       "2  2010-09-01 02:00:00  15.8  1491.980      3.69     22.565\n",
       "3  2010-09-01 03:00:00  15.8  1330.760      3.69     18.910\n",
       "4  2010-09-01 04:00:00  15.8  1247.940      3.69     18.030"
      ]
     },
     "execution_count": 3,
     "metadata": {},
     "output_type": "execute_result"
    }
   ],
   "source": [
    "data.head()"
   ]
  },
  {
   "cell_type": "markdown",
   "id": "7ad9327a",
   "metadata": {
    "papermill": {
     "duration": 0.053234,
     "end_time": "2022-04-04T07:24:30.878480",
     "exception": false,
     "start_time": "2022-04-04T07:24:30.825246",
     "status": "completed"
    },
    "tags": []
   },
   "source": [
    "**Description of Data Set**\n",
    "* FullDate: Date in format yyyy-mm-dd  hh:mm:ss\n",
    "\n",
    "* ElecPrice: Prices of electricity charged in Kw per hour\n",
    "\n",
    "* Gas Price: power generated was done via a gas power plant, gas price is the price of gas at time-T\n",
    "\n",
    "* SysLoad: Total Load on system or Power consumed at time-T \n",
    "* Tmax: maximum temperature at time-T"
   ]
  },
  {
   "cell_type": "code",
   "execution_count": 4,
   "id": "722d9ccb",
   "metadata": {
    "execution": {
     "iopub.execute_input": "2022-04-04T07:24:30.994360Z",
     "iopub.status.busy": "2022-04-04T07:24:30.993407Z",
     "iopub.status.idle": "2022-04-04T07:24:31.024608Z",
     "shell.execute_reply": "2022-04-04T07:24:31.025176Z",
     "shell.execute_reply.started": "2022-04-04T07:11:41.119590Z"
    },
    "papermill": {
     "duration": 0.093136,
     "end_time": "2022-04-04T07:24:31.025369",
     "exception": false,
     "start_time": "2022-04-04T07:24:30.932233",
     "status": "completed"
    },
    "tags": []
   },
   "outputs": [
    {
     "name": "stdout",
     "output_type": "stream",
     "text": [
      "<class 'pandas.core.frame.DataFrame'>\n",
      "RangeIndex: 92016 entries, 0 to 92015\n",
      "Data columns (total 5 columns):\n",
      " #   Column     Non-Null Count  Dtype  \n",
      "---  ------     --------------  -----  \n",
      " 0   FullDate   92016 non-null  object \n",
      " 1   Tmax       92016 non-null  float64\n",
      " 2   SysLoad    92016 non-null  float64\n",
      " 3   GasPrice   92016 non-null  float64\n",
      " 4   ElecPrice  92016 non-null  float64\n",
      "dtypes: float64(4), object(1)\n",
      "memory usage: 3.5+ MB\n"
     ]
    }
   ],
   "source": [
    "data.info()"
   ]
  },
  {
   "cell_type": "markdown",
   "id": "37a59f1d",
   "metadata": {
    "papermill": {
     "duration": 0.054363,
     "end_time": "2022-04-04T07:24:31.134120",
     "exception": false,
     "start_time": "2022-04-04T07:24:31.079757",
     "status": "completed"
    },
    "tags": []
   },
   "source": [
    "**Column FullDate is object type rest of the features are of float data type.**"
   ]
  },
  {
   "cell_type": "code",
   "execution_count": 5,
   "id": "754a3f15",
   "metadata": {
    "execution": {
     "iopub.execute_input": "2022-04-04T07:24:31.246784Z",
     "iopub.status.busy": "2022-04-04T07:24:31.246017Z",
     "iopub.status.idle": "2022-04-04T07:24:31.264593Z",
     "shell.execute_reply": "2022-04-04T07:24:31.265107Z",
     "shell.execute_reply.started": "2022-04-04T07:11:41.156159Z"
    },
    "papermill": {
     "duration": 0.076576,
     "end_time": "2022-04-04T07:24:31.265278",
     "exception": false,
     "start_time": "2022-04-04T07:24:31.188702",
     "status": "completed"
    },
    "tags": []
   },
   "outputs": [
    {
     "data": {
      "text/plain": [
       "FullDate     0\n",
       "Tmax         0\n",
       "SysLoad      0\n",
       "GasPrice     0\n",
       "ElecPrice    0\n",
       "dtype: int64"
      ]
     },
     "execution_count": 5,
     "metadata": {},
     "output_type": "execute_result"
    }
   ],
   "source": [
    "data.isnull().sum()"
   ]
  },
  {
   "cell_type": "markdown",
   "id": "18a6a687",
   "metadata": {
    "papermill": {
     "duration": 0.05508,
     "end_time": "2022-04-04T07:24:31.374815",
     "exception": false,
     "start_time": "2022-04-04T07:24:31.319735",
     "status": "completed"
    },
    "tags": []
   },
   "source": [
    "**There are no missing values.**"
   ]
  },
  {
   "cell_type": "code",
   "execution_count": 6,
   "id": "787b2110",
   "metadata": {
    "execution": {
     "iopub.execute_input": "2022-04-04T07:24:31.487043Z",
     "iopub.status.busy": "2022-04-04T07:24:31.486387Z",
     "iopub.status.idle": "2022-04-04T07:24:31.522974Z",
     "shell.execute_reply": "2022-04-04T07:24:31.522293Z",
     "shell.execute_reply.started": "2022-04-04T07:11:41.177025Z"
    },
    "papermill": {
     "duration": 0.094071,
     "end_time": "2022-04-04T07:24:31.523116",
     "exception": false,
     "start_time": "2022-04-04T07:24:31.429045",
     "status": "completed"
    },
    "tags": []
   },
   "outputs": [
    {
     "data": {
      "text/html": [
       "<div>\n",
       "<style scoped>\n",
       "    .dataframe tbody tr th:only-of-type {\n",
       "        vertical-align: middle;\n",
       "    }\n",
       "\n",
       "    .dataframe tbody tr th {\n",
       "        vertical-align: top;\n",
       "    }\n",
       "\n",
       "    .dataframe thead th {\n",
       "        text-align: right;\n",
       "    }\n",
       "</style>\n",
       "<table border=\"1\" class=\"dataframe\">\n",
       "  <thead>\n",
       "    <tr style=\"text-align: right;\">\n",
       "      <th></th>\n",
       "      <th>Tmax</th>\n",
       "      <th>SysLoad</th>\n",
       "      <th>GasPrice</th>\n",
       "      <th>ElecPrice</th>\n",
       "    </tr>\n",
       "  </thead>\n",
       "  <tbody>\n",
       "    <tr>\n",
       "      <th>count</th>\n",
       "      <td>92016.000000</td>\n",
       "      <td>92016.000000</td>\n",
       "      <td>92016.000000</td>\n",
       "      <td>92016.000000</td>\n",
       "    </tr>\n",
       "    <tr>\n",
       "      <th>mean</th>\n",
       "      <td>231.696688</td>\n",
       "      <td>797.623357</td>\n",
       "      <td>6.016163</td>\n",
       "      <td>65.798356</td>\n",
       "    </tr>\n",
       "    <tr>\n",
       "      <th>std</th>\n",
       "      <td>4562.128748</td>\n",
       "      <td>613.520156</td>\n",
       "      <td>2.608116</td>\n",
       "      <td>213.144084</td>\n",
       "    </tr>\n",
       "    <tr>\n",
       "      <th>min</th>\n",
       "      <td>9.900000</td>\n",
       "      <td>-1596.810100</td>\n",
       "      <td>0.000000</td>\n",
       "      <td>-924.820000</td>\n",
       "    </tr>\n",
       "    <tr>\n",
       "      <th>25%</th>\n",
       "      <td>17.300000</td>\n",
       "      <td>417.119800</td>\n",
       "      <td>3.936900</td>\n",
       "      <td>31.543750</td>\n",
       "    </tr>\n",
       "    <tr>\n",
       "      <th>50%</th>\n",
       "      <td>21.900000</td>\n",
       "      <td>856.467925</td>\n",
       "      <td>5.165600</td>\n",
       "      <td>48.715000</td>\n",
       "    </tr>\n",
       "    <tr>\n",
       "      <th>75%</th>\n",
       "      <td>27.600000</td>\n",
       "      <td>1221.293675</td>\n",
       "      <td>8.023300</td>\n",
       "      <td>76.495000</td>\n",
       "    </tr>\n",
       "    <tr>\n",
       "      <th>max</th>\n",
       "      <td>99999.900000</td>\n",
       "      <td>3264.166300</td>\n",
       "      <td>29.990000</td>\n",
       "      <td>14700.000000</td>\n",
       "    </tr>\n",
       "  </tbody>\n",
       "</table>\n",
       "</div>"
      ],
      "text/plain": [
       "               Tmax       SysLoad      GasPrice     ElecPrice\n",
       "count  92016.000000  92016.000000  92016.000000  92016.000000\n",
       "mean     231.696688    797.623357      6.016163     65.798356\n",
       "std     4562.128748    613.520156      2.608116    213.144084\n",
       "min        9.900000  -1596.810100      0.000000   -924.820000\n",
       "25%       17.300000    417.119800      3.936900     31.543750\n",
       "50%       21.900000    856.467925      5.165600     48.715000\n",
       "75%       27.600000   1221.293675      8.023300     76.495000\n",
       "max    99999.900000   3264.166300     29.990000  14700.000000"
      ]
     },
     "execution_count": 6,
     "metadata": {},
     "output_type": "execute_result"
    }
   ],
   "source": [
    "data.describe() # Gettiing statistcal values of each feature."
   ]
  },
  {
   "cell_type": "code",
   "execution_count": 7,
   "id": "b8e65f3b",
   "metadata": {
    "execution": {
     "iopub.execute_input": "2022-04-04T07:24:31.671884Z",
     "iopub.status.busy": "2022-04-04T07:24:31.670933Z",
     "iopub.status.idle": "2022-04-04T07:24:31.675175Z",
     "shell.execute_reply": "2022-04-04T07:24:31.674651Z",
     "shell.execute_reply.started": "2022-04-04T07:11:41.217370Z"
    },
    "papermill": {
     "duration": 0.097282,
     "end_time": "2022-04-04T07:24:31.675322",
     "exception": false,
     "start_time": "2022-04-04T07:24:31.578040",
     "status": "completed"
    },
    "tags": []
   },
   "outputs": [],
   "source": [
    "data['FullDate']= pd.to_datetime(data['FullDate']) # Converting object type column into datetime column."
   ]
  },
  {
   "cell_type": "code",
   "execution_count": 8,
   "id": "a6b4229d",
   "metadata": {
    "execution": {
     "iopub.execute_input": "2022-04-04T07:24:31.793687Z",
     "iopub.status.busy": "2022-04-04T07:24:31.792310Z",
     "iopub.status.idle": "2022-04-04T07:24:31.797685Z",
     "shell.execute_reply": "2022-04-04T07:24:31.798269Z",
     "shell.execute_reply.started": "2022-04-04T07:11:41.257541Z"
    },
    "papermill": {
     "duration": 0.066727,
     "end_time": "2022-04-04T07:24:31.798448",
     "exception": false,
     "start_time": "2022-04-04T07:24:31.731721",
     "status": "completed"
    },
    "tags": []
   },
   "outputs": [],
   "source": [
    "data = data.set_index(\"FullDate\") # Converting FullDate column as row indexes."
   ]
  },
  {
   "cell_type": "code",
   "execution_count": 9,
   "id": "1e7fa590",
   "metadata": {
    "execution": {
     "iopub.execute_input": "2022-04-04T07:24:31.921141Z",
     "iopub.status.busy": "2022-04-04T07:24:31.919767Z",
     "iopub.status.idle": "2022-04-04T07:24:31.924734Z",
     "shell.execute_reply": "2022-04-04T07:24:31.925281Z",
     "shell.execute_reply.started": "2022-04-04T07:11:41.271987Z"
    },
    "papermill": {
     "duration": 0.071438,
     "end_time": "2022-04-04T07:24:31.925475",
     "exception": false,
     "start_time": "2022-04-04T07:24:31.854037",
     "status": "completed"
    },
    "tags": []
   },
   "outputs": [
    {
     "data": {
      "text/html": [
       "<div>\n",
       "<style scoped>\n",
       "    .dataframe tbody tr th:only-of-type {\n",
       "        vertical-align: middle;\n",
       "    }\n",
       "\n",
       "    .dataframe tbody tr th {\n",
       "        vertical-align: top;\n",
       "    }\n",
       "\n",
       "    .dataframe thead th {\n",
       "        text-align: right;\n",
       "    }\n",
       "</style>\n",
       "<table border=\"1\" class=\"dataframe\">\n",
       "  <thead>\n",
       "    <tr style=\"text-align: right;\">\n",
       "      <th></th>\n",
       "      <th>Tmax</th>\n",
       "      <th>SysLoad</th>\n",
       "      <th>GasPrice</th>\n",
       "      <th>ElecPrice</th>\n",
       "    </tr>\n",
       "    <tr>\n",
       "      <th>FullDate</th>\n",
       "      <th></th>\n",
       "      <th></th>\n",
       "      <th></th>\n",
       "      <th></th>\n",
       "    </tr>\n",
       "  </thead>\n",
       "  <tbody>\n",
       "    <tr>\n",
       "      <th>2010-09-01 00:00:00</th>\n",
       "      <td>15.8</td>\n",
       "      <td>1688.215</td>\n",
       "      <td>3.69</td>\n",
       "      <td>23.710</td>\n",
       "    </tr>\n",
       "    <tr>\n",
       "      <th>2010-09-01 01:00:00</th>\n",
       "      <td>15.8</td>\n",
       "      <td>1669.195</td>\n",
       "      <td>3.69</td>\n",
       "      <td>22.635</td>\n",
       "    </tr>\n",
       "    <tr>\n",
       "      <th>2010-09-01 02:00:00</th>\n",
       "      <td>15.8</td>\n",
       "      <td>1491.980</td>\n",
       "      <td>3.69</td>\n",
       "      <td>22.565</td>\n",
       "    </tr>\n",
       "    <tr>\n",
       "      <th>2010-09-01 03:00:00</th>\n",
       "      <td>15.8</td>\n",
       "      <td>1330.760</td>\n",
       "      <td>3.69</td>\n",
       "      <td>18.910</td>\n",
       "    </tr>\n",
       "    <tr>\n",
       "      <th>2010-09-01 04:00:00</th>\n",
       "      <td>15.8</td>\n",
       "      <td>1247.940</td>\n",
       "      <td>3.69</td>\n",
       "      <td>18.030</td>\n",
       "    </tr>\n",
       "  </tbody>\n",
       "</table>\n",
       "</div>"
      ],
      "text/plain": [
       "                     Tmax   SysLoad  GasPrice  ElecPrice\n",
       "FullDate                                                \n",
       "2010-09-01 00:00:00  15.8  1688.215      3.69     23.710\n",
       "2010-09-01 01:00:00  15.8  1669.195      3.69     22.635\n",
       "2010-09-01 02:00:00  15.8  1491.980      3.69     22.565\n",
       "2010-09-01 03:00:00  15.8  1330.760      3.69     18.910\n",
       "2010-09-01 04:00:00  15.8  1247.940      3.69     18.030"
      ]
     },
     "execution_count": 9,
     "metadata": {},
     "output_type": "execute_result"
    }
   ],
   "source": [
    "data.head()"
   ]
  },
  {
   "cell_type": "code",
   "execution_count": 10,
   "id": "28f2b4d8",
   "metadata": {
    "execution": {
     "iopub.execute_input": "2022-04-04T07:24:32.048665Z",
     "iopub.status.busy": "2022-04-04T07:24:32.047911Z",
     "iopub.status.idle": "2022-04-04T07:24:32.075529Z",
     "shell.execute_reply": "2022-04-04T07:24:32.076144Z",
     "shell.execute_reply.started": "2022-04-04T07:11:41.292571Z"
    },
    "papermill": {
     "duration": 0.091516,
     "end_time": "2022-04-04T07:24:32.076321",
     "exception": false,
     "start_time": "2022-04-04T07:24:31.984805",
     "status": "completed"
    },
    "tags": []
   },
   "outputs": [],
   "source": [
    "# Sampling Data for a day\n",
    "day_data = data.resample('D').sum()"
   ]
  },
  {
   "cell_type": "code",
   "execution_count": 11,
   "id": "34d1d3f8",
   "metadata": {
    "execution": {
     "iopub.execute_input": "2022-04-04T07:24:32.197997Z",
     "iopub.status.busy": "2022-04-04T07:24:32.197230Z",
     "iopub.status.idle": "2022-04-04T07:24:32.213211Z",
     "shell.execute_reply": "2022-04-04T07:24:32.213799Z",
     "shell.execute_reply.started": "2022-04-04T07:11:41.314545Z"
    },
    "papermill": {
     "duration": 0.08064,
     "end_time": "2022-04-04T07:24:32.213975",
     "exception": false,
     "start_time": "2022-04-04T07:24:32.133335",
     "status": "completed"
    },
    "tags": []
   },
   "outputs": [
    {
     "data": {
      "text/html": [
       "<div>\n",
       "<style scoped>\n",
       "    .dataframe tbody tr th:only-of-type {\n",
       "        vertical-align: middle;\n",
       "    }\n",
       "\n",
       "    .dataframe tbody tr th {\n",
       "        vertical-align: top;\n",
       "    }\n",
       "\n",
       "    .dataframe thead th {\n",
       "        text-align: right;\n",
       "    }\n",
       "</style>\n",
       "<table border=\"1\" class=\"dataframe\">\n",
       "  <thead>\n",
       "    <tr style=\"text-align: right;\">\n",
       "      <th></th>\n",
       "      <th>Tmax</th>\n",
       "      <th>SysLoad</th>\n",
       "      <th>GasPrice</th>\n",
       "      <th>ElecPrice</th>\n",
       "    </tr>\n",
       "    <tr>\n",
       "      <th>FullDate</th>\n",
       "      <th></th>\n",
       "      <th></th>\n",
       "      <th></th>\n",
       "      <th></th>\n",
       "    </tr>\n",
       "  </thead>\n",
       "  <tbody>\n",
       "    <tr>\n",
       "      <th>2010-09-01</th>\n",
       "      <td>379.2</td>\n",
       "      <td>41565.380</td>\n",
       "      <td>88.56</td>\n",
       "      <td>2751.700</td>\n",
       "    </tr>\n",
       "    <tr>\n",
       "      <th>2010-09-02</th>\n",
       "      <td>369.6</td>\n",
       "      <td>38898.990</td>\n",
       "      <td>88.56</td>\n",
       "      <td>570.810</td>\n",
       "    </tr>\n",
       "    <tr>\n",
       "      <th>2010-09-03</th>\n",
       "      <td>439.2</td>\n",
       "      <td>41665.760</td>\n",
       "      <td>106.80</td>\n",
       "      <td>504.975</td>\n",
       "    </tr>\n",
       "    <tr>\n",
       "      <th>2010-09-04</th>\n",
       "      <td>328.8</td>\n",
       "      <td>35638.085</td>\n",
       "      <td>81.36</td>\n",
       "      <td>502.275</td>\n",
       "    </tr>\n",
       "    <tr>\n",
       "      <th>2010-09-05</th>\n",
       "      <td>357.6</td>\n",
       "      <td>35611.410</td>\n",
       "      <td>106.80</td>\n",
       "      <td>500.555</td>\n",
       "    </tr>\n",
       "  </tbody>\n",
       "</table>\n",
       "</div>"
      ],
      "text/plain": [
       "             Tmax    SysLoad  GasPrice  ElecPrice\n",
       "FullDate                                         \n",
       "2010-09-01  379.2  41565.380     88.56   2751.700\n",
       "2010-09-02  369.6  38898.990     88.56    570.810\n",
       "2010-09-03  439.2  41665.760    106.80    504.975\n",
       "2010-09-04  328.8  35638.085     81.36    502.275\n",
       "2010-09-05  357.6  35611.410    106.80    500.555"
      ]
     },
     "execution_count": 11,
     "metadata": {},
     "output_type": "execute_result"
    }
   ],
   "source": [
    "day_data.head()"
   ]
  },
  {
   "cell_type": "code",
   "execution_count": 12,
   "id": "1f9b521a",
   "metadata": {
    "execution": {
     "iopub.execute_input": "2022-04-04T07:24:32.338125Z",
     "iopub.status.busy": "2022-04-04T07:24:32.337115Z",
     "iopub.status.idle": "2022-04-04T07:24:32.656887Z",
     "shell.execute_reply": "2022-04-04T07:24:32.657449Z",
     "shell.execute_reply.started": "2022-04-04T07:11:41.328829Z"
    },
    "papermill": {
     "duration": 0.383545,
     "end_time": "2022-04-04T07:24:32.657636",
     "exception": false,
     "start_time": "2022-04-04T07:24:32.274091",
     "status": "completed"
    },
    "tags": []
   },
   "outputs": [
    {
     "data": {
      "text/plain": [
       "Text(0, 0.5, 'Electric Price')"
      ]
     },
     "execution_count": 12,
     "metadata": {},
     "output_type": "execute_result"
    },
    {
     "data": {
      "image/png": "[encoded data removed]",
      "text/plain": [
       "<Figure size 1080x576 with 1 Axes>"
      ]
     },
     "metadata": {
      "needs_background": "light"
     },
     "output_type": "display_data"
    }
   ],
   "source": [
    "plt.figure(figsize=( 15 , 8 ))\n",
    "plt.plot(day_data.index, day_data['ElecPrice'], '--' , marker= '*' , )\n",
    "plt.grid()\n",
    "plt.xlabel( 'Year' )\n",
    "plt.ylabel( 'Electric Price' )"
   ]
  },
  {
   "cell_type": "code",
   "execution_count": 13,
   "id": "561cc5c7",
   "metadata": {
    "execution": {
     "iopub.execute_input": "2022-04-04T07:24:32.778063Z",
     "iopub.status.busy": "2022-04-04T07:24:32.777071Z",
     "iopub.status.idle": "2022-04-04T07:24:33.198965Z",
     "shell.execute_reply": "2022-04-04T07:24:33.199931Z",
     "shell.execute_reply.started": "2022-04-04T07:11:41.655339Z"
    },
    "papermill": {
     "duration": 0.484553,
     "end_time": "2022-04-04T07:24:33.200228",
     "exception": false,
     "start_time": "2022-04-04T07:24:32.715675",
     "status": "completed"
    },
    "tags": []
   },
   "outputs": [
    {
     "name": "stdout",
     "output_type": "stream",
     "text": [
      "SysLoad p-value: 0.004254\n",
      "GasPrice p-value: 0.045027\n"
     ]
    }
   ],
   "source": [
    "system_result = adfuller(day_data['SysLoad'])\n",
    "gas_result = adfuller(day_data['GasPrice'])\n",
    "print(f'SysLoad p-value: {round(system_result[1],6)}')\n",
    "print(f'GasPrice p-value: {round(gas_result[1],6)}')"
   ]
  },
  {
   "cell_type": "code",
   "execution_count": 14,
   "id": "7a279352",
   "metadata": {
    "execution": {
     "iopub.execute_input": "2022-04-04T07:24:33.374780Z",
     "iopub.status.busy": "2022-04-04T07:24:33.374128Z",
     "iopub.status.idle": "2022-04-04T07:24:33.575538Z",
     "shell.execute_reply": "2022-04-04T07:24:33.576487Z",
     "shell.execute_reply.started": "2022-04-04T07:11:42.060147Z"
    },
    "papermill": {
     "duration": 0.268552,
     "end_time": "2022-04-04T07:24:33.576793",
     "exception": false,
     "start_time": "2022-04-04T07:24:33.308241",
     "status": "completed"
    },
    "tags": []
   },
   "outputs": [],
   "source": [
    "electricity_result = adfuller(day_data['ElecPrice'])"
   ]
  },
  {
   "cell_type": "code",
   "execution_count": 15,
   "id": "e4413258",
   "metadata": {
    "execution": {
     "iopub.execute_input": "2022-04-04T07:24:33.755721Z",
     "iopub.status.busy": "2022-04-04T07:24:33.755031Z",
     "iopub.status.idle": "2022-04-04T07:24:33.758653Z",
     "shell.execute_reply": "2022-04-04T07:24:33.757779Z",
     "shell.execute_reply.started": "2022-04-04T07:11:42.252611Z"
    },
    "papermill": {
     "duration": 0.068685,
     "end_time": "2022-04-04T07:24:33.758839",
     "exception": false,
     "start_time": "2022-04-04T07:24:33.690154",
     "status": "completed"
    },
    "tags": []
   },
   "outputs": [
    {
     "name": "stdout",
     "output_type": "stream",
     "text": [
      "Critical Values:\n",
      "10% of GasPrice : -2.5672\n",
      "5% of GasPrice : -2.8623\n"
     ]
    }
   ],
   "source": [
    "print('Critical Values:')\n",
    "print(f'10% of GasPrice : {round(gas_result[4][\"10%\"],4)}')\n",
    "print(f'5% of GasPrice : {round(electricity_result[4][\"5%\"],4)}') "
   ]
  },
  {
   "cell_type": "code",
   "execution_count": 16,
   "id": "f777b901",
   "metadata": {
    "execution": {
     "iopub.execute_input": "2022-04-04T07:24:33.882933Z",
     "iopub.status.busy": "2022-04-04T07:24:33.882229Z",
     "iopub.status.idle": "2022-04-04T07:24:33.886129Z",
     "shell.execute_reply": "2022-04-04T07:24:33.886665Z",
     "shell.execute_reply.started": "2022-04-04T07:11:42.261540Z"
    },
    "papermill": {
     "duration": 0.066902,
     "end_time": "2022-04-04T07:24:33.886835",
     "exception": false,
     "start_time": "2022-04-04T07:24:33.819933",
     "status": "completed"
    },
    "tags": []
   },
   "outputs": [],
   "source": [
    "train_data = day_data.iloc[:2757,:]\n",
    "test_data = day_data.iloc[2757:,:] "
   ]
  },
  {
   "cell_type": "code",
   "execution_count": 17,
   "id": "305f3835",
   "metadata": {
    "execution": {
     "iopub.execute_input": "2022-04-04T07:24:34.010930Z",
     "iopub.status.busy": "2022-04-04T07:24:34.010181Z",
     "iopub.status.idle": "2022-04-04T07:24:34.015470Z",
     "shell.execute_reply": "2022-04-04T07:24:34.016057Z",
     "shell.execute_reply.started": "2022-04-04T07:11:42.274061Z"
    },
    "papermill": {
     "duration": 0.068504,
     "end_time": "2022-04-04T07:24:34.016250",
     "exception": false,
     "start_time": "2022-04-04T07:24:33.947746",
     "status": "completed"
    },
    "tags": []
   },
   "outputs": [
    {
     "data": {
      "text/plain": [
       "((2757, 4), (1077, 4))"
      ]
     },
     "execution_count": 17,
     "metadata": {},
     "output_type": "execute_result"
    }
   ],
   "source": [
    "train_data.shape , test_data.shape"
   ]
  },
  {
   "cell_type": "code",
   "execution_count": 18,
   "id": "b884a5cd",
   "metadata": {
    "execution": {
     "iopub.execute_input": "2022-04-04T07:24:34.142282Z",
     "iopub.status.busy": "2022-04-04T07:24:34.141607Z",
     "iopub.status.idle": "2022-04-04T07:24:34.154766Z",
     "shell.execute_reply": "2022-04-04T07:24:34.155355Z",
     "shell.execute_reply.started": "2022-04-04T07:11:42.289880Z"
    },
    "papermill": {
     "duration": 0.078157,
     "end_time": "2022-04-04T07:24:34.155537",
     "exception": false,
     "start_time": "2022-04-04T07:24:34.077380",
     "status": "completed"
    },
    "tags": []
   },
   "outputs": [
    {
     "data": {
      "text/html": [
       "<div>\n",
       "<style scoped>\n",
       "    .dataframe tbody tr th:only-of-type {\n",
       "        vertical-align: middle;\n",
       "    }\n",
       "\n",
       "    .dataframe tbody tr th {\n",
       "        vertical-align: top;\n",
       "    }\n",
       "\n",
       "    .dataframe thead th {\n",
       "        text-align: right;\n",
       "    }\n",
       "</style>\n",
       "<table border=\"1\" class=\"dataframe\">\n",
       "  <thead>\n",
       "    <tr style=\"text-align: right;\">\n",
       "      <th></th>\n",
       "      <th>FullDate</th>\n",
       "      <th>Tmax</th>\n",
       "      <th>SysLoad</th>\n",
       "      <th>GasPrice</th>\n",
       "      <th>ElecPrice</th>\n",
       "    </tr>\n",
       "  </thead>\n",
       "  <tbody>\n",
       "    <tr>\n",
       "      <th>0</th>\n",
       "      <td>2010-09-01</td>\n",
       "      <td>379.2</td>\n",
       "      <td>41565.380</td>\n",
       "      <td>88.56</td>\n",
       "      <td>2751.700</td>\n",
       "    </tr>\n",
       "    <tr>\n",
       "      <th>1</th>\n",
       "      <td>2010-09-02</td>\n",
       "      <td>369.6</td>\n",
       "      <td>38898.990</td>\n",
       "      <td>88.56</td>\n",
       "      <td>570.810</td>\n",
       "    </tr>\n",
       "    <tr>\n",
       "      <th>2</th>\n",
       "      <td>2010-09-03</td>\n",
       "      <td>439.2</td>\n",
       "      <td>41665.760</td>\n",
       "      <td>106.80</td>\n",
       "      <td>504.975</td>\n",
       "    </tr>\n",
       "    <tr>\n",
       "      <th>3</th>\n",
       "      <td>2010-09-04</td>\n",
       "      <td>328.8</td>\n",
       "      <td>35638.085</td>\n",
       "      <td>81.36</td>\n",
       "      <td>502.275</td>\n",
       "    </tr>\n",
       "    <tr>\n",
       "      <th>4</th>\n",
       "      <td>2010-09-05</td>\n",
       "      <td>357.6</td>\n",
       "      <td>35611.410</td>\n",
       "      <td>106.80</td>\n",
       "      <td>500.555</td>\n",
       "    </tr>\n",
       "  </tbody>\n",
       "</table>\n",
       "</div>"
      ],
      "text/plain": [
       "    FullDate   Tmax    SysLoad  GasPrice  ElecPrice\n",
       "0 2010-09-01  379.2  41565.380     88.56   2751.700\n",
       "1 2010-09-02  369.6  38898.990     88.56    570.810\n",
       "2 2010-09-03  439.2  41665.760    106.80    504.975\n",
       "3 2010-09-04  328.8  35638.085     81.36    502.275\n",
       "4 2010-09-05  357.6  35611.410    106.80    500.555"
      ]
     },
     "execution_count": 18,
     "metadata": {},
     "output_type": "execute_result"
    }
   ],
   "source": [
    "train_data.reset_index(inplace = True)\n",
    "train_data.head()"
   ]
  },
  {
   "cell_type": "code",
   "execution_count": 19,
   "id": "7ba6ce09",
   "metadata": {
    "execution": {
     "iopub.execute_input": "2022-04-04T07:24:34.278527Z",
     "iopub.status.busy": "2022-04-04T07:24:34.277855Z",
     "iopub.status.idle": "2022-04-04T07:24:34.282157Z",
     "shell.execute_reply": "2022-04-04T07:24:34.282717Z",
     "shell.execute_reply.started": "2022-04-04T07:11:42.328563Z"
    },
    "papermill": {
     "duration": 0.067709,
     "end_time": "2022-04-04T07:24:34.282900",
     "exception": false,
     "start_time": "2022-04-04T07:24:34.215191",
     "status": "completed"
    },
    "tags": []
   },
   "outputs": [],
   "source": [
    "df_train = train_data.iloc[:,[0,-1]]"
   ]
  },
  {
   "cell_type": "code",
   "execution_count": 20,
   "id": "42b939ab",
   "metadata": {
    "execution": {
     "iopub.execute_input": "2022-04-04T07:24:34.408368Z",
     "iopub.status.busy": "2022-04-04T07:24:34.407638Z",
     "iopub.status.idle": "2022-04-04T07:24:34.417790Z",
     "shell.execute_reply": "2022-04-04T07:24:34.418323Z",
     "shell.execute_reply.started": "2022-04-04T07:11:42.347434Z"
    },
    "papermill": {
     "duration": 0.075153,
     "end_time": "2022-04-04T07:24:34.418499",
     "exception": false,
     "start_time": "2022-04-04T07:24:34.343346",
     "status": "completed"
    },
    "tags": []
   },
   "outputs": [
    {
     "data": {
      "text/html": [
       "<div>\n",
       "<style scoped>\n",
       "    .dataframe tbody tr th:only-of-type {\n",
       "        vertical-align: middle;\n",
       "    }\n",
       "\n",
       "    .dataframe tbody tr th {\n",
       "        vertical-align: top;\n",
       "    }\n",
       "\n",
       "    .dataframe thead th {\n",
       "        text-align: right;\n",
       "    }\n",
       "</style>\n",
       "<table border=\"1\" class=\"dataframe\">\n",
       "  <thead>\n",
       "    <tr style=\"text-align: right;\">\n",
       "      <th></th>\n",
       "      <th>ds</th>\n",
       "      <th>y</th>\n",
       "    </tr>\n",
       "  </thead>\n",
       "  <tbody>\n",
       "    <tr>\n",
       "      <th>0</th>\n",
       "      <td>2010-09-01</td>\n",
       "      <td>2751.700</td>\n",
       "    </tr>\n",
       "    <tr>\n",
       "      <th>1</th>\n",
       "      <td>2010-09-02</td>\n",
       "      <td>570.810</td>\n",
       "    </tr>\n",
       "    <tr>\n",
       "      <th>2</th>\n",
       "      <td>2010-09-03</td>\n",
       "      <td>504.975</td>\n",
       "    </tr>\n",
       "    <tr>\n",
       "      <th>3</th>\n",
       "      <td>2010-09-04</td>\n",
       "      <td>502.275</td>\n",
       "    </tr>\n",
       "    <tr>\n",
       "      <th>4</th>\n",
       "      <td>2010-09-05</td>\n",
       "      <td>500.555</td>\n",
       "    </tr>\n",
       "  </tbody>\n",
       "</table>\n",
       "</div>"
      ],
      "text/plain": [
       "          ds         y\n",
       "0 2010-09-01  2751.700\n",
       "1 2010-09-02   570.810\n",
       "2 2010-09-03   504.975\n",
       "3 2010-09-04   502.275\n",
       "4 2010-09-05   500.555"
      ]
     },
     "execution_count": 20,
     "metadata": {},
     "output_type": "execute_result"
    }
   ],
   "source": [
    "df_train = df_train.rename(columns={\"FullDate\": \"ds\", \"ElecPrice\": \"y\"})\n",
    "df_train.head()"
   ]
  },
  {
   "cell_type": "code",
   "execution_count": 21,
   "id": "76dc9f80",
   "metadata": {
    "execution": {
     "iopub.execute_input": "2022-04-04T07:24:34.545925Z",
     "iopub.status.busy": "2022-04-04T07:24:34.545221Z",
     "iopub.status.idle": "2022-04-04T07:24:34.559637Z",
     "shell.execute_reply": "2022-04-04T07:24:34.558980Z",
     "shell.execute_reply.started": "2022-04-04T07:11:42.373273Z"
    },
    "papermill": {
     "duration": 0.079083,
     "end_time": "2022-04-04T07:24:34.559778",
     "exception": false,
     "start_time": "2022-04-04T07:24:34.480695",
     "status": "completed"
    },
    "tags": []
   },
   "outputs": [
    {
     "data": {
      "text/html": [
       "<div>\n",
       "<style scoped>\n",
       "    .dataframe tbody tr th:only-of-type {\n",
       "        vertical-align: middle;\n",
       "    }\n",
       "\n",
       "    .dataframe tbody tr th {\n",
       "        vertical-align: top;\n",
       "    }\n",
       "\n",
       "    .dataframe thead th {\n",
       "        text-align: right;\n",
       "    }\n",
       "</style>\n",
       "<table border=\"1\" class=\"dataframe\">\n",
       "  <thead>\n",
       "    <tr style=\"text-align: right;\">\n",
       "      <th></th>\n",
       "      <th>FullDate</th>\n",
       "      <th>Tmax</th>\n",
       "      <th>SysLoad</th>\n",
       "      <th>GasPrice</th>\n",
       "      <th>ElecPrice</th>\n",
       "    </tr>\n",
       "  </thead>\n",
       "  <tbody>\n",
       "    <tr>\n",
       "      <th>0</th>\n",
       "      <td>2018-03-20</td>\n",
       "      <td>540.0</td>\n",
       "      <td>7696.91130</td>\n",
       "      <td>201.5880</td>\n",
       "      <td>1833.00</td>\n",
       "    </tr>\n",
       "    <tr>\n",
       "      <th>1</th>\n",
       "      <td>2018-03-21</td>\n",
       "      <td>571.2</td>\n",
       "      <td>4658.05865</td>\n",
       "      <td>203.2560</td>\n",
       "      <td>1730.49</td>\n",
       "    </tr>\n",
       "    <tr>\n",
       "      <th>2</th>\n",
       "      <td>2018-03-22</td>\n",
       "      <td>722.4</td>\n",
       "      <td>19161.78525</td>\n",
       "      <td>203.2560</td>\n",
       "      <td>2260.55</td>\n",
       "    </tr>\n",
       "    <tr>\n",
       "      <th>3</th>\n",
       "      <td>2018-03-23</td>\n",
       "      <td>811.2</td>\n",
       "      <td>18090.43435</td>\n",
       "      <td>198.6456</td>\n",
       "      <td>2138.76</td>\n",
       "    </tr>\n",
       "    <tr>\n",
       "      <th>4</th>\n",
       "      <td>2018-03-24</td>\n",
       "      <td>832.8</td>\n",
       "      <td>3763.53865</td>\n",
       "      <td>180.2160</td>\n",
       "      <td>1721.70</td>\n",
       "    </tr>\n",
       "  </tbody>\n",
       "</table>\n",
       "</div>"
      ],
      "text/plain": [
       "    FullDate   Tmax      SysLoad  GasPrice  ElecPrice\n",
       "0 2018-03-20  540.0   7696.91130  201.5880    1833.00\n",
       "1 2018-03-21  571.2   4658.05865  203.2560    1730.49\n",
       "2 2018-03-22  722.4  19161.78525  203.2560    2260.55\n",
       "3 2018-03-23  811.2  18090.43435  198.6456    2138.76\n",
       "4 2018-03-24  832.8   3763.53865  180.2160    1721.70"
      ]
     },
     "execution_count": 21,
     "metadata": {},
     "output_type": "execute_result"
    }
   ],
   "source": [
    "test_data.reset_index(inplace = True)\n",
    "test_data.head()"
   ]
  },
  {
   "cell_type": "code",
   "execution_count": 22,
   "id": "ab8578fc",
   "metadata": {
    "execution": {
     "iopub.execute_input": "2022-04-04T07:24:34.687884Z",
     "iopub.status.busy": "2022-04-04T07:24:34.687124Z",
     "iopub.status.idle": "2022-04-04T07:24:34.689487Z",
     "shell.execute_reply": "2022-04-04T07:24:34.689996Z",
     "shell.execute_reply.started": "2022-04-04T07:11:42.392011Z"
    },
    "papermill": {
     "duration": 0.069158,
     "end_time": "2022-04-04T07:24:34.690162",
     "exception": false,
     "start_time": "2022-04-04T07:24:34.621004",
     "status": "completed"
    },
    "tags": []
   },
   "outputs": [],
   "source": [
    "test_df = test_data.iloc[:,[0,-1]]"
   ]
  },
  {
   "cell_type": "code",
   "execution_count": 23,
   "id": "55697557",
   "metadata": {
    "execution": {
     "iopub.execute_input": "2022-04-04T07:24:34.823161Z",
     "iopub.status.busy": "2022-04-04T07:24:34.822490Z",
     "iopub.status.idle": "2022-04-04T07:24:34.825378Z",
     "shell.execute_reply": "2022-04-04T07:24:34.825892Z",
     "shell.execute_reply.started": "2022-04-04T07:11:42.399191Z"
    },
    "papermill": {
     "duration": 0.074564,
     "end_time": "2022-04-04T07:24:34.826065",
     "exception": false,
     "start_time": "2022-04-04T07:24:34.751501",
     "status": "completed"
    },
    "tags": []
   },
   "outputs": [
    {
     "data": {
      "text/html": [
       "<div>\n",
       "<style scoped>\n",
       "    .dataframe tbody tr th:only-of-type {\n",
       "        vertical-align: middle;\n",
       "    }\n",
       "\n",
       "    .dataframe tbody tr th {\n",
       "        vertical-align: top;\n",
       "    }\n",
       "\n",
       "    .dataframe thead th {\n",
       "        text-align: right;\n",
       "    }\n",
       "</style>\n",
       "<table border=\"1\" class=\"dataframe\">\n",
       "  <thead>\n",
       "    <tr style=\"text-align: right;\">\n",
       "      <th></th>\n",
       "      <th>ds</th>\n",
       "      <th>y</th>\n",
       "    </tr>\n",
       "  </thead>\n",
       "  <tbody>\n",
       "    <tr>\n",
       "      <th>0</th>\n",
       "      <td>2018-03-20</td>\n",
       "      <td>1833.00</td>\n",
       "    </tr>\n",
       "    <tr>\n",
       "      <th>1</th>\n",
       "      <td>2018-03-21</td>\n",
       "      <td>1730.49</td>\n",
       "    </tr>\n",
       "    <tr>\n",
       "      <th>2</th>\n",
       "      <td>2018-03-22</td>\n",
       "      <td>2260.55</td>\n",
       "    </tr>\n",
       "    <tr>\n",
       "      <th>3</th>\n",
       "      <td>2018-03-23</td>\n",
       "      <td>2138.76</td>\n",
       "    </tr>\n",
       "    <tr>\n",
       "      <th>4</th>\n",
       "      <td>2018-03-24</td>\n",
       "      <td>1721.70</td>\n",
       "    </tr>\n",
       "  </tbody>\n",
       "</table>\n",
       "</div>"
      ],
      "text/plain": [
       "          ds        y\n",
       "0 2018-03-20  1833.00\n",
       "1 2018-03-21  1730.49\n",
       "2 2018-03-22  2260.55\n",
       "3 2018-03-23  2138.76\n",
       "4 2018-03-24  1721.70"
      ]
     },
     "execution_count": 23,
     "metadata": {},
     "output_type": "execute_result"
    }
   ],
   "source": [
    "test_df = test_df.rename(columns={\"FullDate\": \"ds\", \"ElecPrice\": \"y\"})\n",
    "test_df.head()"
   ]
  },
  {
   "cell_type": "code",
   "execution_count": 24,
   "id": "a36331b5",
   "metadata": {
    "execution": {
     "iopub.execute_input": "2022-04-04T07:24:34.953211Z",
     "iopub.status.busy": "2022-04-04T07:24:34.952552Z",
     "iopub.status.idle": "2022-04-04T07:24:37.478517Z",
     "shell.execute_reply": "2022-04-04T07:24:37.477983Z",
     "shell.execute_reply.started": "2022-04-04T07:11:42.418050Z"
    },
    "papermill": {
     "duration": 2.590861,
     "end_time": "2022-04-04T07:24:37.478708",
     "exception": false,
     "start_time": "2022-04-04T07:24:34.887847",
     "status": "completed"
    },
    "tags": []
   },
   "outputs": [
    {
     "name": "stdout",
     "output_type": "stream",
     "text": [
      "Initial log joint probability = -4.20632\n"
     ]
    },
    {
     "data": {
      "text/plain": [
       "<fbprophet.forecaster.Prophet at 0x7ff26e434090>"
      ]
     },
     "execution_count": 24,
     "metadata": {},
     "output_type": "execute_result"
    },
    {
     "name": "stdout",
     "output_type": "stream",
     "text": [
      "    Iter      log prob        ||dx||      ||grad||       alpha      alpha0  # evals  Notes \n",
      "      99       8006.42   0.000190736       172.415           1           1      121   \n",
      "    Iter      log prob        ||dx||      ||grad||       alpha      alpha0  # evals  Notes \n",
      "     199        8007.2    4.4511e-05       55.1814      0.8319      0.8319      241   \n",
      "    Iter      log prob        ||dx||      ||grad||       alpha      alpha0  # evals  Notes \n",
      "     224       8007.24   0.000127972       100.748   1.491e-06       0.001      313  LS failed, Hessian reset \n",
      "     299       8007.56   3.00801e-05       44.3474      0.5552      0.5552      406   \n",
      "    Iter      log prob        ||dx||      ||grad||       alpha      alpha0  # evals  Notes \n",
      "     351       8007.61   4.26709e-05       140.953   1.449e-07       0.001      531  LS failed, Hessian reset \n",
      "     399       8007.64   7.42204e-06       64.1818      0.0646           1      606   \n",
      "    Iter      log prob        ||dx||      ||grad||       alpha      alpha0  # evals  Notes \n",
      "     449       8007.72   7.37433e-05       197.824   8.271e-07       0.001      707  LS failed, Hessian reset \n",
      "     498       8007.79   3.31562e-07       65.0605      0.2206     0.02206      775   \n",
      "Optimization terminated normally: \n",
      "  Convergence detected: relative gradient magnitude is below tolerance\n"
     ]
    }
   ],
   "source": [
    "model = Prophet()\n",
    "model.fit(df_train)"
   ]
  },
  {
   "cell_type": "code",
   "execution_count": 25,
   "id": "f608329d",
   "metadata": {
    "execution": {
     "iopub.execute_input": "2022-04-04T07:24:37.608786Z",
     "iopub.status.busy": "2022-04-04T07:24:37.607304Z",
     "iopub.status.idle": "2022-04-04T07:24:41.905785Z",
     "shell.execute_reply": "2022-04-04T07:24:41.906332Z",
     "shell.execute_reply.started": "2022-04-04T07:11:44.984903Z"
    },
    "papermill": {
     "duration": 4.365224,
     "end_time": "2022-04-04T07:24:41.906507",
     "exception": false,
     "start_time": "2022-04-04T07:24:37.541283",
     "status": "completed"
    },
    "tags": []
   },
   "outputs": [
    {
     "data": {
      "text/html": [
       "<div>\n",
       "<style scoped>\n",
       "    .dataframe tbody tr th:only-of-type {\n",
       "        vertical-align: middle;\n",
       "    }\n",
       "\n",
       "    .dataframe tbody tr th {\n",
       "        vertical-align: top;\n",
       "    }\n",
       "\n",
       "    .dataframe thead th {\n",
       "        text-align: right;\n",
       "    }\n",
       "</style>\n",
       "<table border=\"1\" class=\"dataframe\">\n",
       "  <thead>\n",
       "    <tr style=\"text-align: right;\">\n",
       "      <th></th>\n",
       "      <th>ds</th>\n",
       "      <th>trend</th>\n",
       "      <th>yhat_lower</th>\n",
       "      <th>yhat_upper</th>\n",
       "      <th>trend_lower</th>\n",
       "      <th>trend_upper</th>\n",
       "      <th>additive_terms</th>\n",
       "      <th>additive_terms_lower</th>\n",
       "      <th>additive_terms_upper</th>\n",
       "      <th>weekly</th>\n",
       "      <th>weekly_lower</th>\n",
       "      <th>weekly_upper</th>\n",
       "      <th>yearly</th>\n",
       "      <th>yearly_lower</th>\n",
       "      <th>yearly_upper</th>\n",
       "      <th>multiplicative_terms</th>\n",
       "      <th>multiplicative_terms_lower</th>\n",
       "      <th>multiplicative_terms_upper</th>\n",
       "      <th>yhat</th>\n",
       "    </tr>\n",
       "  </thead>\n",
       "  <tbody>\n",
       "    <tr>\n",
       "      <th>0</th>\n",
       "      <td>2018-03-20</td>\n",
       "      <td>2685.995282</td>\n",
       "      <td>197.747518</td>\n",
       "      <td>4867.841389</td>\n",
       "      <td>2685.995282</td>\n",
       "      <td>2685.995282</td>\n",
       "      <td>-154.967811</td>\n",
       "      <td>-154.967811</td>\n",
       "      <td>-154.967811</td>\n",
       "      <td>9.737563</td>\n",
       "      <td>9.737563</td>\n",
       "      <td>9.737563</td>\n",
       "      <td>-164.705374</td>\n",
       "      <td>-164.705374</td>\n",
       "      <td>-164.705374</td>\n",
       "      <td>0.0</td>\n",
       "      <td>0.0</td>\n",
       "      <td>0.0</td>\n",
       "      <td>2531.027472</td>\n",
       "    </tr>\n",
       "    <tr>\n",
       "      <th>1</th>\n",
       "      <td>2018-03-21</td>\n",
       "      <td>2686.787698</td>\n",
       "      <td>267.256249</td>\n",
       "      <td>5316.518916</td>\n",
       "      <td>2686.787698</td>\n",
       "      <td>2686.787698</td>\n",
       "      <td>-2.473227</td>\n",
       "      <td>-2.473227</td>\n",
       "      <td>-2.473227</td>\n",
       "      <td>159.362662</td>\n",
       "      <td>159.362662</td>\n",
       "      <td>159.362662</td>\n",
       "      <td>-161.835889</td>\n",
       "      <td>-161.835889</td>\n",
       "      <td>-161.835889</td>\n",
       "      <td>0.0</td>\n",
       "      <td>0.0</td>\n",
       "      <td>0.0</td>\n",
       "      <td>2684.314472</td>\n",
       "    </tr>\n",
       "    <tr>\n",
       "      <th>2</th>\n",
       "      <td>2018-03-22</td>\n",
       "      <td>2687.580114</td>\n",
       "      <td>343.646153</td>\n",
       "      <td>5087.408467</td>\n",
       "      <td>2687.580114</td>\n",
       "      <td>2687.580114</td>\n",
       "      <td>95.717382</td>\n",
       "      <td>95.717382</td>\n",
       "      <td>95.717382</td>\n",
       "      <td>257.120465</td>\n",
       "      <td>257.120465</td>\n",
       "      <td>257.120465</td>\n",
       "      <td>-161.403083</td>\n",
       "      <td>-161.403083</td>\n",
       "      <td>-161.403083</td>\n",
       "      <td>0.0</td>\n",
       "      <td>0.0</td>\n",
       "      <td>0.0</td>\n",
       "      <td>2783.297497</td>\n",
       "    </tr>\n",
       "    <tr>\n",
       "      <th>3</th>\n",
       "      <td>2018-03-23</td>\n",
       "      <td>2688.372531</td>\n",
       "      <td>120.011990</td>\n",
       "      <td>4802.372694</td>\n",
       "      <td>2688.372531</td>\n",
       "      <td>2688.372531</td>\n",
       "      <td>-112.965306</td>\n",
       "      <td>-112.965306</td>\n",
       "      <td>-112.965306</td>\n",
       "      <td>50.276079</td>\n",
       "      <td>50.276079</td>\n",
       "      <td>50.276079</td>\n",
       "      <td>-163.241385</td>\n",
       "      <td>-163.241385</td>\n",
       "      <td>-163.241385</td>\n",
       "      <td>0.0</td>\n",
       "      <td>0.0</td>\n",
       "      <td>0.0</td>\n",
       "      <td>2575.407225</td>\n",
       "    </tr>\n",
       "    <tr>\n",
       "      <th>4</th>\n",
       "      <td>2018-03-24</td>\n",
       "      <td>2689.164947</td>\n",
       "      <td>-151.778673</td>\n",
       "      <td>4601.364875</td>\n",
       "      <td>2689.164947</td>\n",
       "      <td>2689.164947</td>\n",
       "      <td>-438.563887</td>\n",
       "      <td>-438.563887</td>\n",
       "      <td>-438.563887</td>\n",
       "      <td>-271.455104</td>\n",
       "      <td>-271.455104</td>\n",
       "      <td>-271.455104</td>\n",
       "      <td>-167.108783</td>\n",
       "      <td>-167.108783</td>\n",
       "      <td>-167.108783</td>\n",
       "      <td>0.0</td>\n",
       "      <td>0.0</td>\n",
       "      <td>0.0</td>\n",
       "      <td>2250.601060</td>\n",
       "    </tr>\n",
       "  </tbody>\n",
       "</table>\n",
       "</div>"
      ],
      "text/plain": [
       "          ds        trend  yhat_lower   yhat_upper  trend_lower  trend_upper  \\\n",
       "0 2018-03-20  2685.995282  197.747518  4867.841389  2685.995282  2685.995282   \n",
       "1 2018-03-21  2686.787698  267.256249  5316.518916  2686.787698  2686.787698   \n",
       "2 2018-03-22  2687.580114  343.646153  5087.408467  2687.580114  2687.580114   \n",
       "3 2018-03-23  2688.372531  120.011990  4802.372694  2688.372531  2688.372531   \n",
       "4 2018-03-24  2689.164947 -151.778673  4601.364875  2689.164947  2689.164947   \n",
       "\n",
       "   additive_terms  additive_terms_lower  additive_terms_upper      weekly  \\\n",
       "0     -154.967811           -154.967811           -154.967811    9.737563   \n",
       "1       -2.473227             -2.473227             -2.473227  159.362662   \n",
       "2       95.717382             95.717382             95.717382  257.120465   \n",
       "3     -112.965306           -112.965306           -112.965306   50.276079   \n",
       "4     -438.563887           -438.563887           -438.563887 -271.455104   \n",
       "\n",
       "   weekly_lower  weekly_upper      yearly  yearly_lower  yearly_upper  \\\n",
       "0      9.737563      9.737563 -164.705374   -164.705374   -164.705374   \n",
       "1    159.362662    159.362662 -161.835889   -161.835889   -161.835889   \n",
       "2    257.120465    257.120465 -161.403083   -161.403083   -161.403083   \n",
       "3     50.276079     50.276079 -163.241385   -163.241385   -163.241385   \n",
       "4   -271.455104   -271.455104 -167.108783   -167.108783   -167.108783   \n",
       "\n",
       "   multiplicative_terms  multiplicative_terms_lower  \\\n",
       "0                   0.0                         0.0   \n",
       "1                   0.0                         0.0   \n",
       "2                   0.0                         0.0   \n",
       "3                   0.0                         0.0   \n",
       "4                   0.0                         0.0   \n",
       "\n",
       "   multiplicative_terms_upper         yhat  \n",
       "0                         0.0  2531.027472  \n",
       "1                         0.0  2684.314472  \n",
       "2                         0.0  2783.297497  \n",
       "3                         0.0  2575.407225  \n",
       "4                         0.0  2250.601060  "
      ]
     },
     "execution_count": 25,
     "metadata": {},
     "output_type": "execute_result"
    }
   ],
   "source": [
    "forecast_values = model.predict(test_df) \n",
    "forecast_values.head()"
   ]
  },
  {
   "cell_type": "code",
   "execution_count": 26,
   "id": "8a94e143",
   "metadata": {
    "execution": {
     "iopub.execute_input": "2022-04-04T07:24:42.039436Z",
     "iopub.status.busy": "2022-04-04T07:24:42.038768Z",
     "iopub.status.idle": "2022-04-04T07:24:42.043161Z",
     "shell.execute_reply": "2022-04-04T07:24:42.043701Z",
     "shell.execute_reply.started": "2022-04-04T07:11:48.764772Z"
    },
    "papermill": {
     "duration": 0.072098,
     "end_time": "2022-04-04T07:24:42.043873",
     "exception": false,
     "start_time": "2022-04-04T07:24:41.971775",
     "status": "completed"
    },
    "tags": []
   },
   "outputs": [],
   "source": [
    "def Metric(y_true,y_pred):\n",
    "  y_true,y_pred = np.array(y_true), np.array(y_pred)\n",
    "  return np.mean(np.abs((y_true - y_pred)/y_true)) *100"
   ]
  },
  {
   "cell_type": "code",
   "execution_count": 27,
   "id": "cd11088c",
   "metadata": {
    "execution": {
     "iopub.execute_input": "2022-04-04T07:24:42.176002Z",
     "iopub.status.busy": "2022-04-04T07:24:42.175374Z",
     "iopub.status.idle": "2022-04-04T07:24:42.180926Z",
     "shell.execute_reply": "2022-04-04T07:24:42.181412Z",
     "shell.execute_reply.started": "2022-04-04T07:11:48.771363Z"
    },
    "papermill": {
     "duration": 0.072233,
     "end_time": "2022-04-04T07:24:42.181597",
     "exception": false,
     "start_time": "2022-04-04T07:24:42.109364",
     "status": "completed"
    },
    "tags": []
   },
   "outputs": [
    {
     "name": "stdout",
     "output_type": "stream",
     "text": [
      "Mean Average Percentage Error ( MAPE) is: 544.76\n"
     ]
    }
   ],
   "source": [
    "MAPE = Metric(test_df['y'],forecast_values['yhat'])\n",
    "print(f'Mean Average Percentage Error ( MAPE) is: {round(MAPE,2)}')"
   ]
  },
  {
   "cell_type": "code",
   "execution_count": 28,
   "id": "5ac87e76",
   "metadata": {
    "execution": {
     "iopub.execute_input": "2022-04-04T07:24:42.314008Z",
     "iopub.status.busy": "2022-04-04T07:24:42.313189Z",
     "iopub.status.idle": "2022-04-04T07:24:42.486263Z",
     "shell.execute_reply": "2022-04-04T07:24:42.485594Z",
     "shell.execute_reply.started": "2022-04-04T07:11:48.790729Z"
    },
    "papermill": {
     "duration": 0.240778,
     "end_time": "2022-04-04T07:24:42.486412",
     "exception": false,
     "start_time": "2022-04-04T07:24:42.245634",
     "status": "completed"
    },
    "tags": []
   },
   "outputs": [],
   "source": [
    "from sklearn import metrics"
   ]
  },
  {
   "cell_type": "code",
   "execution_count": 29,
   "id": "a82bc1be",
   "metadata": {
    "execution": {
     "iopub.execute_input": "2022-04-04T07:24:42.622394Z",
     "iopub.status.busy": "2022-04-04T07:24:42.621729Z",
     "iopub.status.idle": "2022-04-04T07:24:42.626650Z",
     "shell.execute_reply": "2022-04-04T07:24:42.627356Z",
     "shell.execute_reply.started": "2022-04-04T07:11:48.974002Z"
    },
    "papermill": {
     "duration": 0.076346,
     "end_time": "2022-04-04T07:24:42.627606",
     "exception": false,
     "start_time": "2022-04-04T07:24:42.551260",
     "status": "completed"
    },
    "tags": []
   },
   "outputs": [
    {
     "name": "stdout",
     "output_type": "stream",
     "text": [
      "The Mean Average Percentage Error ( MAPE) is: 3208.1698\n"
     ]
    }
   ],
   "source": [
    "RMSE = np.sqrt(metrics.mean_squared_error(test_df['y'],forecast_values['yhat']))\n",
    "print(f'The Mean Average Percentage Error ( MAPE) is: {round(RMSE,4)}')"
   ]
  },
  {
   "cell_type": "code",
   "execution_count": 30,
   "id": "9a7fc333",
   "metadata": {
    "execution": {
     "iopub.execute_input": "2022-04-04T07:24:42.762745Z",
     "iopub.status.busy": "2022-04-04T07:24:42.761756Z",
     "iopub.status.idle": "2022-04-04T07:24:43.908554Z",
     "shell.execute_reply": "2022-04-04T07:24:43.909128Z",
     "shell.execute_reply.started": "2022-04-04T07:11:48.982351Z"
    },
    "papermill": {
     "duration": 1.216608,
     "end_time": "2022-04-04T07:24:43.909306",
     "exception": false,
     "start_time": "2022-04-04T07:24:42.692698",
     "status": "completed"
    },
    "tags": []
   },
   "outputs": [
    {
     "data": {
      "image/png": "[encoded data removed]",
      "text/plain": [
       "<Figure size 648x648 with 3 Axes>"
      ]
     },
     "execution_count": 30,
     "metadata": {},
     "output_type": "execute_result"
    },
    {
     "data": {
      "image/png": "[encoded data removed]",
      "text/plain": [
       "<Figure size 648x648 with 3 Axes>"
      ]
     },
     "metadata": {},
     "output_type": "display_data"
    }
   ],
   "source": [
    "model.plot_components(forecast_values)"
   ]
  },
  {
   "cell_type": "code",
   "execution_count": 31,
   "id": "91ebc6e7",
   "metadata": {
    "execution": {
     "iopub.execute_input": "2022-04-04T07:24:44.051481Z",
     "iopub.status.busy": "2022-04-04T07:24:44.050486Z",
     "iopub.status.idle": "2022-04-04T07:24:44.054889Z",
     "shell.execute_reply": "2022-04-04T07:24:44.055355Z",
     "shell.execute_reply.started": "2022-04-04T07:11:50.144978Z"
    },
    "papermill": {
     "duration": 0.077059,
     "end_time": "2022-04-04T07:24:44.055526",
     "exception": false,
     "start_time": "2022-04-04T07:24:43.978467",
     "status": "completed"
    },
    "tags": []
   },
   "outputs": [],
   "source": [
    "day_data.reset_index(inplace=True)"
   ]
  },
  {
   "cell_type": "code",
   "execution_count": 32,
   "id": "db33b918",
   "metadata": {
    "execution": {
     "iopub.execute_input": "2022-04-04T07:24:44.205672Z",
     "iopub.status.busy": "2022-04-04T07:24:44.204757Z",
     "iopub.status.idle": "2022-04-04T07:24:44.208197Z",
     "shell.execute_reply": "2022-04-04T07:24:44.208688Z",
     "shell.execute_reply.started": "2022-04-04T07:11:50.151201Z"
    },
    "papermill": {
     "duration": 0.084491,
     "end_time": "2022-04-04T07:24:44.208856",
     "exception": false,
     "start_time": "2022-04-04T07:24:44.124365",
     "status": "completed"
    },
    "tags": []
   },
   "outputs": [
    {
     "data": {
      "text/html": [
       "<div>\n",
       "<style scoped>\n",
       "    .dataframe tbody tr th:only-of-type {\n",
       "        vertical-align: middle;\n",
       "    }\n",
       "\n",
       "    .dataframe tbody tr th {\n",
       "        vertical-align: top;\n",
       "    }\n",
       "\n",
       "    .dataframe thead th {\n",
       "        text-align: right;\n",
       "    }\n",
       "</style>\n",
       "<table border=\"1\" class=\"dataframe\">\n",
       "  <thead>\n",
       "    <tr style=\"text-align: right;\">\n",
       "      <th></th>\n",
       "      <th>FullDate</th>\n",
       "      <th>Tmax</th>\n",
       "      <th>SysLoad</th>\n",
       "      <th>GasPrice</th>\n",
       "      <th>ElecPrice</th>\n",
       "    </tr>\n",
       "  </thead>\n",
       "  <tbody>\n",
       "    <tr>\n",
       "      <th>0</th>\n",
       "      <td>2010-09-01</td>\n",
       "      <td>379.2</td>\n",
       "      <td>41565.38</td>\n",
       "      <td>88.56</td>\n",
       "      <td>2751.700</td>\n",
       "    </tr>\n",
       "    <tr>\n",
       "      <th>1</th>\n",
       "      <td>2010-09-02</td>\n",
       "      <td>369.6</td>\n",
       "      <td>38898.99</td>\n",
       "      <td>88.56</td>\n",
       "      <td>570.810</td>\n",
       "    </tr>\n",
       "    <tr>\n",
       "      <th>2</th>\n",
       "      <td>2010-09-03</td>\n",
       "      <td>439.2</td>\n",
       "      <td>41665.76</td>\n",
       "      <td>106.80</td>\n",
       "      <td>504.975</td>\n",
       "    </tr>\n",
       "  </tbody>\n",
       "</table>\n",
       "</div>"
      ],
      "text/plain": [
       "    FullDate   Tmax   SysLoad  GasPrice  ElecPrice\n",
       "0 2010-09-01  379.2  41565.38     88.56   2751.700\n",
       "1 2010-09-02  369.6  38898.99     88.56    570.810\n",
       "2 2010-09-03  439.2  41665.76    106.80    504.975"
      ]
     },
     "execution_count": 32,
     "metadata": {},
     "output_type": "execute_result"
    }
   ],
   "source": [
    "day_data.head(3)"
   ]
  },
  {
   "cell_type": "code",
   "execution_count": 33,
   "id": "5a214f21",
   "metadata": {
    "execution": {
     "iopub.execute_input": "2022-04-04T07:24:44.350716Z",
     "iopub.status.busy": "2022-04-04T07:24:44.350049Z",
     "iopub.status.idle": "2022-04-04T07:24:44.354150Z",
     "shell.execute_reply": "2022-04-04T07:24:44.354784Z",
     "shell.execute_reply.started": "2022-04-04T07:11:50.170380Z"
    },
    "papermill": {
     "duration": 0.076813,
     "end_time": "2022-04-04T07:24:44.354971",
     "exception": false,
     "start_time": "2022-04-04T07:24:44.278158",
     "status": "completed"
    },
    "tags": []
   },
   "outputs": [],
   "source": [
    "new_day_data = day_data.rename(columns = {'FullDate':'ds','Tmax':'add2',\n",
    "                                           'SysLoad':'add1','GasPrice':'add3',\n",
    "                                           'ElecPrice':'y'})"
   ]
  },
  {
   "cell_type": "code",
   "execution_count": 34,
   "id": "4bf7228f",
   "metadata": {
    "execution": {
     "iopub.execute_input": "2022-04-04T07:24:44.507539Z",
     "iopub.status.busy": "2022-04-04T07:24:44.506753Z",
     "iopub.status.idle": "2022-04-04T07:24:44.509740Z",
     "shell.execute_reply": "2022-04-04T07:24:44.510209Z",
     "shell.execute_reply.started": "2022-04-04T07:11:50.182227Z"
    },
    "papermill": {
     "duration": 0.085316,
     "end_time": "2022-04-04T07:24:44.510375",
     "exception": false,
     "start_time": "2022-04-04T07:24:44.425059",
     "status": "completed"
    },
    "tags": []
   },
   "outputs": [
    {
     "data": {
      "text/html": [
       "<div>\n",
       "<style scoped>\n",
       "    .dataframe tbody tr th:only-of-type {\n",
       "        vertical-align: middle;\n",
       "    }\n",
       "\n",
       "    .dataframe tbody tr th {\n",
       "        vertical-align: top;\n",
       "    }\n",
       "\n",
       "    .dataframe thead th {\n",
       "        text-align: right;\n",
       "    }\n",
       "</style>\n",
       "<table border=\"1\" class=\"dataframe\">\n",
       "  <thead>\n",
       "    <tr style=\"text-align: right;\">\n",
       "      <th></th>\n",
       "      <th>ds</th>\n",
       "      <th>add2</th>\n",
       "      <th>add1</th>\n",
       "      <th>add3</th>\n",
       "      <th>y</th>\n",
       "    </tr>\n",
       "  </thead>\n",
       "  <tbody>\n",
       "    <tr>\n",
       "      <th>0</th>\n",
       "      <td>2010-09-01</td>\n",
       "      <td>379.2</td>\n",
       "      <td>41565.38</td>\n",
       "      <td>88.56</td>\n",
       "      <td>2751.700</td>\n",
       "    </tr>\n",
       "    <tr>\n",
       "      <th>1</th>\n",
       "      <td>2010-09-02</td>\n",
       "      <td>369.6</td>\n",
       "      <td>38898.99</td>\n",
       "      <td>88.56</td>\n",
       "      <td>570.810</td>\n",
       "    </tr>\n",
       "    <tr>\n",
       "      <th>2</th>\n",
       "      <td>2010-09-03</td>\n",
       "      <td>439.2</td>\n",
       "      <td>41665.76</td>\n",
       "      <td>106.80</td>\n",
       "      <td>504.975</td>\n",
       "    </tr>\n",
       "  </tbody>\n",
       "</table>\n",
       "</div>"
      ],
      "text/plain": [
       "          ds   add2      add1    add3         y\n",
       "0 2010-09-01  379.2  41565.38   88.56  2751.700\n",
       "1 2010-09-02  369.6  38898.99   88.56   570.810\n",
       "2 2010-09-03  439.2  41665.76  106.80   504.975"
      ]
     },
     "execution_count": 34,
     "metadata": {},
     "output_type": "execute_result"
    }
   ],
   "source": [
    "new_day_data.head(3)"
   ]
  },
  {
   "cell_type": "code",
   "execution_count": 35,
   "id": "3c162d4b",
   "metadata": {
    "execution": {
     "iopub.execute_input": "2022-04-04T07:24:44.654156Z",
     "iopub.status.busy": "2022-04-04T07:24:44.653532Z",
     "iopub.status.idle": "2022-04-04T07:24:44.656887Z",
     "shell.execute_reply": "2022-04-04T07:24:44.657454Z",
     "shell.execute_reply.started": "2022-04-04T07:11:50.202397Z"
    },
    "papermill": {
     "duration": 0.076463,
     "end_time": "2022-04-04T07:24:44.657643",
     "exception": false,
     "start_time": "2022-04-04T07:24:44.581180",
     "status": "completed"
    },
    "tags": []
   },
   "outputs": [],
   "source": [
    "train_data_new = new_day_data.iloc[:2757,:]\n",
    "test_data_new = new_day_data.iloc[2757:,:]"
   ]
  },
  {
   "cell_type": "code",
   "execution_count": 36,
   "id": "cce04bf6",
   "metadata": {
    "execution": {
     "iopub.execute_input": "2022-04-04T07:24:44.800423Z",
     "iopub.status.busy": "2022-04-04T07:24:44.799822Z",
     "iopub.status.idle": "2022-04-04T07:24:44.921416Z",
     "shell.execute_reply": "2022-04-04T07:24:44.922009Z",
     "shell.execute_reply.started": "2022-04-04T07:11:50.214133Z"
    },
    "papermill": {
     "duration": 0.194408,
     "end_time": "2022-04-04T07:24:44.922176",
     "exception": false,
     "start_time": "2022-04-04T07:24:44.727768",
     "status": "completed"
    },
    "tags": []
   },
   "outputs": [
    {
     "data": {
      "text/plain": [
       "<fbprophet.forecaster.Prophet at 0x7ff2696db1d0>"
      ]
     },
     "execution_count": 36,
     "metadata": {},
     "output_type": "execute_result"
    }
   ],
   "source": [
    "model = Prophet()\n",
    "model.add_regressor('add1')\n",
    "model.add_regressor('add2')\n",
    "model.add_regressor('add3')"
   ]
  },
  {
   "cell_type": "code",
   "execution_count": 37,
   "id": "a2309f3f",
   "metadata": {
    "execution": {
     "iopub.execute_input": "2022-04-04T07:24:45.069926Z",
     "iopub.status.busy": "2022-04-04T07:24:45.067304Z",
     "iopub.status.idle": "2022-04-04T07:24:45.967126Z",
     "shell.execute_reply": "2022-04-04T07:24:45.967664Z",
     "shell.execute_reply.started": "2022-04-04T07:11:50.342893Z"
    },
    "papermill": {
     "duration": 0.97503,
     "end_time": "2022-04-04T07:24:45.967840",
     "exception": false,
     "start_time": "2022-04-04T07:24:44.992810",
     "status": "completed"
    },
    "tags": []
   },
   "outputs": [
    {
     "name": "stdout",
     "output_type": "stream",
     "text": [
      "Initial log joint probability = -4.20632\n",
      "    Iter      log prob        ||dx||      ||grad||       alpha      alpha0  # evals  Notes \n",
      "      99       8218.46   0.000765413       377.196           1           1      113   \n",
      "    Iter      log prob        ||dx||      ||grad||       alpha      alpha0  # evals  Notes \n",
      "     199       8219.42   0.000181158       126.613           1           1      238   \n",
      "    Iter      log prob        ||dx||      ||grad||       alpha      alpha0  # evals  Notes \n",
      "     299       8219.72   0.000285842       78.9036           1           1      358   \n",
      "    Iter      log prob        ||dx||      ||grad||       alpha      alpha0  # evals  Notes \n",
      "     314       8219.78   7.57213e-05       255.214   4.419e-07       0.001      431  LS failed, Hessian reset \n",
      "     399       8219.86   1.51602e-05       76.2299      0.5333      0.5333      534   \n",
      "    Iter      log prob        ||dx||      ||grad||       alpha      alpha0  # evals  Notes \n",
      "     443       8219.87   8.26302e-07        70.335           1           1      588   \n",
      "Optimization terminated normally: \n",
      "  Convergence detected: relative gradient magnitude is below tolerance\n"
     ]
    }
   ],
   "source": [
    "model = model.fit(train_data_new)"
   ]
  },
  {
   "cell_type": "code",
   "execution_count": 38,
   "id": "6f735d82",
   "metadata": {
    "execution": {
     "iopub.execute_input": "2022-04-04T07:24:46.114351Z",
     "iopub.status.busy": "2022-04-04T07:24:46.113671Z",
     "iopub.status.idle": "2022-04-04T07:24:50.155961Z",
     "shell.execute_reply": "2022-04-04T07:24:50.156522Z",
     "shell.execute_reply.started": "2022-04-04T07:11:51.248641Z"
    },
    "papermill": {
     "duration": 4.11769,
     "end_time": "2022-04-04T07:24:50.156721",
     "exception": false,
     "start_time": "2022-04-04T07:24:46.039031",
     "status": "completed"
    },
    "tags": []
   },
   "outputs": [],
   "source": [
    "forecast_values_new = model.predict(test_data_new)"
   ]
  },
  {
   "cell_type": "code",
   "execution_count": 39,
   "id": "7e75d3a0",
   "metadata": {
    "execution": {
     "iopub.execute_input": "2022-04-04T07:24:50.301688Z",
     "iopub.status.busy": "2022-04-04T07:24:50.300971Z",
     "iopub.status.idle": "2022-04-04T07:24:50.306113Z",
     "shell.execute_reply": "2022-04-04T07:24:50.306693Z",
     "shell.execute_reply.started": "2022-04-04T07:11:55.025062Z"
    },
    "papermill": {
     "duration": 0.079332,
     "end_time": "2022-04-04T07:24:50.306877",
     "exception": false,
     "start_time": "2022-04-04T07:24:50.227545",
     "status": "completed"
    },
    "tags": []
   },
   "outputs": [
    {
     "name": "stdout",
     "output_type": "stream",
     "text": [
      "Mean Average Percentage Error ( MAPE) is:233.56\n"
     ]
    }
   ],
   "source": [
    "MAPE = Metric(test_data_new['y'],forecast_values_new['yhat'])\n",
    "print(f'Mean Average Percentage Error ( MAPE) is:{round(MAPE,2)}')"
   ]
  },
  {
   "cell_type": "code",
   "execution_count": 40,
   "id": "0a6d89a2",
   "metadata": {
    "execution": {
     "iopub.execute_input": "2022-04-04T07:24:50.454905Z",
     "iopub.status.busy": "2022-04-04T07:24:50.454284Z",
     "iopub.status.idle": "2022-04-04T07:24:50.460134Z",
     "shell.execute_reply": "2022-04-04T07:24:50.459615Z",
     "shell.execute_reply.started": "2022-04-04T07:11:55.034449Z"
    },
    "papermill": {
     "duration": 0.081019,
     "end_time": "2022-04-04T07:24:50.460279",
     "exception": false,
     "start_time": "2022-04-04T07:24:50.379260",
     "status": "completed"
    },
    "tags": []
   },
   "outputs": [
    {
     "name": "stdout",
     "output_type": "stream",
     "text": [
      "The Mean Average Percentage Error ( MAPE) is: 2709.4\n"
     ]
    }
   ],
   "source": [
    "RMSE = np.sqrt(metrics.mean_squared_error(test_data_new['y'],forecast_values_new['yhat']))\n",
    "print(f'The Mean Average Percentage Error ( MAPE) is: {round(RMSE,2)}')"
   ]
  },
  {
   "cell_type": "code",
   "execution_count": 41,
   "id": "3d82aa83",
   "metadata": {
    "execution": {
     "iopub.execute_input": "2022-04-04T07:24:50.678603Z",
     "iopub.status.busy": "2022-04-04T07:24:50.627090Z",
     "iopub.status.idle": "2022-04-04T07:24:52.551311Z",
     "shell.execute_reply": "2022-04-04T07:24:52.551841Z",
     "shell.execute_reply.started": "2022-04-04T07:11:55.048511Z"
    },
    "papermill": {
     "duration": 2.019526,
     "end_time": "2022-04-04T07:24:52.552011",
     "exception": false,
     "start_time": "2022-04-04T07:24:50.532485",
     "status": "completed"
    },
    "tags": []
   },
   "outputs": [
    {
     "data": {
      "image/png": "[encoded data removed]",
      "text/plain": [
       "<Figure size 648x864 with 4 Axes>"
      ]
     },
     "execution_count": 41,
     "metadata": {},
     "output_type": "execute_result"
    },
    {
     "data": {
      "image/png": "[encoded data removed]",
      "text/plain": [
       "<Figure size 648x864 with 4 Axes>"
      ]
     },
     "metadata": {},
     "output_type": "display_data"
    }
   ],
   "source": [
    "model.plot_components(forecast_values_new)"
   ]
  },
  {
   "cell_type": "code",
   "execution_count": 42,
   "id": "a177fd62",
   "metadata": {
    "execution": {
     "iopub.execute_input": "2022-04-04T07:24:52.717067Z",
     "iopub.status.busy": "2022-04-04T07:24:52.716328Z",
     "iopub.status.idle": "2022-04-04T07:24:52.727161Z",
     "shell.execute_reply": "2022-04-04T07:24:52.726493Z",
     "shell.execute_reply.started": "2022-04-04T07:11:57.112168Z"
    },
    "papermill": {
     "duration": 0.095166,
     "end_time": "2022-04-04T07:24:52.727309",
     "exception": false,
     "start_time": "2022-04-04T07:24:52.632143",
     "status": "completed"
    },
    "tags": []
   },
   "outputs": [
    {
     "data": {
      "text/html": [
       "<div>\n",
       "<style scoped>\n",
       "    .dataframe tbody tr th:only-of-type {\n",
       "        vertical-align: middle;\n",
       "    }\n",
       "\n",
       "    .dataframe tbody tr th {\n",
       "        vertical-align: top;\n",
       "    }\n",
       "\n",
       "    .dataframe thead th {\n",
       "        text-align: right;\n",
       "    }\n",
       "</style>\n",
       "<table border=\"1\" class=\"dataframe\">\n",
       "  <thead>\n",
       "    <tr style=\"text-align: right;\">\n",
       "      <th></th>\n",
       "      <th>FullDate</th>\n",
       "      <th>Tmax</th>\n",
       "      <th>SysLoad</th>\n",
       "      <th>GasPrice</th>\n",
       "      <th>ElecPrice</th>\n",
       "    </tr>\n",
       "  </thead>\n",
       "  <tbody>\n",
       "    <tr>\n",
       "      <th>0</th>\n",
       "      <td>2010-09-01</td>\n",
       "      <td>379.2</td>\n",
       "      <td>41565.38</td>\n",
       "      <td>88.56</td>\n",
       "      <td>2751.700</td>\n",
       "    </tr>\n",
       "    <tr>\n",
       "      <th>1</th>\n",
       "      <td>2010-09-02</td>\n",
       "      <td>369.6</td>\n",
       "      <td>38898.99</td>\n",
       "      <td>88.56</td>\n",
       "      <td>570.810</td>\n",
       "    </tr>\n",
       "    <tr>\n",
       "      <th>2</th>\n",
       "      <td>2010-09-03</td>\n",
       "      <td>439.2</td>\n",
       "      <td>41665.76</td>\n",
       "      <td>106.80</td>\n",
       "      <td>504.975</td>\n",
       "    </tr>\n",
       "  </tbody>\n",
       "</table>\n",
       "</div>"
      ],
      "text/plain": [
       "    FullDate   Tmax   SysLoad  GasPrice  ElecPrice\n",
       "0 2010-09-01  379.2  41565.38     88.56   2751.700\n",
       "1 2010-09-02  369.6  38898.99     88.56    570.810\n",
       "2 2010-09-03  439.2  41665.76    106.80    504.975"
      ]
     },
     "execution_count": 42,
     "metadata": {},
     "output_type": "execute_result"
    }
   ],
   "source": [
    "day_data.head(3)"
   ]
  },
  {
   "cell_type": "code",
   "execution_count": 43,
   "id": "64a20ed5",
   "metadata": {
    "execution": {
     "iopub.execute_input": "2022-04-04T07:24:52.891240Z",
     "iopub.status.busy": "2022-04-04T07:24:52.890580Z",
     "iopub.status.idle": "2022-04-04T07:24:52.894106Z",
     "shell.execute_reply": "2022-04-04T07:24:52.894665Z",
     "shell.execute_reply.started": "2022-04-04T07:11:57.124732Z"
    },
    "papermill": {
     "duration": 0.088063,
     "end_time": "2022-04-04T07:24:52.894839",
     "exception": false,
     "start_time": "2022-04-04T07:24:52.806776",
     "status": "completed"
    },
    "tags": []
   },
   "outputs": [],
   "source": [
    "train_data_2 = day_data.iloc[:2757,:]\n",
    "test_data_2 = day_data.iloc[2757:,:] "
   ]
  },
  {
   "cell_type": "code",
   "execution_count": 44,
   "id": "ce88ed79",
   "metadata": {
    "execution": {
     "iopub.execute_input": "2022-04-04T07:24:53.059803Z",
     "iopub.status.busy": "2022-04-04T07:24:53.059124Z",
     "iopub.status.idle": "2022-04-04T07:24:53.063785Z",
     "shell.execute_reply": "2022-04-04T07:24:53.064310Z",
     "shell.execute_reply.started": "2022-04-04T07:11:57.136442Z"
    },
    "papermill": {
     "duration": 0.08857,
     "end_time": "2022-04-04T07:24:53.064484",
     "exception": false,
     "start_time": "2022-04-04T07:24:52.975914",
     "status": "completed"
    },
    "tags": []
   },
   "outputs": [
    {
     "data": {
      "text/plain": [
       "((2757, 5), (1077, 5))"
      ]
     },
     "execution_count": 44,
     "metadata": {},
     "output_type": "execute_result"
    }
   ],
   "source": [
    "train_data_2.shape , test_data_2.shape"
   ]
  },
  {
   "cell_type": "code",
   "execution_count": 45,
   "id": "b691e472",
   "metadata": {
    "execution": {
     "iopub.execute_input": "2022-04-04T07:24:53.227416Z",
     "iopub.status.busy": "2022-04-04T07:24:53.226806Z",
     "iopub.status.idle": "2022-04-04T07:24:53.231721Z",
     "shell.execute_reply": "2022-04-04T07:24:53.232209Z",
     "shell.execute_reply.started": "2022-04-04T07:11:57.150131Z"
    },
    "papermill": {
     "duration": 0.087783,
     "end_time": "2022-04-04T07:24:53.232378",
     "exception": false,
     "start_time": "2022-04-04T07:24:53.144595",
     "status": "completed"
    },
    "tags": []
   },
   "outputs": [],
   "source": [
    "df_train_2 = train_data_2.iloc[:,[0,2,3,4]]\n",
    "df_test_2 = test_data_2.iloc[:,[0,2,3,4]]"
   ]
  },
  {
   "cell_type": "code",
   "execution_count": 46,
   "id": "1a38bdc0",
   "metadata": {
    "execution": {
     "iopub.execute_input": "2022-04-04T07:24:53.394502Z",
     "iopub.status.busy": "2022-04-04T07:24:53.393863Z",
     "iopub.status.idle": "2022-04-04T07:24:53.399246Z",
     "shell.execute_reply": "2022-04-04T07:24:53.399825Z",
     "shell.execute_reply.started": "2022-04-04T07:11:57.159843Z"
    },
    "papermill": {
     "duration": 0.087895,
     "end_time": "2022-04-04T07:24:53.399999",
     "exception": false,
     "start_time": "2022-04-04T07:24:53.312104",
     "status": "completed"
    },
    "tags": []
   },
   "outputs": [],
   "source": [
    "df_train_2 = df_train_2.rename(columns = {'FullDate':'ds',\n",
    "                                           'SysLoad':'add1','GasPrice':'add2',\n",
    "                                           'ElecPrice':'y'})\n",
    "df_test_2 = df_test_2.rename(columns = {'FullDate':'ds',\n",
    "                                           'SysLoad':'add1','GasPrice':'add2',\n",
    "                                           'ElecPrice':'y'})"
   ]
  },
  {
   "cell_type": "code",
   "execution_count": 47,
   "id": "82caac4f",
   "metadata": {
    "execution": {
     "iopub.execute_input": "2022-04-04T07:24:53.566652Z",
     "iopub.status.busy": "2022-04-04T07:24:53.565918Z",
     "iopub.status.idle": "2022-04-04T07:24:53.578266Z",
     "shell.execute_reply": "2022-04-04T07:24:53.578762Z",
     "shell.execute_reply.started": "2022-04-04T07:11:57.170741Z"
    },
    "papermill": {
     "duration": 0.095511,
     "end_time": "2022-04-04T07:24:53.578943",
     "exception": false,
     "start_time": "2022-04-04T07:24:53.483432",
     "status": "completed"
    },
    "tags": []
   },
   "outputs": [
    {
     "data": {
      "text/html": [
       "<div>\n",
       "<style scoped>\n",
       "    .dataframe tbody tr th:only-of-type {\n",
       "        vertical-align: middle;\n",
       "    }\n",
       "\n",
       "    .dataframe tbody tr th {\n",
       "        vertical-align: top;\n",
       "    }\n",
       "\n",
       "    .dataframe thead th {\n",
       "        text-align: right;\n",
       "    }\n",
       "</style>\n",
       "<table border=\"1\" class=\"dataframe\">\n",
       "  <thead>\n",
       "    <tr style=\"text-align: right;\">\n",
       "      <th></th>\n",
       "      <th>ds</th>\n",
       "      <th>add1</th>\n",
       "      <th>add2</th>\n",
       "      <th>y</th>\n",
       "    </tr>\n",
       "  </thead>\n",
       "  <tbody>\n",
       "    <tr>\n",
       "      <th>0</th>\n",
       "      <td>2010-09-01</td>\n",
       "      <td>41565.380</td>\n",
       "      <td>88.56</td>\n",
       "      <td>2751.700</td>\n",
       "    </tr>\n",
       "    <tr>\n",
       "      <th>1</th>\n",
       "      <td>2010-09-02</td>\n",
       "      <td>38898.990</td>\n",
       "      <td>88.56</td>\n",
       "      <td>570.810</td>\n",
       "    </tr>\n",
       "    <tr>\n",
       "      <th>2</th>\n",
       "      <td>2010-09-03</td>\n",
       "      <td>41665.760</td>\n",
       "      <td>106.80</td>\n",
       "      <td>504.975</td>\n",
       "    </tr>\n",
       "    <tr>\n",
       "      <th>3</th>\n",
       "      <td>2010-09-04</td>\n",
       "      <td>35638.085</td>\n",
       "      <td>81.36</td>\n",
       "      <td>502.275</td>\n",
       "    </tr>\n",
       "    <tr>\n",
       "      <th>4</th>\n",
       "      <td>2010-09-05</td>\n",
       "      <td>35611.410</td>\n",
       "      <td>106.80</td>\n",
       "      <td>500.555</td>\n",
       "    </tr>\n",
       "  </tbody>\n",
       "</table>\n",
       "</div>"
      ],
      "text/plain": [
       "          ds       add1    add2         y\n",
       "0 2010-09-01  41565.380   88.56  2751.700\n",
       "1 2010-09-02  38898.990   88.56   570.810\n",
       "2 2010-09-03  41665.760  106.80   504.975\n",
       "3 2010-09-04  35638.085   81.36   502.275\n",
       "4 2010-09-05  35611.410  106.80   500.555"
      ]
     },
     "execution_count": 47,
     "metadata": {},
     "output_type": "execute_result"
    }
   ],
   "source": [
    "df_train_2.head()"
   ]
  },
  {
   "cell_type": "code",
   "execution_count": 48,
   "id": "3092d713",
   "metadata": {
    "execution": {
     "iopub.execute_input": "2022-04-04T07:24:53.746596Z",
     "iopub.status.busy": "2022-04-04T07:24:53.745906Z",
     "iopub.status.idle": "2022-04-04T07:24:53.863641Z",
     "shell.execute_reply": "2022-04-04T07:24:53.864203Z",
     "shell.execute_reply.started": "2022-04-04T07:11:57.191446Z"
    },
    "papermill": {
     "duration": 0.2033,
     "end_time": "2022-04-04T07:24:53.864385",
     "exception": false,
     "start_time": "2022-04-04T07:24:53.661085",
     "status": "completed"
    },
    "tags": []
   },
   "outputs": [
    {
     "data": {
      "text/plain": [
       "<fbprophet.forecaster.Prophet at 0x7ff267c48850>"
      ]
     },
     "execution_count": 48,
     "metadata": {},
     "output_type": "execute_result"
    }
   ],
   "source": [
    "model = Prophet()\n",
    "model.add_regressor('add1')\n",
    "model.add_regressor('add2')"
   ]
  },
  {
   "cell_type": "code",
   "execution_count": 49,
   "id": "2b268967",
   "metadata": {
    "execution": {
     "iopub.execute_input": "2022-04-04T07:24:54.032733Z",
     "iopub.status.busy": "2022-04-04T07:24:54.030265Z",
     "iopub.status.idle": "2022-04-04T07:24:54.788505Z",
     "shell.execute_reply": "2022-04-04T07:24:54.789047Z",
     "shell.execute_reply.started": "2022-04-04T07:11:57.317865Z"
    },
    "papermill": {
     "duration": 0.842544,
     "end_time": "2022-04-04T07:24:54.789249",
     "exception": false,
     "start_time": "2022-04-04T07:24:53.946705",
     "status": "completed"
    },
    "tags": []
   },
   "outputs": [
    {
     "name": "stdout",
     "output_type": "stream",
     "text": [
      "Initial log joint probability = -4.20632\n",
      "    Iter      log prob        ||dx||      ||grad||       alpha      alpha0  # evals  Notes \n",
      "      99       8218.62   0.000422017        94.239           1           1      121   \n",
      "    Iter      log prob        ||dx||      ||grad||       alpha      alpha0  # evals  Notes \n",
      "     199       8219.39   5.87059e-05       77.0681        0.28           1      242   \n",
      "    Iter      log prob        ||dx||      ||grad||       alpha      alpha0  # evals  Notes \n",
      "     299       8219.75   0.000787244       97.0431      0.7361      0.7361      360   \n",
      "    Iter      log prob        ||dx||      ||grad||       alpha      alpha0  # evals  Notes \n",
      "     303       8219.76   2.35034e-05       104.781   2.094e-07       0.001      409  LS failed, Hessian reset \n",
      "     380       8219.85   4.79102e-07       62.7508      0.2411           1      505   \n",
      "Optimization terminated normally: \n",
      "  Convergence detected: relative gradient magnitude is below tolerance\n"
     ]
    }
   ],
   "source": [
    "model = model.fit(df_train_2)"
   ]
  },
  {
   "cell_type": "code",
   "execution_count": 50,
   "id": "1d2951e1",
   "metadata": {
    "execution": {
     "iopub.execute_input": "2022-04-04T07:24:54.962438Z",
     "iopub.status.busy": "2022-04-04T07:24:54.961754Z",
     "iopub.status.idle": "2022-04-04T07:24:59.207691Z",
     "shell.execute_reply": "2022-04-04T07:24:59.206680Z",
     "shell.execute_reply.started": "2022-04-04T07:11:58.065347Z"
    },
    "papermill": {
     "duration": 4.337229,
     "end_time": "2022-04-04T07:24:59.207845",
     "exception": false,
     "start_time": "2022-04-04T07:24:54.870616",
     "status": "completed"
    },
    "tags": []
   },
   "outputs": [],
   "source": [
    "forecast_values_new = model.predict(df_test_2)"
   ]
  },
  {
   "cell_type": "code",
   "execution_count": 51,
   "id": "3fc360ae",
   "metadata": {
    "execution": {
     "iopub.execute_input": "2022-04-04T07:24:59.373467Z",
     "iopub.status.busy": "2022-04-04T07:24:59.372428Z",
     "iopub.status.idle": "2022-04-04T07:24:59.378381Z",
     "shell.execute_reply": "2022-04-04T07:24:59.378928Z",
     "shell.execute_reply.started": "2022-04-04T07:12:01.723320Z"
    },
    "papermill": {
     "duration": 0.090464,
     "end_time": "2022-04-04T07:24:59.379099",
     "exception": false,
     "start_time": "2022-04-04T07:24:59.288635",
     "status": "completed"
    },
    "tags": []
   },
   "outputs": [
    {
     "name": "stdout",
     "output_type": "stream",
     "text": [
      "Mean Average Percentage Error ( MAPE) is:231.2\n"
     ]
    }
   ],
   "source": [
    "MAPE = Metric(df_test_2['y'],forecast_values_new['yhat'])\n",
    "print(f'Mean Average Percentage Error ( MAPE) is:{round(MAPE,2)}')"
   ]
  },
  {
   "cell_type": "code",
   "execution_count": null,
   "id": "757b8cbe",
   "metadata": {
    "papermill": {
     "duration": 0.081357,
     "end_time": "2022-04-04T07:24:59.542770",
     "exception": false,
     "start_time": "2022-04-04T07:24:59.461413",
     "status": "completed"
    },
    "tags": []
   },
   "outputs": [],
   "source": []
  }
 ],
 "metadata": {
  "kernelspec": {
   "display_name": "Python 3",
   "language": "python",
   "name": "python3"
  },
  "language_info": {
   "codemirror_mode": {
    "name": "ipython",
    "version": 3
   },
   "file_extension": ".py",
   "mimetype": "text/x-python",
   "name": "python",
   "nbconvert_exporter": "python",
   "pygments_lexer": "ipython3",
   "version": "3.7.12"
  },
  "papermill": {
   "default_parameters": {},
   "duration": 41.714419,
   "end_time": "2022-04-04T07:25:00.434685",
   "environment_variables": {},
   "exception": null,
   "input_path": "__notebook__.ipynb",
   "output_path": "__notebook__.ipynb",
   "parameters": {},
   "start_time": "2022-04-04T07:24:18.720266",
   "version": "2.3.3"
  }
 },
 "nbformat": 4,
 "nbformat_minor": 5
}
