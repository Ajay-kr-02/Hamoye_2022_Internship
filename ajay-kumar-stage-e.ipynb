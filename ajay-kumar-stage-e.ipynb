{
 "cells": [
  {
   "cell_type": "markdown",
   "id": "0f94b25c",
   "metadata": {
    "papermill": {
     "duration": 0.090372,
     "end_time": "2022-04-04T11:09:40.046104",
     "exception": false,
     "start_time": "2022-04-04T11:09:39.955732",
     "status": "completed"
    },
    "tags": []
   },
   "source": [
    "<b> Name: Ajay Kumar <br>\n",
    "    Hamoye ID: 147bffea7681f000 </b>"
   ]
  },
  {
   "cell_type": "code",
   "execution_count": 1,
   "id": "63249f65",
   "metadata": {
    "execution": {
     "iopub.execute_input": "2022-04-04T11:09:40.199613Z",
     "iopub.status.busy": "2022-04-04T11:09:40.198305Z",
     "iopub.status.idle": "2022-04-04T11:09:41.577639Z",
     "shell.execute_reply": "2022-04-04T11:09:41.576790Z",
     "shell.execute_reply.started": "2022-04-04T11:07:50.295292Z"
    },
    "papermill": {
     "duration": 1.451497,
     "end_time": "2022-04-04T11:09:41.577821",
     "exception": false,
     "start_time": "2022-04-04T11:09:40.126324",
     "status": "completed"
    },
    "tags": []
   },
   "outputs": [],
   "source": [
    "#Importing Libraries\n",
    "import numpy as np\n",
    "import pandas as pd\n",
    "import matplotlib.pyplot as plt\n",
    "import seaborn as sns\n",
    "from statsmodels.tsa.stattools import adfuller\n",
    "from fbprophet import Prophet"
   ]
  },
  {
   "cell_type": "code",
   "execution_count": 2,
   "id": "1e308f28",
   "metadata": {
    "execution": {
     "iopub.execute_input": "2022-04-04T11:09:41.721202Z",
     "iopub.status.busy": "2022-04-04T11:09:41.720453Z",
     "iopub.status.idle": "2022-04-04T11:09:41.877555Z",
     "shell.execute_reply": "2022-04-04T11:09:41.878094Z",
     "shell.execute_reply.started": "2022-04-04T11:07:51.663068Z"
    },
    "papermill": {
     "duration": 0.231367,
     "end_time": "2022-04-04T11:09:41.878298",
     "exception": false,
     "start_time": "2022-04-04T11:09:41.646931",
     "status": "completed"
    },
    "tags": []
   },
   "outputs": [],
   "source": [
    "data = pd.read_csv('../input/time-series-forecasting/Time_series_analysis_and_forecast_DATASET.csv')"
   ]
  },
  {
   "cell_type": "code",
   "execution_count": 3,
   "id": "310bb68c",
   "metadata": {
    "execution": {
     "iopub.execute_input": "2022-04-04T11:09:42.016903Z",
     "iopub.status.busy": "2022-04-04T11:09:42.016252Z",
     "iopub.status.idle": "2022-04-04T11:09:42.036913Z",
     "shell.execute_reply": "2022-04-04T11:09:42.037485Z",
     "shell.execute_reply.started": "2022-04-04T11:07:51.842387Z"
    },
    "papermill": {
     "duration": 0.091106,
     "end_time": "2022-04-04T11:09:42.037664",
     "exception": false,
     "start_time": "2022-04-04T11:09:41.946558",
     "status": "completed"
    },
    "tags": []
   },
   "outputs": [
    {
     "data": {
      "text/html": [
       "<div>\n",
       "<style scoped>\n",
       "    .dataframe tbody tr th:only-of-type {\n",
       "        vertical-align: middle;\n",
       "    }\n",
       "\n",
       "    .dataframe tbody tr th {\n",
       "        vertical-align: top;\n",
       "    }\n",
       "\n",
       "    .dataframe thead th {\n",
       "        text-align: right;\n",
       "    }\n",
       "</style>\n",
       "<table border=\"1\" class=\"dataframe\">\n",
       "  <thead>\n",
       "    <tr style=\"text-align: right;\">\n",
       "      <th></th>\n",
       "      <th>FullDate</th>\n",
       "      <th>Tmax</th>\n",
       "      <th>SysLoad</th>\n",
       "      <th>GasPrice</th>\n",
       "      <th>ElecPrice</th>\n",
       "    </tr>\n",
       "  </thead>\n",
       "  <tbody>\n",
       "    <tr>\n",
       "      <th>0</th>\n",
       "      <td>2010-09-01 00:00:00</td>\n",
       "      <td>15.8</td>\n",
       "      <td>1688.215</td>\n",
       "      <td>3.69</td>\n",
       "      <td>23.710</td>\n",
       "    </tr>\n",
       "    <tr>\n",
       "      <th>1</th>\n",
       "      <td>2010-09-01 01:00:00</td>\n",
       "      <td>15.8</td>\n",
       "      <td>1669.195</td>\n",
       "      <td>3.69</td>\n",
       "      <td>22.635</td>\n",
       "    </tr>\n",
       "    <tr>\n",
       "      <th>2</th>\n",
       "      <td>2010-09-01 02:00:00</td>\n",
       "      <td>15.8</td>\n",
       "      <td>1491.980</td>\n",
       "      <td>3.69</td>\n",
       "      <td>22.565</td>\n",
       "    </tr>\n",
       "    <tr>\n",
       "      <th>3</th>\n",
       "      <td>2010-09-01 03:00:00</td>\n",
       "      <td>15.8</td>\n",
       "      <td>1330.760</td>\n",
       "      <td>3.69</td>\n",
       "      <td>18.910</td>\n",
       "    </tr>\n",
       "    <tr>\n",
       "      <th>4</th>\n",
       "      <td>2010-09-01 04:00:00</td>\n",
       "      <td>15.8</td>\n",
       "      <td>1247.940</td>\n",
       "      <td>3.69</td>\n",
       "      <td>18.030</td>\n",
       "    </tr>\n",
       "  </tbody>\n",
       "</table>\n",
       "</div>"
      ],
      "text/plain": [
       "              FullDate  Tmax   SysLoad  GasPrice  ElecPrice\n",
       "0  2010-09-01 00:00:00  15.8  1688.215      3.69     23.710\n",
       "1  2010-09-01 01:00:00  15.8  1669.195      3.69     22.635\n",
       "2  2010-09-01 02:00:00  15.8  1491.980      3.69     22.565\n",
       "3  2010-09-01 03:00:00  15.8  1330.760      3.69     18.910\n",
       "4  2010-09-01 04:00:00  15.8  1247.940      3.69     18.030"
      ]
     },
     "execution_count": 3,
     "metadata": {},
     "output_type": "execute_result"
    }
   ],
   "source": [
    "data.head()"
   ]
  },
  {
   "cell_type": "markdown",
   "id": "557227ac",
   "metadata": {
    "papermill": {
     "duration": 0.068114,
     "end_time": "2022-04-04T11:09:42.173790",
     "exception": false,
     "start_time": "2022-04-04T11:09:42.105676",
     "status": "completed"
    },
    "tags": []
   },
   "source": [
    "**Description of Data Set**\n",
    "* FullDate: Date in format yyyy-mm-dd  hh:mm:ss\n",
    "\n",
    "* ElecPrice: Prices of electricity charged in Kw per hour\n",
    "\n",
    "* Gas Price: power generated was done via a gas power plant, gas price is the price of gas at time-T\n",
    "\n",
    "* SysLoad: Total Load on system or Power consumed at time-T \n",
    "* Tmax: maximum temperature at time-T"
   ]
  },
  {
   "cell_type": "code",
   "execution_count": 4,
   "id": "a45248a6",
   "metadata": {
    "execution": {
     "iopub.execute_input": "2022-04-04T11:09:42.313302Z",
     "iopub.status.busy": "2022-04-04T11:09:42.312610Z",
     "iopub.status.idle": "2022-04-04T11:09:42.345948Z",
     "shell.execute_reply": "2022-04-04T11:09:42.346597Z",
     "shell.execute_reply.started": "2022-04-04T11:07:51.868017Z"
    },
    "papermill": {
     "duration": 0.105228,
     "end_time": "2022-04-04T11:09:42.346793",
     "exception": false,
     "start_time": "2022-04-04T11:09:42.241565",
     "status": "completed"
    },
    "tags": []
   },
   "outputs": [
    {
     "name": "stdout",
     "output_type": "stream",
     "text": [
      "<class 'pandas.core.frame.DataFrame'>\n",
      "RangeIndex: 92016 entries, 0 to 92015\n",
      "Data columns (total 5 columns):\n",
      " #   Column     Non-Null Count  Dtype  \n",
      "---  ------     --------------  -----  \n",
      " 0   FullDate   92016 non-null  object \n",
      " 1   Tmax       92016 non-null  float64\n",
      " 2   SysLoad    92016 non-null  float64\n",
      " 3   GasPrice   92016 non-null  float64\n",
      " 4   ElecPrice  92016 non-null  float64\n",
      "dtypes: float64(4), object(1)\n",
      "memory usage: 3.5+ MB\n"
     ]
    }
   ],
   "source": [
    "data.info()"
   ]
  },
  {
   "cell_type": "markdown",
   "id": "9e080330",
   "metadata": {
    "papermill": {
     "duration": 0.06984,
     "end_time": "2022-04-04T11:09:42.485278",
     "exception": false,
     "start_time": "2022-04-04T11:09:42.415438",
     "status": "completed"
    },
    "tags": []
   },
   "source": [
    "**Column FullDate is object type rest of the features are of float data type.**"
   ]
  },
  {
   "cell_type": "code",
   "execution_count": 5,
   "id": "7fba659c",
   "metadata": {
    "execution": {
     "iopub.execute_input": "2022-04-04T11:09:42.627556Z",
     "iopub.status.busy": "2022-04-04T11:09:42.626777Z",
     "iopub.status.idle": "2022-04-04T11:09:42.642779Z",
     "shell.execute_reply": "2022-04-04T11:09:42.643444Z",
     "shell.execute_reply.started": "2022-04-04T11:07:51.903854Z"
    },
    "papermill": {
     "duration": 0.089912,
     "end_time": "2022-04-04T11:09:42.643634",
     "exception": false,
     "start_time": "2022-04-04T11:09:42.553722",
     "status": "completed"
    },
    "tags": []
   },
   "outputs": [
    {
     "data": {
      "text/plain": [
       "FullDate     0\n",
       "Tmax         0\n",
       "SysLoad      0\n",
       "GasPrice     0\n",
       "ElecPrice    0\n",
       "dtype: int64"
      ]
     },
     "execution_count": 5,
     "metadata": {},
     "output_type": "execute_result"
    }
   ],
   "source": [
    "data.isnull().sum()"
   ]
  },
  {
   "cell_type": "markdown",
   "id": "2080e95d",
   "metadata": {
    "papermill": {
     "duration": 0.070106,
     "end_time": "2022-04-04T11:09:42.783793",
     "exception": false,
     "start_time": "2022-04-04T11:09:42.713687",
     "status": "completed"
    },
    "tags": []
   },
   "source": [
    "**There are no missing values.**"
   ]
  },
  {
   "cell_type": "code",
   "execution_count": 6,
   "id": "9bbb11b5",
   "metadata": {
    "execution": {
     "iopub.execute_input": "2022-04-04T11:09:42.935708Z",
     "iopub.status.busy": "2022-04-04T11:09:42.934553Z",
     "iopub.status.idle": "2022-04-04T11:09:42.963829Z",
     "shell.execute_reply": "2022-04-04T11:09:42.964500Z",
     "shell.execute_reply.started": "2022-04-04T11:07:51.923690Z"
    },
    "papermill": {
     "duration": 0.110027,
     "end_time": "2022-04-04T11:09:42.964693",
     "exception": false,
     "start_time": "2022-04-04T11:09:42.854666",
     "status": "completed"
    },
    "tags": []
   },
   "outputs": [
    {
     "data": {
      "text/html": [
       "<div>\n",
       "<style scoped>\n",
       "    .dataframe tbody tr th:only-of-type {\n",
       "        vertical-align: middle;\n",
       "    }\n",
       "\n",
       "    .dataframe tbody tr th {\n",
       "        vertical-align: top;\n",
       "    }\n",
       "\n",
       "    .dataframe thead th {\n",
       "        text-align: right;\n",
       "    }\n",
       "</style>\n",
       "<table border=\"1\" class=\"dataframe\">\n",
       "  <thead>\n",
       "    <tr style=\"text-align: right;\">\n",
       "      <th></th>\n",
       "      <th>Tmax</th>\n",
       "      <th>SysLoad</th>\n",
       "      <th>GasPrice</th>\n",
       "      <th>ElecPrice</th>\n",
       "    </tr>\n",
       "  </thead>\n",
       "  <tbody>\n",
       "    <tr>\n",
       "      <th>count</th>\n",
       "      <td>92016.000000</td>\n",
       "      <td>92016.000000</td>\n",
       "      <td>92016.000000</td>\n",
       "      <td>92016.000000</td>\n",
       "    </tr>\n",
       "    <tr>\n",
       "      <th>mean</th>\n",
       "      <td>231.696688</td>\n",
       "      <td>797.623357</td>\n",
       "      <td>6.016163</td>\n",
       "      <td>65.798356</td>\n",
       "    </tr>\n",
       "    <tr>\n",
       "      <th>std</th>\n",
       "      <td>4562.128748</td>\n",
       "      <td>613.520156</td>\n",
       "      <td>2.608116</td>\n",
       "      <td>213.144084</td>\n",
       "    </tr>\n",
       "    <tr>\n",
       "      <th>min</th>\n",
       "      <td>9.900000</td>\n",
       "      <td>-1596.810100</td>\n",
       "      <td>0.000000</td>\n",
       "      <td>-924.820000</td>\n",
       "    </tr>\n",
       "    <tr>\n",
       "      <th>25%</th>\n",
       "      <td>17.300000</td>\n",
       "      <td>417.119800</td>\n",
       "      <td>3.936900</td>\n",
       "      <td>31.543750</td>\n",
       "    </tr>\n",
       "    <tr>\n",
       "      <th>50%</th>\n",
       "      <td>21.900000</td>\n",
       "      <td>856.467925</td>\n",
       "      <td>5.165600</td>\n",
       "      <td>48.715000</td>\n",
       "    </tr>\n",
       "    <tr>\n",
       "      <th>75%</th>\n",
       "      <td>27.600000</td>\n",
       "      <td>1221.293675</td>\n",
       "      <td>8.023300</td>\n",
       "      <td>76.495000</td>\n",
       "    </tr>\n",
       "    <tr>\n",
       "      <th>max</th>\n",
       "      <td>99999.900000</td>\n",
       "      <td>3264.166300</td>\n",
       "      <td>29.990000</td>\n",
       "      <td>14700.000000</td>\n",
       "    </tr>\n",
       "  </tbody>\n",
       "</table>\n",
       "</div>"
      ],
      "text/plain": [
       "               Tmax       SysLoad      GasPrice     ElecPrice\n",
       "count  92016.000000  92016.000000  92016.000000  92016.000000\n",
       "mean     231.696688    797.623357      6.016163     65.798356\n",
       "std     4562.128748    613.520156      2.608116    213.144084\n",
       "min        9.900000  -1596.810100      0.000000   -924.820000\n",
       "25%       17.300000    417.119800      3.936900     31.543750\n",
       "50%       21.900000    856.467925      5.165600     48.715000\n",
       "75%       27.600000   1221.293675      8.023300     76.495000\n",
       "max    99999.900000   3264.166300     29.990000  14700.000000"
      ]
     },
     "execution_count": 6,
     "metadata": {},
     "output_type": "execute_result"
    }
   ],
   "source": [
    "data.describe() # Gettiing statistcal values of each feature."
   ]
  },
  {
   "cell_type": "code",
   "execution_count": 7,
   "id": "6186b204",
   "metadata": {
    "execution": {
     "iopub.execute_input": "2022-04-04T11:09:43.109730Z",
     "iopub.status.busy": "2022-04-04T11:09:43.108653Z",
     "iopub.status.idle": "2022-04-04T11:09:43.145827Z",
     "shell.execute_reply": "2022-04-04T11:09:43.146440Z",
     "shell.execute_reply.started": "2022-04-04T11:07:51.961311Z"
    },
    "papermill": {
     "duration": 0.111472,
     "end_time": "2022-04-04T11:09:43.146635",
     "exception": false,
     "start_time": "2022-04-04T11:09:43.035163",
     "status": "completed"
    },
    "tags": []
   },
   "outputs": [],
   "source": [
    "data['FullDate']= pd.to_datetime(data['FullDate']) # Converting object type column into datetime column."
   ]
  },
  {
   "cell_type": "code",
   "execution_count": 8,
   "id": "b5139153",
   "metadata": {
    "execution": {
     "iopub.execute_input": "2022-04-04T11:09:43.291804Z",
     "iopub.status.busy": "2022-04-04T11:09:43.291125Z",
     "iopub.status.idle": "2022-04-04T11:09:43.297950Z",
     "shell.execute_reply": "2022-04-04T11:09:43.298568Z",
     "shell.execute_reply.started": "2022-04-04T11:07:52.002473Z"
    },
    "papermill": {
     "duration": 0.080154,
     "end_time": "2022-04-04T11:09:43.298751",
     "exception": false,
     "start_time": "2022-04-04T11:09:43.218597",
     "status": "completed"
    },
    "tags": []
   },
   "outputs": [],
   "source": [
    "data = data.set_index(\"FullDate\") # Converting FullDate column as row indexes."
   ]
  },
  {
   "cell_type": "code",
   "execution_count": 9,
   "id": "badee14a",
   "metadata": {
    "execution": {
     "iopub.execute_input": "2022-04-04T11:09:43.443460Z",
     "iopub.status.busy": "2022-04-04T11:09:43.442787Z",
     "iopub.status.idle": "2022-04-04T11:09:43.454586Z",
     "shell.execute_reply": "2022-04-04T11:09:43.455231Z",
     "shell.execute_reply.started": "2022-04-04T11:07:52.016550Z"
    },
    "papermill": {
     "duration": 0.085837,
     "end_time": "2022-04-04T11:09:43.455413",
     "exception": false,
     "start_time": "2022-04-04T11:09:43.369576",
     "status": "completed"
    },
    "tags": []
   },
   "outputs": [
    {
     "data": {
      "text/html": [
       "<div>\n",
       "<style scoped>\n",
       "    .dataframe tbody tr th:only-of-type {\n",
       "        vertical-align: middle;\n",
       "    }\n",
       "\n",
       "    .dataframe tbody tr th {\n",
       "        vertical-align: top;\n",
       "    }\n",
       "\n",
       "    .dataframe thead th {\n",
       "        text-align: right;\n",
       "    }\n",
       "</style>\n",
       "<table border=\"1\" class=\"dataframe\">\n",
       "  <thead>\n",
       "    <tr style=\"text-align: right;\">\n",
       "      <th></th>\n",
       "      <th>Tmax</th>\n",
       "      <th>SysLoad</th>\n",
       "      <th>GasPrice</th>\n",
       "      <th>ElecPrice</th>\n",
       "    </tr>\n",
       "    <tr>\n",
       "      <th>FullDate</th>\n",
       "      <th></th>\n",
       "      <th></th>\n",
       "      <th></th>\n",
       "      <th></th>\n",
       "    </tr>\n",
       "  </thead>\n",
       "  <tbody>\n",
       "    <tr>\n",
       "      <th>2010-09-01 00:00:00</th>\n",
       "      <td>15.8</td>\n",
       "      <td>1688.215</td>\n",
       "      <td>3.69</td>\n",
       "      <td>23.710</td>\n",
       "    </tr>\n",
       "    <tr>\n",
       "      <th>2010-09-01 01:00:00</th>\n",
       "      <td>15.8</td>\n",
       "      <td>1669.195</td>\n",
       "      <td>3.69</td>\n",
       "      <td>22.635</td>\n",
       "    </tr>\n",
       "    <tr>\n",
       "      <th>2010-09-01 02:00:00</th>\n",
       "      <td>15.8</td>\n",
       "      <td>1491.980</td>\n",
       "      <td>3.69</td>\n",
       "      <td>22.565</td>\n",
       "    </tr>\n",
       "    <tr>\n",
       "      <th>2010-09-01 03:00:00</th>\n",
       "      <td>15.8</td>\n",
       "      <td>1330.760</td>\n",
       "      <td>3.69</td>\n",
       "      <td>18.910</td>\n",
       "    </tr>\n",
       "    <tr>\n",
       "      <th>2010-09-01 04:00:00</th>\n",
       "      <td>15.8</td>\n",
       "      <td>1247.940</td>\n",
       "      <td>3.69</td>\n",
       "      <td>18.030</td>\n",
       "    </tr>\n",
       "  </tbody>\n",
       "</table>\n",
       "</div>"
      ],
      "text/plain": [
       "                     Tmax   SysLoad  GasPrice  ElecPrice\n",
       "FullDate                                                \n",
       "2010-09-01 00:00:00  15.8  1688.215      3.69     23.710\n",
       "2010-09-01 01:00:00  15.8  1669.195      3.69     22.635\n",
       "2010-09-01 02:00:00  15.8  1491.980      3.69     22.565\n",
       "2010-09-01 03:00:00  15.8  1330.760      3.69     18.910\n",
       "2010-09-01 04:00:00  15.8  1247.940      3.69     18.030"
      ]
     },
     "execution_count": 9,
     "metadata": {},
     "output_type": "execute_result"
    }
   ],
   "source": [
    "data.head()"
   ]
  },
  {
   "cell_type": "markdown",
   "id": "92e4cb97",
   "metadata": {
    "papermill": {
     "duration": 0.070264,
     "end_time": "2022-04-04T11:09:43.595928",
     "exception": false,
     "start_time": "2022-04-04T11:09:43.525664",
     "status": "completed"
    },
    "tags": []
   },
   "source": [
    "**Q.11 Resample the data from an hour sampling rate to a daily sampling rate (i.e sum over the hours for each day). Which of the following is a plot of ElecPrice over time?**"
   ]
  },
  {
   "cell_type": "code",
   "execution_count": 10,
   "id": "a15f9b1a",
   "metadata": {
    "execution": {
     "iopub.execute_input": "2022-04-04T11:09:43.739501Z",
     "iopub.status.busy": "2022-04-04T11:09:43.738856Z",
     "iopub.status.idle": "2022-04-04T11:09:43.755303Z",
     "shell.execute_reply": "2022-04-04T11:09:43.754715Z",
     "shell.execute_reply.started": "2022-04-04T11:07:52.034474Z"
    },
    "papermill": {
     "duration": 0.089455,
     "end_time": "2022-04-04T11:09:43.755457",
     "exception": false,
     "start_time": "2022-04-04T11:09:43.666002",
     "status": "completed"
    },
    "tags": []
   },
   "outputs": [],
   "source": [
    "# Sampling Data for a day\n",
    "day_data = data.resample('D').sum()"
   ]
  },
  {
   "cell_type": "code",
   "execution_count": 11,
   "id": "46150f76",
   "metadata": {
    "execution": {
     "iopub.execute_input": "2022-04-04T11:09:43.908921Z",
     "iopub.status.busy": "2022-04-04T11:09:43.908227Z",
     "iopub.status.idle": "2022-04-04T11:09:43.911004Z",
     "shell.execute_reply": "2022-04-04T11:09:43.911604Z",
     "shell.execute_reply.started": "2022-04-04T11:07:52.053639Z"
    },
    "papermill": {
     "duration": 0.086349,
     "end_time": "2022-04-04T11:09:43.911787",
     "exception": false,
     "start_time": "2022-04-04T11:09:43.825438",
     "status": "completed"
    },
    "tags": []
   },
   "outputs": [
    {
     "data": {
      "text/html": [
       "<div>\n",
       "<style scoped>\n",
       "    .dataframe tbody tr th:only-of-type {\n",
       "        vertical-align: middle;\n",
       "    }\n",
       "\n",
       "    .dataframe tbody tr th {\n",
       "        vertical-align: top;\n",
       "    }\n",
       "\n",
       "    .dataframe thead th {\n",
       "        text-align: right;\n",
       "    }\n",
       "</style>\n",
       "<table border=\"1\" class=\"dataframe\">\n",
       "  <thead>\n",
       "    <tr style=\"text-align: right;\">\n",
       "      <th></th>\n",
       "      <th>Tmax</th>\n",
       "      <th>SysLoad</th>\n",
       "      <th>GasPrice</th>\n",
       "      <th>ElecPrice</th>\n",
       "    </tr>\n",
       "    <tr>\n",
       "      <th>FullDate</th>\n",
       "      <th></th>\n",
       "      <th></th>\n",
       "      <th></th>\n",
       "      <th></th>\n",
       "    </tr>\n",
       "  </thead>\n",
       "  <tbody>\n",
       "    <tr>\n",
       "      <th>2010-09-01</th>\n",
       "      <td>379.2</td>\n",
       "      <td>41565.380</td>\n",
       "      <td>88.56</td>\n",
       "      <td>2751.700</td>\n",
       "    </tr>\n",
       "    <tr>\n",
       "      <th>2010-09-02</th>\n",
       "      <td>369.6</td>\n",
       "      <td>38898.990</td>\n",
       "      <td>88.56</td>\n",
       "      <td>570.810</td>\n",
       "    </tr>\n",
       "    <tr>\n",
       "      <th>2010-09-03</th>\n",
       "      <td>439.2</td>\n",
       "      <td>41665.760</td>\n",
       "      <td>106.80</td>\n",
       "      <td>504.975</td>\n",
       "    </tr>\n",
       "    <tr>\n",
       "      <th>2010-09-04</th>\n",
       "      <td>328.8</td>\n",
       "      <td>35638.085</td>\n",
       "      <td>81.36</td>\n",
       "      <td>502.275</td>\n",
       "    </tr>\n",
       "    <tr>\n",
       "      <th>2010-09-05</th>\n",
       "      <td>357.6</td>\n",
       "      <td>35611.410</td>\n",
       "      <td>106.80</td>\n",
       "      <td>500.555</td>\n",
       "    </tr>\n",
       "  </tbody>\n",
       "</table>\n",
       "</div>"
      ],
      "text/plain": [
       "             Tmax    SysLoad  GasPrice  ElecPrice\n",
       "FullDate                                         \n",
       "2010-09-01  379.2  41565.380     88.56   2751.700\n",
       "2010-09-02  369.6  38898.990     88.56    570.810\n",
       "2010-09-03  439.2  41665.760    106.80    504.975\n",
       "2010-09-04  328.8  35638.085     81.36    502.275\n",
       "2010-09-05  357.6  35611.410    106.80    500.555"
      ]
     },
     "execution_count": 11,
     "metadata": {},
     "output_type": "execute_result"
    }
   ],
   "source": [
    "day_data.head()"
   ]
  },
  {
   "cell_type": "code",
   "execution_count": 12,
   "id": "bb0c9745",
   "metadata": {
    "execution": {
     "iopub.execute_input": "2022-04-04T11:09:44.059129Z",
     "iopub.status.busy": "2022-04-04T11:09:44.057189Z",
     "iopub.status.idle": "2022-04-04T11:09:44.414424Z",
     "shell.execute_reply": "2022-04-04T11:09:44.413580Z",
     "shell.execute_reply.started": "2022-04-04T11:07:52.067553Z"
    },
    "papermill": {
     "duration": 0.431542,
     "end_time": "2022-04-04T11:09:44.414650",
     "exception": false,
     "start_time": "2022-04-04T11:09:43.983108",
     "status": "completed"
    },
    "tags": []
   },
   "outputs": [
    {
     "data": {
      "text/plain": [
       "Text(0, 0.5, 'Electric Price')"
      ]
     },
     "execution_count": 12,
     "metadata": {},
     "output_type": "execute_result"
    },
    {
     "data": {
      "image/png": "[encoded data removed]",
      "text/plain": [
       "<Figure size 1080x576 with 1 Axes>"
      ]
     },
     "metadata": {
      "needs_background": "light"
     },
     "output_type": "display_data"
    }
   ],
   "source": [
    "plt.figure(figsize=( 15 , 8 ))\n",
    "plt.plot(day_data.index, day_data['ElecPrice'], '--' , marker= '*' , )\n",
    "plt.grid()\n",
    "plt.xlabel( 'Year' )\n",
    "plt.ylabel( 'Electric Price' )"
   ]
  },
  {
   "cell_type": "markdown",
   "id": "4cc15da1",
   "metadata": {
    "papermill": {
     "duration": 0.088299,
     "end_time": "2022-04-04T11:09:44.588827",
     "exception": false,
     "start_time": "2022-04-04T11:09:44.500528",
     "status": "completed"
    },
    "tags": []
   },
   "source": [
    "**Above shown graph provides the answer.**"
   ]
  },
  {
   "cell_type": "markdown",
   "id": "a2e29a62",
   "metadata": {
    "papermill": {
     "duration": 0.07398,
     "end_time": "2022-04-04T11:09:44.737000",
     "exception": false,
     "start_time": "2022-04-04T11:09:44.663020",
     "status": "completed"
    },
    "tags": []
   },
   "source": [
    "**Q.12 Using the Augmented Dicky Fuller test (ADF), what is the P-value of the SysLoad and GasPrice of the resampled Data set, to 6 decimal places?**"
   ]
  },
  {
   "cell_type": "code",
   "execution_count": 13,
   "id": "bf5f351c",
   "metadata": {
    "execution": {
     "iopub.execute_input": "2022-04-04T11:09:44.891444Z",
     "iopub.status.busy": "2022-04-04T11:09:44.890361Z",
     "iopub.status.idle": "2022-04-04T11:09:45.386142Z",
     "shell.execute_reply": "2022-04-04T11:09:45.387821Z",
     "shell.execute_reply.started": "2022-04-04T11:07:52.381076Z"
    },
    "papermill": {
     "duration": 0.577476,
     "end_time": "2022-04-04T11:09:45.388254",
     "exception": false,
     "start_time": "2022-04-04T11:09:44.810778",
     "status": "completed"
    },
    "tags": []
   },
   "outputs": [
    {
     "name": "stdout",
     "output_type": "stream",
     "text": [
      "SysLoad p-value: 0.004254\n",
      "GasPrice p-value: 0.045027\n"
     ]
    }
   ],
   "source": [
    "system_result = adfuller(day_data['SysLoad'])\n",
    "gas_result = adfuller(day_data['GasPrice'])\n",
    "print(f'SysLoad p-value: {round(system_result[1],6)}')\n",
    "print(f'GasPrice p-value: {round(gas_result[1],6)}')"
   ]
  },
  {
   "cell_type": "markdown",
   "id": "f5ac08f0",
   "metadata": {
    "papermill": {
     "duration": 0.073418,
     "end_time": "2022-04-04T11:09:45.589575",
     "exception": false,
     "start_time": "2022-04-04T11:09:45.516157",
     "status": "completed"
    },
    "tags": []
   },
   "source": [
    "**SysLoad p-value: 0.004254\n",
    "GasPrice p-value: 0.045027**"
   ]
  },
  {
   "cell_type": "markdown",
   "id": "f57af0e3",
   "metadata": {
    "papermill": {
     "duration": 0.07319,
     "end_time": "2022-04-04T11:09:45.737525",
     "exception": false,
     "start_time": "2022-04-04T11:09:45.664335",
     "status": "completed"
    },
    "tags": []
   },
   "source": [
    "**Q.13 Using the Augmented Dicky Fuller test (ADF) what are the 10% and 5% critical values of GasPrice and ElecPrice of the resampled Data set, to 4 decimal places.**"
   ]
  },
  {
   "cell_type": "code",
   "execution_count": 14,
   "id": "572cb014",
   "metadata": {
    "execution": {
     "iopub.execute_input": "2022-04-04T11:09:45.889278Z",
     "iopub.status.busy": "2022-04-04T11:09:45.888588Z",
     "iopub.status.idle": "2022-04-04T11:09:46.092747Z",
     "shell.execute_reply": "2022-04-04T11:09:46.093689Z",
     "shell.execute_reply.started": "2022-04-04T11:07:52.793242Z"
    },
    "papermill": {
     "duration": 0.283242,
     "end_time": "2022-04-04T11:09:46.094018",
     "exception": false,
     "start_time": "2022-04-04T11:09:45.810776",
     "status": "completed"
    },
    "tags": []
   },
   "outputs": [],
   "source": [
    "electricity_result = adfuller(day_data['ElecPrice'])"
   ]
  },
  {
   "cell_type": "code",
   "execution_count": 15,
   "id": "c87d6157",
   "metadata": {
    "execution": {
     "iopub.execute_input": "2022-04-04T11:09:46.306390Z",
     "iopub.status.busy": "2022-04-04T11:09:46.305285Z",
     "iopub.status.idle": "2022-04-04T11:09:46.310383Z",
     "shell.execute_reply": "2022-04-04T11:09:46.309571Z",
     "shell.execute_reply.started": "2022-04-04T11:07:52.993363Z"
    },
    "papermill": {
     "duration": 0.086333,
     "end_time": "2022-04-04T11:09:46.310545",
     "exception": false,
     "start_time": "2022-04-04T11:09:46.224212",
     "status": "completed"
    },
    "tags": []
   },
   "outputs": [
    {
     "name": "stdout",
     "output_type": "stream",
     "text": [
      "Critical Values:\n",
      "10% of GasPrice : -2.5672\n",
      "5% of GasPrice : -2.8623\n"
     ]
    }
   ],
   "source": [
    "print('Critical Values:')\n",
    "print(f'10% of GasPrice : {round(gas_result[4][\"10%\"],4)}')\n",
    "print(f'5% of GasPrice : {round(electricity_result[4][\"5%\"],4)}') "
   ]
  },
  {
   "cell_type": "markdown",
   "id": "065d807d",
   "metadata": {
    "papermill": {
     "duration": 0.074274,
     "end_time": "2022-04-04T11:09:46.459571",
     "exception": false,
     "start_time": "2022-04-04T11:09:46.385297",
     "status": "completed"
    },
    "tags": []
   },
   "source": [
    "**Critical Values are: <br>\n",
    "10% of GasPrice : -2.5672\n",
    "5% of GasPrice : -2.8623**"
   ]
  },
  {
   "cell_type": "code",
   "execution_count": 16,
   "id": "1b7d27a2",
   "metadata": {
    "execution": {
     "iopub.execute_input": "2022-04-04T11:09:46.610306Z",
     "iopub.status.busy": "2022-04-04T11:09:46.609636Z",
     "iopub.status.idle": "2022-04-04T11:09:46.614881Z",
     "shell.execute_reply": "2022-04-04T11:09:46.614357Z",
     "shell.execute_reply.started": "2022-04-04T11:07:53.003439Z"
    },
    "papermill": {
     "duration": 0.081189,
     "end_time": "2022-04-04T11:09:46.615028",
     "exception": false,
     "start_time": "2022-04-04T11:09:46.533839",
     "status": "completed"
    },
    "tags": []
   },
   "outputs": [],
   "source": [
    "train_data = day_data.iloc[:2757,:]\n",
    "test_data = day_data.iloc[2757:,:] "
   ]
  },
  {
   "cell_type": "code",
   "execution_count": 17,
   "id": "aa4ad47f",
   "metadata": {
    "execution": {
     "iopub.execute_input": "2022-04-04T11:09:46.773151Z",
     "iopub.status.busy": "2022-04-04T11:09:46.772213Z",
     "iopub.status.idle": "2022-04-04T11:09:46.775771Z",
     "shell.execute_reply": "2022-04-04T11:09:46.776348Z",
     "shell.execute_reply.started": "2022-04-04T11:07:53.013757Z"
    },
    "papermill": {
     "duration": 0.086199,
     "end_time": "2022-04-04T11:09:46.776526",
     "exception": false,
     "start_time": "2022-04-04T11:09:46.690327",
     "status": "completed"
    },
    "tags": []
   },
   "outputs": [
    {
     "data": {
      "text/plain": [
       "((2757, 4), (1077, 4))"
      ]
     },
     "execution_count": 17,
     "metadata": {},
     "output_type": "execute_result"
    }
   ],
   "source": [
    "train_data.shape , test_data.shape"
   ]
  },
  {
   "cell_type": "code",
   "execution_count": 18,
   "id": "da07041d",
   "metadata": {
    "execution": {
     "iopub.execute_input": "2022-04-04T11:09:46.930142Z",
     "iopub.status.busy": "2022-04-04T11:09:46.928124Z",
     "iopub.status.idle": "2022-04-04T11:09:46.940938Z",
     "shell.execute_reply": "2022-04-04T11:09:46.941487Z",
     "shell.execute_reply.started": "2022-04-04T11:07:53.028591Z"
    },
    "papermill": {
     "duration": 0.091127,
     "end_time": "2022-04-04T11:09:46.941662",
     "exception": false,
     "start_time": "2022-04-04T11:09:46.850535",
     "status": "completed"
    },
    "tags": []
   },
   "outputs": [
    {
     "data": {
      "text/html": [
       "<div>\n",
       "<style scoped>\n",
       "    .dataframe tbody tr th:only-of-type {\n",
       "        vertical-align: middle;\n",
       "    }\n",
       "\n",
       "    .dataframe tbody tr th {\n",
       "        vertical-align: top;\n",
       "    }\n",
       "\n",
       "    .dataframe thead th {\n",
       "        text-align: right;\n",
       "    }\n",
       "</style>\n",
       "<table border=\"1\" class=\"dataframe\">\n",
       "  <thead>\n",
       "    <tr style=\"text-align: right;\">\n",
       "      <th></th>\n",
       "      <th>FullDate</th>\n",
       "      <th>Tmax</th>\n",
       "      <th>SysLoad</th>\n",
       "      <th>GasPrice</th>\n",
       "      <th>ElecPrice</th>\n",
       "    </tr>\n",
       "  </thead>\n",
       "  <tbody>\n",
       "    <tr>\n",
       "      <th>0</th>\n",
       "      <td>2010-09-01</td>\n",
       "      <td>379.2</td>\n",
       "      <td>41565.380</td>\n",
       "      <td>88.56</td>\n",
       "      <td>2751.700</td>\n",
       "    </tr>\n",
       "    <tr>\n",
       "      <th>1</th>\n",
       "      <td>2010-09-02</td>\n",
       "      <td>369.6</td>\n",
       "      <td>38898.990</td>\n",
       "      <td>88.56</td>\n",
       "      <td>570.810</td>\n",
       "    </tr>\n",
       "    <tr>\n",
       "      <th>2</th>\n",
       "      <td>2010-09-03</td>\n",
       "      <td>439.2</td>\n",
       "      <td>41665.760</td>\n",
       "      <td>106.80</td>\n",
       "      <td>504.975</td>\n",
       "    </tr>\n",
       "    <tr>\n",
       "      <th>3</th>\n",
       "      <td>2010-09-04</td>\n",
       "      <td>328.8</td>\n",
       "      <td>35638.085</td>\n",
       "      <td>81.36</td>\n",
       "      <td>502.275</td>\n",
       "    </tr>\n",
       "    <tr>\n",
       "      <th>4</th>\n",
       "      <td>2010-09-05</td>\n",
       "      <td>357.6</td>\n",
       "      <td>35611.410</td>\n",
       "      <td>106.80</td>\n",
       "      <td>500.555</td>\n",
       "    </tr>\n",
       "  </tbody>\n",
       "</table>\n",
       "</div>"
      ],
      "text/plain": [
       "    FullDate   Tmax    SysLoad  GasPrice  ElecPrice\n",
       "0 2010-09-01  379.2  41565.380     88.56   2751.700\n",
       "1 2010-09-02  369.6  38898.990     88.56    570.810\n",
       "2 2010-09-03  439.2  41665.760    106.80    504.975\n",
       "3 2010-09-04  328.8  35638.085     81.36    502.275\n",
       "4 2010-09-05  357.6  35611.410    106.80    500.555"
      ]
     },
     "execution_count": 18,
     "metadata": {},
     "output_type": "execute_result"
    }
   ],
   "source": [
    "train_data.reset_index(inplace = True)\n",
    "train_data.head()"
   ]
  },
  {
   "cell_type": "code",
   "execution_count": 19,
   "id": "43eea1b3",
   "metadata": {
    "execution": {
     "iopub.execute_input": "2022-04-04T11:09:47.096110Z",
     "iopub.status.busy": "2022-04-04T11:09:47.093826Z",
     "iopub.status.idle": "2022-04-04T11:09:47.098926Z",
     "shell.execute_reply": "2022-04-04T11:09:47.098277Z",
     "shell.execute_reply.started": "2022-04-04T11:07:53.056197Z"
    },
    "papermill": {
     "duration": 0.082614,
     "end_time": "2022-04-04T11:09:47.099089",
     "exception": false,
     "start_time": "2022-04-04T11:09:47.016475",
     "status": "completed"
    },
    "tags": []
   },
   "outputs": [],
   "source": [
    "df_train = train_data.iloc[:,[0,-1]]"
   ]
  },
  {
   "cell_type": "code",
   "execution_count": 20,
   "id": "ec068324",
   "metadata": {
    "execution": {
     "iopub.execute_input": "2022-04-04T11:09:47.260103Z",
     "iopub.status.busy": "2022-04-04T11:09:47.259212Z",
     "iopub.status.idle": "2022-04-04T11:09:47.262957Z",
     "shell.execute_reply": "2022-04-04T11:09:47.263539Z",
     "shell.execute_reply.started": "2022-04-04T11:07:53.064746Z"
    },
    "papermill": {
     "duration": 0.089673,
     "end_time": "2022-04-04T11:09:47.263720",
     "exception": false,
     "start_time": "2022-04-04T11:09:47.174047",
     "status": "completed"
    },
    "tags": []
   },
   "outputs": [
    {
     "data": {
      "text/html": [
       "<div>\n",
       "<style scoped>\n",
       "    .dataframe tbody tr th:only-of-type {\n",
       "        vertical-align: middle;\n",
       "    }\n",
       "\n",
       "    .dataframe tbody tr th {\n",
       "        vertical-align: top;\n",
       "    }\n",
       "\n",
       "    .dataframe thead th {\n",
       "        text-align: right;\n",
       "    }\n",
       "</style>\n",
       "<table border=\"1\" class=\"dataframe\">\n",
       "  <thead>\n",
       "    <tr style=\"text-align: right;\">\n",
       "      <th></th>\n",
       "      <th>ds</th>\n",
       "      <th>y</th>\n",
       "    </tr>\n",
       "  </thead>\n",
       "  <tbody>\n",
       "    <tr>\n",
       "      <th>0</th>\n",
       "      <td>2010-09-01</td>\n",
       "      <td>2751.700</td>\n",
       "    </tr>\n",
       "    <tr>\n",
       "      <th>1</th>\n",
       "      <td>2010-09-02</td>\n",
       "      <td>570.810</td>\n",
       "    </tr>\n",
       "    <tr>\n",
       "      <th>2</th>\n",
       "      <td>2010-09-03</td>\n",
       "      <td>504.975</td>\n",
       "    </tr>\n",
       "    <tr>\n",
       "      <th>3</th>\n",
       "      <td>2010-09-04</td>\n",
       "      <td>502.275</td>\n",
       "    </tr>\n",
       "    <tr>\n",
       "      <th>4</th>\n",
       "      <td>2010-09-05</td>\n",
       "      <td>500.555</td>\n",
       "    </tr>\n",
       "  </tbody>\n",
       "</table>\n",
       "</div>"
      ],
      "text/plain": [
       "          ds         y\n",
       "0 2010-09-01  2751.700\n",
       "1 2010-09-02   570.810\n",
       "2 2010-09-03   504.975\n",
       "3 2010-09-04   502.275\n",
       "4 2010-09-05   500.555"
      ]
     },
     "execution_count": 20,
     "metadata": {},
     "output_type": "execute_result"
    }
   ],
   "source": [
    "df_train = df_train.rename(columns={\"FullDate\": \"ds\", \"ElecPrice\": \"y\"})\n",
    "df_train.head()"
   ]
  },
  {
   "cell_type": "code",
   "execution_count": 21,
   "id": "009cbe2a",
   "metadata": {
    "execution": {
     "iopub.execute_input": "2022-04-04T11:09:47.421185Z",
     "iopub.status.busy": "2022-04-04T11:09:47.420512Z",
     "iopub.status.idle": "2022-04-04T11:09:47.433437Z",
     "shell.execute_reply": "2022-04-04T11:09:47.434026Z",
     "shell.execute_reply.started": "2022-04-04T11:07:53.087240Z"
    },
    "papermill": {
     "duration": 0.094357,
     "end_time": "2022-04-04T11:09:47.434252",
     "exception": false,
     "start_time": "2022-04-04T11:09:47.339895",
     "status": "completed"
    },
    "tags": []
   },
   "outputs": [
    {
     "data": {
      "text/html": [
       "<div>\n",
       "<style scoped>\n",
       "    .dataframe tbody tr th:only-of-type {\n",
       "        vertical-align: middle;\n",
       "    }\n",
       "\n",
       "    .dataframe tbody tr th {\n",
       "        vertical-align: top;\n",
       "    }\n",
       "\n",
       "    .dataframe thead th {\n",
       "        text-align: right;\n",
       "    }\n",
       "</style>\n",
       "<table border=\"1\" class=\"dataframe\">\n",
       "  <thead>\n",
       "    <tr style=\"text-align: right;\">\n",
       "      <th></th>\n",
       "      <th>FullDate</th>\n",
       "      <th>Tmax</th>\n",
       "      <th>SysLoad</th>\n",
       "      <th>GasPrice</th>\n",
       "      <th>ElecPrice</th>\n",
       "    </tr>\n",
       "  </thead>\n",
       "  <tbody>\n",
       "    <tr>\n",
       "      <th>0</th>\n",
       "      <td>2018-03-20</td>\n",
       "      <td>540.0</td>\n",
       "      <td>7696.91130</td>\n",
       "      <td>201.5880</td>\n",
       "      <td>1833.00</td>\n",
       "    </tr>\n",
       "    <tr>\n",
       "      <th>1</th>\n",
       "      <td>2018-03-21</td>\n",
       "      <td>571.2</td>\n",
       "      <td>4658.05865</td>\n",
       "      <td>203.2560</td>\n",
       "      <td>1730.49</td>\n",
       "    </tr>\n",
       "    <tr>\n",
       "      <th>2</th>\n",
       "      <td>2018-03-22</td>\n",
       "      <td>722.4</td>\n",
       "      <td>19161.78525</td>\n",
       "      <td>203.2560</td>\n",
       "      <td>2260.55</td>\n",
       "    </tr>\n",
       "    <tr>\n",
       "      <th>3</th>\n",
       "      <td>2018-03-23</td>\n",
       "      <td>811.2</td>\n",
       "      <td>18090.43435</td>\n",
       "      <td>198.6456</td>\n",
       "      <td>2138.76</td>\n",
       "    </tr>\n",
       "    <tr>\n",
       "      <th>4</th>\n",
       "      <td>2018-03-24</td>\n",
       "      <td>832.8</td>\n",
       "      <td>3763.53865</td>\n",
       "      <td>180.2160</td>\n",
       "      <td>1721.70</td>\n",
       "    </tr>\n",
       "  </tbody>\n",
       "</table>\n",
       "</div>"
      ],
      "text/plain": [
       "    FullDate   Tmax      SysLoad  GasPrice  ElecPrice\n",
       "0 2018-03-20  540.0   7696.91130  201.5880    1833.00\n",
       "1 2018-03-21  571.2   4658.05865  203.2560    1730.49\n",
       "2 2018-03-22  722.4  19161.78525  203.2560    2260.55\n",
       "3 2018-03-23  811.2  18090.43435  198.6456    2138.76\n",
       "4 2018-03-24  832.8   3763.53865  180.2160    1721.70"
      ]
     },
     "execution_count": 21,
     "metadata": {},
     "output_type": "execute_result"
    }
   ],
   "source": [
    "test_data.reset_index(inplace = True)\n",
    "test_data.head()"
   ]
  },
  {
   "cell_type": "code",
   "execution_count": 22,
   "id": "dd794333",
   "metadata": {
    "execution": {
     "iopub.execute_input": "2022-04-04T11:09:47.592813Z",
     "iopub.status.busy": "2022-04-04T11:09:47.589985Z",
     "iopub.status.idle": "2022-04-04T11:09:47.596085Z",
     "shell.execute_reply": "2022-04-04T11:09:47.595372Z",
     "shell.execute_reply.started": "2022-04-04T11:07:53.113886Z"
    },
    "papermill": {
     "duration": 0.085821,
     "end_time": "2022-04-04T11:09:47.596241",
     "exception": false,
     "start_time": "2022-04-04T11:09:47.510420",
     "status": "completed"
    },
    "tags": []
   },
   "outputs": [],
   "source": [
    "test_df = test_data.iloc[:,[0,-1]]"
   ]
  },
  {
   "cell_type": "code",
   "execution_count": 23,
   "id": "3a5ce124",
   "metadata": {
    "execution": {
     "iopub.execute_input": "2022-04-04T11:09:47.762855Z",
     "iopub.status.busy": "2022-04-04T11:09:47.761771Z",
     "iopub.status.idle": "2022-04-04T11:09:47.766130Z",
     "shell.execute_reply": "2022-04-04T11:09:47.765528Z",
     "shell.execute_reply.started": "2022-04-04T11:07:53.121208Z"
    },
    "papermill": {
     "duration": 0.09196,
     "end_time": "2022-04-04T11:09:47.766294",
     "exception": false,
     "start_time": "2022-04-04T11:09:47.674334",
     "status": "completed"
    },
    "tags": []
   },
   "outputs": [
    {
     "data": {
      "text/html": [
       "<div>\n",
       "<style scoped>\n",
       "    .dataframe tbody tr th:only-of-type {\n",
       "        vertical-align: middle;\n",
       "    }\n",
       "\n",
       "    .dataframe tbody tr th {\n",
       "        vertical-align: top;\n",
       "    }\n",
       "\n",
       "    .dataframe thead th {\n",
       "        text-align: right;\n",
       "    }\n",
       "</style>\n",
       "<table border=\"1\" class=\"dataframe\">\n",
       "  <thead>\n",
       "    <tr style=\"text-align: right;\">\n",
       "      <th></th>\n",
       "      <th>ds</th>\n",
       "      <th>y</th>\n",
       "    </tr>\n",
       "  </thead>\n",
       "  <tbody>\n",
       "    <tr>\n",
       "      <th>0</th>\n",
       "      <td>2018-03-20</td>\n",
       "      <td>1833.00</td>\n",
       "    </tr>\n",
       "    <tr>\n",
       "      <th>1</th>\n",
       "      <td>2018-03-21</td>\n",
       "      <td>1730.49</td>\n",
       "    </tr>\n",
       "    <tr>\n",
       "      <th>2</th>\n",
       "      <td>2018-03-22</td>\n",
       "      <td>2260.55</td>\n",
       "    </tr>\n",
       "    <tr>\n",
       "      <th>3</th>\n",
       "      <td>2018-03-23</td>\n",
       "      <td>2138.76</td>\n",
       "    </tr>\n",
       "    <tr>\n",
       "      <th>4</th>\n",
       "      <td>2018-03-24</td>\n",
       "      <td>1721.70</td>\n",
       "    </tr>\n",
       "  </tbody>\n",
       "</table>\n",
       "</div>"
      ],
      "text/plain": [
       "          ds        y\n",
       "0 2018-03-20  1833.00\n",
       "1 2018-03-21  1730.49\n",
       "2 2018-03-22  2260.55\n",
       "3 2018-03-23  2138.76\n",
       "4 2018-03-24  1721.70"
      ]
     },
     "execution_count": 23,
     "metadata": {},
     "output_type": "execute_result"
    }
   ],
   "source": [
    "test_df = test_df.rename(columns={\"FullDate\": \"ds\", \"ElecPrice\": \"y\"})\n",
    "test_df.head()"
   ]
  },
  {
   "cell_type": "code",
   "execution_count": 24,
   "id": "e1f43943",
   "metadata": {
    "execution": {
     "iopub.execute_input": "2022-04-04T11:09:47.926837Z",
     "iopub.status.busy": "2022-04-04T11:09:47.926157Z",
     "iopub.status.idle": "2022-04-04T11:09:50.500365Z",
     "shell.execute_reply": "2022-04-04T11:09:50.500996Z",
     "shell.execute_reply.started": "2022-04-04T11:07:53.137888Z"
    },
    "papermill": {
     "duration": 2.656966,
     "end_time": "2022-04-04T11:09:50.501212",
     "exception": false,
     "start_time": "2022-04-04T11:09:47.844246",
     "status": "completed"
    },
    "tags": []
   },
   "outputs": [
    {
     "name": "stdout",
     "output_type": "stream",
     "text": [
      "Initial log joint probability = -4.20632\n"
     ]
    },
    {
     "data": {
      "text/plain": [
       "<fbprophet.forecaster.Prophet at 0x7f086efb0090>"
      ]
     },
     "execution_count": 24,
     "metadata": {},
     "output_type": "execute_result"
    },
    {
     "name": "stdout",
     "output_type": "stream",
     "text": [
      "    Iter      log prob        ||dx||      ||grad||       alpha      alpha0  # evals  Notes \n",
      "      99       8006.42   0.000190736       172.415           1           1      121   \n",
      "    Iter      log prob        ||dx||      ||grad||       alpha      alpha0  # evals  Notes \n",
      "     199        8007.2    4.4511e-05       55.1814      0.8319      0.8319      241   \n",
      "    Iter      log prob        ||dx||      ||grad||       alpha      alpha0  # evals  Notes \n",
      "     224       8007.24   0.000127972       100.748   1.491e-06       0.001      313  LS failed, Hessian reset \n",
      "     299       8007.56   3.00801e-05       44.3474      0.5552      0.5552      406   \n",
      "    Iter      log prob        ||dx||      ||grad||       alpha      alpha0  # evals  Notes \n",
      "     351       8007.61   4.26709e-05       140.953   1.449e-07       0.001      531  LS failed, Hessian reset \n",
      "     399       8007.64   7.42204e-06       64.1818      0.0646           1      606   \n",
      "    Iter      log prob        ||dx||      ||grad||       alpha      alpha0  # evals  Notes \n",
      "     449       8007.72   7.37433e-05       197.824   8.271e-07       0.001      707  LS failed, Hessian reset \n",
      "     498       8007.79   3.31562e-07       65.0605      0.2206     0.02206      775   \n",
      "Optimization terminated normally: \n",
      "  Convergence detected: relative gradient magnitude is below tolerance\n"
     ]
    }
   ],
   "source": [
    "model = Prophet()\n",
    "model.fit(df_train)"
   ]
  },
  {
   "cell_type": "code",
   "execution_count": 25,
   "id": "98553384",
   "metadata": {
    "execution": {
     "iopub.execute_input": "2022-04-04T11:09:50.664636Z",
     "iopub.status.busy": "2022-04-04T11:09:50.663618Z",
     "iopub.status.idle": "2022-04-04T11:09:55.395080Z",
     "shell.execute_reply": "2022-04-04T11:09:55.395592Z",
     "shell.execute_reply.started": "2022-04-04T11:07:55.714020Z"
    },
    "papermill": {
     "duration": 4.815778,
     "end_time": "2022-04-04T11:09:55.395811",
     "exception": false,
     "start_time": "2022-04-04T11:09:50.580033",
     "status": "completed"
    },
    "tags": []
   },
   "outputs": [
    {
     "data": {
      "text/html": [
       "<div>\n",
       "<style scoped>\n",
       "    .dataframe tbody tr th:only-of-type {\n",
       "        vertical-align: middle;\n",
       "    }\n",
       "\n",
       "    .dataframe tbody tr th {\n",
       "        vertical-align: top;\n",
       "    }\n",
       "\n",
       "    .dataframe thead th {\n",
       "        text-align: right;\n",
       "    }\n",
       "</style>\n",
       "<table border=\"1\" class=\"dataframe\">\n",
       "  <thead>\n",
       "    <tr style=\"text-align: right;\">\n",
       "      <th></th>\n",
       "      <th>ds</th>\n",
       "      <th>trend</th>\n",
       "      <th>yhat_lower</th>\n",
       "      <th>yhat_upper</th>\n",
       "      <th>trend_lower</th>\n",
       "      <th>trend_upper</th>\n",
       "      <th>additive_terms</th>\n",
       "      <th>additive_terms_lower</th>\n",
       "      <th>additive_terms_upper</th>\n",
       "      <th>weekly</th>\n",
       "      <th>weekly_lower</th>\n",
       "      <th>weekly_upper</th>\n",
       "      <th>yearly</th>\n",
       "      <th>yearly_lower</th>\n",
       "      <th>yearly_upper</th>\n",
       "      <th>multiplicative_terms</th>\n",
       "      <th>multiplicative_terms_lower</th>\n",
       "      <th>multiplicative_terms_upper</th>\n",
       "      <th>yhat</th>\n",
       "    </tr>\n",
       "  </thead>\n",
       "  <tbody>\n",
       "    <tr>\n",
       "      <th>0</th>\n",
       "      <td>2018-03-20</td>\n",
       "      <td>2685.995282</td>\n",
       "      <td>-149.713514</td>\n",
       "      <td>4757.601435</td>\n",
       "      <td>2685.995282</td>\n",
       "      <td>2685.995282</td>\n",
       "      <td>-154.967811</td>\n",
       "      <td>-154.967811</td>\n",
       "      <td>-154.967811</td>\n",
       "      <td>9.737563</td>\n",
       "      <td>9.737563</td>\n",
       "      <td>9.737563</td>\n",
       "      <td>-164.705374</td>\n",
       "      <td>-164.705374</td>\n",
       "      <td>-164.705374</td>\n",
       "      <td>0.0</td>\n",
       "      <td>0.0</td>\n",
       "      <td>0.0</td>\n",
       "      <td>2531.027472</td>\n",
       "    </tr>\n",
       "    <tr>\n",
       "      <th>1</th>\n",
       "      <td>2018-03-21</td>\n",
       "      <td>2686.787698</td>\n",
       "      <td>266.113176</td>\n",
       "      <td>5051.501750</td>\n",
       "      <td>2686.787698</td>\n",
       "      <td>2686.787698</td>\n",
       "      <td>-2.473227</td>\n",
       "      <td>-2.473227</td>\n",
       "      <td>-2.473227</td>\n",
       "      <td>159.362662</td>\n",
       "      <td>159.362662</td>\n",
       "      <td>159.362662</td>\n",
       "      <td>-161.835889</td>\n",
       "      <td>-161.835889</td>\n",
       "      <td>-161.835889</td>\n",
       "      <td>0.0</td>\n",
       "      <td>0.0</td>\n",
       "      <td>0.0</td>\n",
       "      <td>2684.314472</td>\n",
       "    </tr>\n",
       "    <tr>\n",
       "      <th>2</th>\n",
       "      <td>2018-03-22</td>\n",
       "      <td>2687.580114</td>\n",
       "      <td>394.793744</td>\n",
       "      <td>5038.253267</td>\n",
       "      <td>2687.580114</td>\n",
       "      <td>2687.580114</td>\n",
       "      <td>95.717382</td>\n",
       "      <td>95.717382</td>\n",
       "      <td>95.717382</td>\n",
       "      <td>257.120465</td>\n",
       "      <td>257.120465</td>\n",
       "      <td>257.120465</td>\n",
       "      <td>-161.403083</td>\n",
       "      <td>-161.403083</td>\n",
       "      <td>-161.403083</td>\n",
       "      <td>0.0</td>\n",
       "      <td>0.0</td>\n",
       "      <td>0.0</td>\n",
       "      <td>2783.297497</td>\n",
       "    </tr>\n",
       "    <tr>\n",
       "      <th>3</th>\n",
       "      <td>2018-03-23</td>\n",
       "      <td>2688.372531</td>\n",
       "      <td>154.459919</td>\n",
       "      <td>5144.013012</td>\n",
       "      <td>2688.372531</td>\n",
       "      <td>2688.372531</td>\n",
       "      <td>-112.965306</td>\n",
       "      <td>-112.965306</td>\n",
       "      <td>-112.965306</td>\n",
       "      <td>50.276079</td>\n",
       "      <td>50.276079</td>\n",
       "      <td>50.276079</td>\n",
       "      <td>-163.241385</td>\n",
       "      <td>-163.241385</td>\n",
       "      <td>-163.241385</td>\n",
       "      <td>0.0</td>\n",
       "      <td>0.0</td>\n",
       "      <td>0.0</td>\n",
       "      <td>2575.407225</td>\n",
       "    </tr>\n",
       "    <tr>\n",
       "      <th>4</th>\n",
       "      <td>2018-03-24</td>\n",
       "      <td>2689.164947</td>\n",
       "      <td>-305.373479</td>\n",
       "      <td>4445.487176</td>\n",
       "      <td>2689.164947</td>\n",
       "      <td>2689.164947</td>\n",
       "      <td>-438.563887</td>\n",
       "      <td>-438.563887</td>\n",
       "      <td>-438.563887</td>\n",
       "      <td>-271.455104</td>\n",
       "      <td>-271.455104</td>\n",
       "      <td>-271.455104</td>\n",
       "      <td>-167.108783</td>\n",
       "      <td>-167.108783</td>\n",
       "      <td>-167.108783</td>\n",
       "      <td>0.0</td>\n",
       "      <td>0.0</td>\n",
       "      <td>0.0</td>\n",
       "      <td>2250.601060</td>\n",
       "    </tr>\n",
       "  </tbody>\n",
       "</table>\n",
       "</div>"
      ],
      "text/plain": [
       "          ds        trend  yhat_lower   yhat_upper  trend_lower  trend_upper  \\\n",
       "0 2018-03-20  2685.995282 -149.713514  4757.601435  2685.995282  2685.995282   \n",
       "1 2018-03-21  2686.787698  266.113176  5051.501750  2686.787698  2686.787698   \n",
       "2 2018-03-22  2687.580114  394.793744  5038.253267  2687.580114  2687.580114   \n",
       "3 2018-03-23  2688.372531  154.459919  5144.013012  2688.372531  2688.372531   \n",
       "4 2018-03-24  2689.164947 -305.373479  4445.487176  2689.164947  2689.164947   \n",
       "\n",
       "   additive_terms  additive_terms_lower  additive_terms_upper      weekly  \\\n",
       "0     -154.967811           -154.967811           -154.967811    9.737563   \n",
       "1       -2.473227             -2.473227             -2.473227  159.362662   \n",
       "2       95.717382             95.717382             95.717382  257.120465   \n",
       "3     -112.965306           -112.965306           -112.965306   50.276079   \n",
       "4     -438.563887           -438.563887           -438.563887 -271.455104   \n",
       "\n",
       "   weekly_lower  weekly_upper      yearly  yearly_lower  yearly_upper  \\\n",
       "0      9.737563      9.737563 -164.705374   -164.705374   -164.705374   \n",
       "1    159.362662    159.362662 -161.835889   -161.835889   -161.835889   \n",
       "2    257.120465    257.120465 -161.403083   -161.403083   -161.403083   \n",
       "3     50.276079     50.276079 -163.241385   -163.241385   -163.241385   \n",
       "4   -271.455104   -271.455104 -167.108783   -167.108783   -167.108783   \n",
       "\n",
       "   multiplicative_terms  multiplicative_terms_lower  \\\n",
       "0                   0.0                         0.0   \n",
       "1                   0.0                         0.0   \n",
       "2                   0.0                         0.0   \n",
       "3                   0.0                         0.0   \n",
       "4                   0.0                         0.0   \n",
       "\n",
       "   multiplicative_terms_upper         yhat  \n",
       "0                         0.0  2531.027472  \n",
       "1                         0.0  2684.314472  \n",
       "2                         0.0  2783.297497  \n",
       "3                         0.0  2575.407225  \n",
       "4                         0.0  2250.601060  "
      ]
     },
     "execution_count": 25,
     "metadata": {},
     "output_type": "execute_result"
    }
   ],
   "source": [
    "forecast_values = model.predict(test_df) \n",
    "forecast_values.head()"
   ]
  },
  {
   "cell_type": "markdown",
   "id": "26a3c64b",
   "metadata": {
    "papermill": {
     "duration": 0.078531,
     "end_time": "2022-04-04T11:09:55.555279",
     "exception": false,
     "start_time": "2022-04-04T11:09:55.476748",
     "status": "completed"
    },
    "tags": []
   },
   "source": [
    "**Q.14 Evaluating the results of your time series model on the test set, what is the MAPE (in %) in 2 decimal places?**"
   ]
  },
  {
   "cell_type": "code",
   "execution_count": 26,
   "id": "6f86189c",
   "metadata": {
    "execution": {
     "iopub.execute_input": "2022-04-04T11:09:55.718688Z",
     "iopub.status.busy": "2022-04-04T11:09:55.717917Z",
     "iopub.status.idle": "2022-04-04T11:09:55.722009Z",
     "shell.execute_reply": "2022-04-04T11:09:55.722562Z",
     "shell.execute_reply.started": "2022-04-04T11:07:59.544218Z"
    },
    "papermill": {
     "duration": 0.088021,
     "end_time": "2022-04-04T11:09:55.722744",
     "exception": false,
     "start_time": "2022-04-04T11:09:55.634723",
     "status": "completed"
    },
    "tags": []
   },
   "outputs": [],
   "source": [
    "def Metric(y_true,y_pred):\n",
    "  y_true,y_pred = np.array(y_true), np.array(y_pred)\n",
    "  return np.mean(np.abs((y_true - y_pred)/y_true)) *100"
   ]
  },
  {
   "cell_type": "code",
   "execution_count": 27,
   "id": "39d54826",
   "metadata": {
    "execution": {
     "iopub.execute_input": "2022-04-04T11:09:55.882338Z",
     "iopub.status.busy": "2022-04-04T11:09:55.881623Z",
     "iopub.status.idle": "2022-04-04T11:09:55.888045Z",
     "shell.execute_reply": "2022-04-04T11:09:55.887071Z",
     "shell.execute_reply.started": "2022-04-04T11:07:59.556344Z"
    },
    "papermill": {
     "duration": 0.087452,
     "end_time": "2022-04-04T11:09:55.888319",
     "exception": false,
     "start_time": "2022-04-04T11:09:55.800867",
     "status": "completed"
    },
    "tags": []
   },
   "outputs": [
    {
     "name": "stdout",
     "output_type": "stream",
     "text": [
      "Mean Average Percentage Error ( MAPE) is: 544.76\n"
     ]
    }
   ],
   "source": [
    "MAPE = Metric(test_df['y'],forecast_values['yhat'])\n",
    "print(f'Mean Average Percentage Error ( MAPE) is: {round(MAPE,2)}')"
   ]
  },
  {
   "cell_type": "markdown",
   "id": "f95bd0be",
   "metadata": {
    "papermill": {
     "duration": 0.079472,
     "end_time": "2022-04-04T11:09:56.049349",
     "exception": false,
     "start_time": "2022-04-04T11:09:55.969877",
     "status": "completed"
    },
    "tags": []
   },
   "source": [
    "**Q.15 What is the RMSE in 2 decimal places?**"
   ]
  },
  {
   "cell_type": "code",
   "execution_count": 28,
   "id": "814de9d0",
   "metadata": {
    "execution": {
     "iopub.execute_input": "2022-04-04T11:09:56.212333Z",
     "iopub.status.busy": "2022-04-04T11:09:56.211636Z",
     "iopub.status.idle": "2022-04-04T11:09:56.383457Z",
     "shell.execute_reply": "2022-04-04T11:09:56.383995Z",
     "shell.execute_reply.started": "2022-04-04T11:07:59.572619Z"
    },
    "papermill": {
     "duration": 0.254918,
     "end_time": "2022-04-04T11:09:56.384218",
     "exception": false,
     "start_time": "2022-04-04T11:09:56.129300",
     "status": "completed"
    },
    "tags": []
   },
   "outputs": [],
   "source": [
    "from sklearn import metrics"
   ]
  },
  {
   "cell_type": "code",
   "execution_count": 29,
   "id": "a0d9fde9",
   "metadata": {
    "execution": {
     "iopub.execute_input": "2022-04-04T11:09:56.545178Z",
     "iopub.status.busy": "2022-04-04T11:09:56.544472Z",
     "iopub.status.idle": "2022-04-04T11:09:56.550881Z",
     "shell.execute_reply": "2022-04-04T11:09:56.551619Z",
     "shell.execute_reply.started": "2022-04-04T11:07:59.757784Z"
    },
    "papermill": {
     "duration": 0.08859,
     "end_time": "2022-04-04T11:09:56.551798",
     "exception": false,
     "start_time": "2022-04-04T11:09:56.463208",
     "status": "completed"
    },
    "tags": []
   },
   "outputs": [
    {
     "name": "stdout",
     "output_type": "stream",
     "text": [
      "RMSE is: 3208.1698\n"
     ]
    }
   ],
   "source": [
    "RMSE = np.sqrt(metrics.mean_squared_error(test_df['y'],forecast_values['yhat']))\n",
    "print(f'RMSE is: {round(RMSE,4)}')"
   ]
  },
  {
   "cell_type": "markdown",
   "id": "aad12e41",
   "metadata": {
    "papermill": {
     "duration": 0.081537,
     "end_time": "2022-04-04T11:09:56.714007",
     "exception": false,
     "start_time": "2022-04-04T11:09:56.632470",
     "status": "completed"
    },
    "tags": []
   },
   "source": [
    "**Q.16 If you plot the components from the forecasted model, what month of the yearly seasonality has the highest value?**"
   ]
  },
  {
   "cell_type": "code",
   "execution_count": 30,
   "id": "e355687a",
   "metadata": {
    "execution": {
     "iopub.execute_input": "2022-04-04T11:09:56.878397Z",
     "iopub.status.busy": "2022-04-04T11:09:56.877689Z",
     "iopub.status.idle": "2022-04-04T11:09:58.140802Z",
     "shell.execute_reply": "2022-04-04T11:09:58.141411Z",
     "shell.execute_reply.started": "2022-04-04T11:07:59.767198Z"
    },
    "papermill": {
     "duration": 1.347133,
     "end_time": "2022-04-04T11:09:58.141595",
     "exception": false,
     "start_time": "2022-04-04T11:09:56.794462",
     "status": "completed"
    },
    "tags": []
   },
   "outputs": [
    {
     "data": {
      "image/png": "[encoded data removed]",
      "text/plain": [
       "<Figure size 648x648 with 3 Axes>"
      ]
     },
     "execution_count": 30,
     "metadata": {},
     "output_type": "execute_result"
    },
    {
     "data": {
      "image/png": "[encoded data removed]",
      "text/plain": [
       "<Figure size 648x648 with 3 Axes>"
      ]
     },
     "metadata": {},
     "output_type": "display_data"
    }
   ],
   "source": [
    "model.plot_components(forecast_values)"
   ]
  },
  {
   "cell_type": "markdown",
   "id": "0aaa44ed",
   "metadata": {
    "papermill": {
     "duration": 0.083427,
     "end_time": "2022-04-04T11:09:58.310326",
     "exception": false,
     "start_time": "2022-04-04T11:09:58.226899",
     "status": "completed"
    },
    "tags": []
   },
   "source": [
    "**In third graph July month shows of the highest value.**"
   ]
  },
  {
   "cell_type": "code",
   "execution_count": 31,
   "id": "bf1978da",
   "metadata": {
    "execution": {
     "iopub.execute_input": "2022-04-04T11:09:58.483778Z",
     "iopub.status.busy": "2022-04-04T11:09:58.481044Z",
     "iopub.status.idle": "2022-04-04T11:09:58.487075Z",
     "shell.execute_reply": "2022-04-04T11:09:58.486393Z",
     "shell.execute_reply.started": "2022-04-04T11:08:00.924243Z"
    },
    "papermill": {
     "duration": 0.09271,
     "end_time": "2022-04-04T11:09:58.487226",
     "exception": false,
     "start_time": "2022-04-04T11:09:58.394516",
     "status": "completed"
    },
    "tags": []
   },
   "outputs": [],
   "source": [
    "day_data.reset_index(inplace=True)"
   ]
  },
  {
   "cell_type": "code",
   "execution_count": 32,
   "id": "7b25e8e8",
   "metadata": {
    "execution": {
     "iopub.execute_input": "2022-04-04T11:09:58.669041Z",
     "iopub.status.busy": "2022-04-04T11:09:58.659882Z",
     "iopub.status.idle": "2022-04-04T11:09:58.672424Z",
     "shell.execute_reply": "2022-04-04T11:09:58.673011Z",
     "shell.execute_reply.started": "2022-04-04T11:08:00.931441Z"
    },
    "papermill": {
     "duration": 0.101037,
     "end_time": "2022-04-04T11:09:58.673238",
     "exception": false,
     "start_time": "2022-04-04T11:09:58.572201",
     "status": "completed"
    },
    "tags": []
   },
   "outputs": [
    {
     "data": {
      "text/html": [
       "<div>\n",
       "<style scoped>\n",
       "    .dataframe tbody tr th:only-of-type {\n",
       "        vertical-align: middle;\n",
       "    }\n",
       "\n",
       "    .dataframe tbody tr th {\n",
       "        vertical-align: top;\n",
       "    }\n",
       "\n",
       "    .dataframe thead th {\n",
       "        text-align: right;\n",
       "    }\n",
       "</style>\n",
       "<table border=\"1\" class=\"dataframe\">\n",
       "  <thead>\n",
       "    <tr style=\"text-align: right;\">\n",
       "      <th></th>\n",
       "      <th>FullDate</th>\n",
       "      <th>Tmax</th>\n",
       "      <th>SysLoad</th>\n",
       "      <th>GasPrice</th>\n",
       "      <th>ElecPrice</th>\n",
       "    </tr>\n",
       "  </thead>\n",
       "  <tbody>\n",
       "    <tr>\n",
       "      <th>0</th>\n",
       "      <td>2010-09-01</td>\n",
       "      <td>379.2</td>\n",
       "      <td>41565.38</td>\n",
       "      <td>88.56</td>\n",
       "      <td>2751.700</td>\n",
       "    </tr>\n",
       "    <tr>\n",
       "      <th>1</th>\n",
       "      <td>2010-09-02</td>\n",
       "      <td>369.6</td>\n",
       "      <td>38898.99</td>\n",
       "      <td>88.56</td>\n",
       "      <td>570.810</td>\n",
       "    </tr>\n",
       "    <tr>\n",
       "      <th>2</th>\n",
       "      <td>2010-09-03</td>\n",
       "      <td>439.2</td>\n",
       "      <td>41665.76</td>\n",
       "      <td>106.80</td>\n",
       "      <td>504.975</td>\n",
       "    </tr>\n",
       "  </tbody>\n",
       "</table>\n",
       "</div>"
      ],
      "text/plain": [
       "    FullDate   Tmax   SysLoad  GasPrice  ElecPrice\n",
       "0 2010-09-01  379.2  41565.38     88.56   2751.700\n",
       "1 2010-09-02  369.6  38898.99     88.56    570.810\n",
       "2 2010-09-03  439.2  41665.76    106.80    504.975"
      ]
     },
     "execution_count": 32,
     "metadata": {},
     "output_type": "execute_result"
    }
   ],
   "source": [
    "day_data.head(3)"
   ]
  },
  {
   "cell_type": "code",
   "execution_count": 33,
   "id": "0e85647e",
   "metadata": {
    "execution": {
     "iopub.execute_input": "2022-04-04T11:09:58.847604Z",
     "iopub.status.busy": "2022-04-04T11:09:58.846898Z",
     "iopub.status.idle": "2022-04-04T11:09:58.852178Z",
     "shell.execute_reply": "2022-04-04T11:09:58.852779Z",
     "shell.execute_reply.started": "2022-04-04T11:08:00.951853Z"
    },
    "papermill": {
     "duration": 0.094089,
     "end_time": "2022-04-04T11:09:58.852974",
     "exception": false,
     "start_time": "2022-04-04T11:09:58.758885",
     "status": "completed"
    },
    "tags": []
   },
   "outputs": [],
   "source": [
    "new_day_data = day_data.rename(columns = {'FullDate':'ds','Tmax':'add2',\n",
    "                                           'SysLoad':'add1','GasPrice':'add3',\n",
    "                                           'ElecPrice':'y'})"
   ]
  },
  {
   "cell_type": "code",
   "execution_count": 34,
   "id": "12aba285",
   "metadata": {
    "execution": {
     "iopub.execute_input": "2022-04-04T11:09:59.025349Z",
     "iopub.status.busy": "2022-04-04T11:09:59.024633Z",
     "iopub.status.idle": "2022-04-04T11:09:59.037324Z",
     "shell.execute_reply": "2022-04-04T11:09:59.037973Z",
     "shell.execute_reply.started": "2022-04-04T11:08:00.962168Z"
    },
    "papermill": {
     "duration": 0.100634,
     "end_time": "2022-04-04T11:09:59.038181",
     "exception": false,
     "start_time": "2022-04-04T11:09:58.937547",
     "status": "completed"
    },
    "tags": []
   },
   "outputs": [
    {
     "data": {
      "text/html": [
       "<div>\n",
       "<style scoped>\n",
       "    .dataframe tbody tr th:only-of-type {\n",
       "        vertical-align: middle;\n",
       "    }\n",
       "\n",
       "    .dataframe tbody tr th {\n",
       "        vertical-align: top;\n",
       "    }\n",
       "\n",
       "    .dataframe thead th {\n",
       "        text-align: right;\n",
       "    }\n",
       "</style>\n",
       "<table border=\"1\" class=\"dataframe\">\n",
       "  <thead>\n",
       "    <tr style=\"text-align: right;\">\n",
       "      <th></th>\n",
       "      <th>ds</th>\n",
       "      <th>add2</th>\n",
       "      <th>add1</th>\n",
       "      <th>add3</th>\n",
       "      <th>y</th>\n",
       "    </tr>\n",
       "  </thead>\n",
       "  <tbody>\n",
       "    <tr>\n",
       "      <th>0</th>\n",
       "      <td>2010-09-01</td>\n",
       "      <td>379.2</td>\n",
       "      <td>41565.38</td>\n",
       "      <td>88.56</td>\n",
       "      <td>2751.700</td>\n",
       "    </tr>\n",
       "    <tr>\n",
       "      <th>1</th>\n",
       "      <td>2010-09-02</td>\n",
       "      <td>369.6</td>\n",
       "      <td>38898.99</td>\n",
       "      <td>88.56</td>\n",
       "      <td>570.810</td>\n",
       "    </tr>\n",
       "    <tr>\n",
       "      <th>2</th>\n",
       "      <td>2010-09-03</td>\n",
       "      <td>439.2</td>\n",
       "      <td>41665.76</td>\n",
       "      <td>106.80</td>\n",
       "      <td>504.975</td>\n",
       "    </tr>\n",
       "  </tbody>\n",
       "</table>\n",
       "</div>"
      ],
      "text/plain": [
       "          ds   add2      add1    add3         y\n",
       "0 2010-09-01  379.2  41565.38   88.56  2751.700\n",
       "1 2010-09-02  369.6  38898.99   88.56   570.810\n",
       "2 2010-09-03  439.2  41665.76  106.80   504.975"
      ]
     },
     "execution_count": 34,
     "metadata": {},
     "output_type": "execute_result"
    }
   ],
   "source": [
    "new_day_data.head(3)"
   ]
  },
  {
   "cell_type": "code",
   "execution_count": 35,
   "id": "03288d56",
   "metadata": {
    "execution": {
     "iopub.execute_input": "2022-04-04T11:09:59.212018Z",
     "iopub.status.busy": "2022-04-04T11:09:59.211355Z",
     "iopub.status.idle": "2022-04-04T11:09:59.216432Z",
     "shell.execute_reply": "2022-04-04T11:09:59.215809Z",
     "shell.execute_reply.started": "2022-04-04T11:08:00.982178Z"
    },
    "papermill": {
     "duration": 0.09344,
     "end_time": "2022-04-04T11:09:59.216599",
     "exception": false,
     "start_time": "2022-04-04T11:09:59.123159",
     "status": "completed"
    },
    "tags": []
   },
   "outputs": [],
   "source": [
    "train_data_new = new_day_data.iloc[:2757,:]\n",
    "test_data_new = new_day_data.iloc[2757:,:]"
   ]
  },
  {
   "cell_type": "code",
   "execution_count": 36,
   "id": "d5ecb473",
   "metadata": {
    "execution": {
     "iopub.execute_input": "2022-04-04T11:09:59.391420Z",
     "iopub.status.busy": "2022-04-04T11:09:59.390670Z",
     "iopub.status.idle": "2022-04-04T11:09:59.511920Z",
     "shell.execute_reply": "2022-04-04T11:09:59.511233Z",
     "shell.execute_reply.started": "2022-04-04T11:08:00.993045Z"
    },
    "papermill": {
     "duration": 0.209893,
     "end_time": "2022-04-04T11:09:59.512091",
     "exception": false,
     "start_time": "2022-04-04T11:09:59.302198",
     "status": "completed"
    },
    "tags": []
   },
   "outputs": [
    {
     "data": {
      "text/plain": [
       "<fbprophet.forecaster.Prophet at 0x7f086a202350>"
      ]
     },
     "execution_count": 36,
     "metadata": {},
     "output_type": "execute_result"
    }
   ],
   "source": [
    "model = Prophet()\n",
    "model.add_regressor('add1')\n",
    "model.add_regressor('add2')\n",
    "model.add_regressor('add3')"
   ]
  },
  {
   "cell_type": "code",
   "execution_count": 37,
   "id": "ce4f7c3a",
   "metadata": {
    "execution": {
     "iopub.execute_input": "2022-04-04T11:09:59.689718Z",
     "iopub.status.busy": "2022-04-04T11:09:59.688988Z",
     "iopub.status.idle": "2022-04-04T11:10:00.726882Z",
     "shell.execute_reply": "2022-04-04T11:10:00.727525Z",
     "shell.execute_reply.started": "2022-04-04T11:08:01.122618Z"
    },
    "papermill": {
     "duration": 1.129813,
     "end_time": "2022-04-04T11:10:00.727821",
     "exception": false,
     "start_time": "2022-04-04T11:09:59.598008",
     "status": "completed"
    },
    "tags": []
   },
   "outputs": [
    {
     "name": "stdout",
     "output_type": "stream",
     "text": [
      "Initial log joint probability = -4.20632\n",
      "    Iter      log prob        ||dx||      ||grad||       alpha      alpha0  # evals  Notes \n",
      "      99       8218.46   0.000765413       377.196           1           1      113   \n",
      "    Iter      log prob        ||dx||      ||grad||       alpha      alpha0  # evals  Notes \n",
      "     199       8219.42   0.000181158       126.613           1           1      238   \n",
      "    Iter      log prob        ||dx||      ||grad||       alpha      alpha0  # evals  Notes \n",
      "     299       8219.72   0.000285842       78.9036           1           1      358   \n",
      "    Iter      log prob        ||dx||      ||grad||       alpha      alpha0  # evals  Notes \n",
      "     314       8219.78   7.57213e-05       255.214   4.419e-07       0.001      431  LS failed, Hessian reset \n",
      "     399       8219.86   1.51602e-05       76.2299      0.5333      0.5333      534   \n",
      "    Iter      log prob        ||dx||      ||grad||       alpha      alpha0  # evals  Notes \n",
      "     443       8219.87   8.26302e-07        70.335           1           1      588   \n",
      "Optimization terminated normally: \n",
      "  Convergence detected: relative gradient magnitude is below tolerance\n"
     ]
    }
   ],
   "source": [
    "model = model.fit(train_data_new)"
   ]
  },
  {
   "cell_type": "markdown",
   "id": "0d724e4d",
   "metadata": {
    "papermill": {
     "duration": 0.088974,
     "end_time": "2022-04-04T11:10:00.902220",
     "exception": false,
     "start_time": "2022-04-04T11:10:00.813246",
     "status": "completed"
    },
    "tags": []
   },
   "source": [
    "**Q.17 Evaluating the results of your time series model on the test set, what is the MAPE (in %) in 2 decimal places?**"
   ]
  },
  {
   "cell_type": "code",
   "execution_count": 38,
   "id": "614a2a49",
   "metadata": {
    "execution": {
     "iopub.execute_input": "2022-04-04T11:10:01.085645Z",
     "iopub.status.busy": "2022-04-04T11:10:01.080013Z",
     "iopub.status.idle": "2022-04-04T11:10:05.503602Z",
     "shell.execute_reply": "2022-04-04T11:10:05.502874Z",
     "shell.execute_reply.started": "2022-04-04T11:08:02.003278Z"
    },
    "papermill": {
     "duration": 4.515157,
     "end_time": "2022-04-04T11:10:05.503754",
     "exception": false,
     "start_time": "2022-04-04T11:10:00.988597",
     "status": "completed"
    },
    "tags": []
   },
   "outputs": [],
   "source": [
    "forecast_values_new = model.predict(test_data_new)"
   ]
  },
  {
   "cell_type": "code",
   "execution_count": 39,
   "id": "03f290ea",
   "metadata": {
    "execution": {
     "iopub.execute_input": "2022-04-04T11:10:05.678711Z",
     "iopub.status.busy": "2022-04-04T11:10:05.678018Z",
     "iopub.status.idle": "2022-04-04T11:10:05.684670Z",
     "shell.execute_reply": "2022-04-04T11:10:05.683904Z",
     "shell.execute_reply.started": "2022-04-04T11:08:05.861417Z"
    },
    "papermill": {
     "duration": 0.095877,
     "end_time": "2022-04-04T11:10:05.684826",
     "exception": false,
     "start_time": "2022-04-04T11:10:05.588949",
     "status": "completed"
    },
    "tags": []
   },
   "outputs": [
    {
     "name": "stdout",
     "output_type": "stream",
     "text": [
      "Mean Average Percentage Error ( MAPE) is:233.56\n"
     ]
    }
   ],
   "source": [
    "MAPE = Metric(test_data_new['y'],forecast_values_new['yhat'])\n",
    "print(f'Mean Average Percentage Error ( MAPE) is:{round(MAPE,2)}')"
   ]
  },
  {
   "cell_type": "markdown",
   "id": "03528186",
   "metadata": {
    "papermill": {
     "duration": 0.08589,
     "end_time": "2022-04-04T11:10:05.859706",
     "exception": false,
     "start_time": "2022-04-04T11:10:05.773816",
     "status": "completed"
    },
    "tags": []
   },
   "source": [
    "**Q18. What is the RMSE in 2 decimal places?**"
   ]
  },
  {
   "cell_type": "code",
   "execution_count": 40,
   "id": "e89fad4c",
   "metadata": {
    "execution": {
     "iopub.execute_input": "2022-04-04T11:10:06.041560Z",
     "iopub.status.busy": "2022-04-04T11:10:06.040552Z",
     "iopub.status.idle": "2022-04-04T11:10:06.044481Z",
     "shell.execute_reply": "2022-04-04T11:10:06.045030Z",
     "shell.execute_reply.started": "2022-04-04T11:08:05.871270Z"
    },
    "papermill": {
     "duration": 0.09805,
     "end_time": "2022-04-04T11:10:06.045243",
     "exception": false,
     "start_time": "2022-04-04T11:10:05.947193",
     "status": "completed"
    },
    "tags": []
   },
   "outputs": [
    {
     "name": "stdout",
     "output_type": "stream",
     "text": [
      "RMSE is: 2709.4\n"
     ]
    }
   ],
   "source": [
    "RMSE = np.sqrt(metrics.mean_squared_error(test_data_new['y'],forecast_values_new['yhat']))\n",
    "print(f'RMSE is: {round(RMSE,2)}')"
   ]
  },
  {
   "cell_type": "markdown",
   "id": "72a14ba8",
   "metadata": {
    "papermill": {
     "duration": 0.087944,
     "end_time": "2022-04-04T11:10:06.221752",
     "exception": false,
     "start_time": "2022-04-04T11:10:06.133808",
     "status": "completed"
    },
    "tags": []
   },
   "source": [
    "**Q.19 If you plot the components from the multivariate forecasted model, what day of the daily seasonality has the highest value?**"
   ]
  },
  {
   "cell_type": "code",
   "execution_count": 41,
   "id": "0e869485",
   "metadata": {
    "execution": {
     "iopub.execute_input": "2022-04-04T11:10:06.399893Z",
     "iopub.status.busy": "2022-04-04T11:10:06.398830Z",
     "iopub.status.idle": "2022-04-04T11:10:08.503286Z",
     "shell.execute_reply": "2022-04-04T11:10:08.503830Z",
     "shell.execute_reply.started": "2022-04-04T11:08:05.882347Z"
    },
    "papermill": {
     "duration": 2.195242,
     "end_time": "2022-04-04T11:10:08.504012",
     "exception": false,
     "start_time": "2022-04-04T11:10:06.308770",
     "status": "completed"
    },
    "tags": []
   },
   "outputs": [
    {
     "data": {
      "image/png": "[encoded data removed]",
      "text/plain": [
       "<Figure size 648x864 with 4 Axes>"
      ]
     },
     "execution_count": 41,
     "metadata": {},
     "output_type": "execute_result"
    },
    {
     "data": {
      "image/png": "[encoded data removed]",
      "text/plain": [
       "<Figure size 648x864 with 4 Axes>"
      ]
     },
     "metadata": {},
     "output_type": "display_data"
    }
   ],
   "source": [
    "model.plot_components(forecast_values_new)"
   ]
  },
  {
   "cell_type": "markdown",
   "id": "51a7b636",
   "metadata": {
    "papermill": {
     "duration": 0.091021,
     "end_time": "2022-04-04T11:10:08.686924",
     "exception": false,
     "start_time": "2022-04-04T11:10:08.595903",
     "status": "completed"
    },
    "tags": []
   },
   "source": [
    "**From graph second we get our answer as THURSDAY**"
   ]
  },
  {
   "cell_type": "code",
   "execution_count": 42,
   "id": "6aee86ee",
   "metadata": {
    "execution": {
     "iopub.execute_input": "2022-04-04T11:10:08.885139Z",
     "iopub.status.busy": "2022-04-04T11:10:08.884181Z",
     "iopub.status.idle": "2022-04-04T11:10:08.888025Z",
     "shell.execute_reply": "2022-04-04T11:10:08.888581Z",
     "shell.execute_reply.started": "2022-04-04T11:08:07.939841Z"
    },
    "papermill": {
     "duration": 0.109078,
     "end_time": "2022-04-04T11:10:08.888777",
     "exception": false,
     "start_time": "2022-04-04T11:10:08.779699",
     "status": "completed"
    },
    "tags": []
   },
   "outputs": [
    {
     "data": {
      "text/html": [
       "<div>\n",
       "<style scoped>\n",
       "    .dataframe tbody tr th:only-of-type {\n",
       "        vertical-align: middle;\n",
       "    }\n",
       "\n",
       "    .dataframe tbody tr th {\n",
       "        vertical-align: top;\n",
       "    }\n",
       "\n",
       "    .dataframe thead th {\n",
       "        text-align: right;\n",
       "    }\n",
       "</style>\n",
       "<table border=\"1\" class=\"dataframe\">\n",
       "  <thead>\n",
       "    <tr style=\"text-align: right;\">\n",
       "      <th></th>\n",
       "      <th>FullDate</th>\n",
       "      <th>Tmax</th>\n",
       "      <th>SysLoad</th>\n",
       "      <th>GasPrice</th>\n",
       "      <th>ElecPrice</th>\n",
       "    </tr>\n",
       "  </thead>\n",
       "  <tbody>\n",
       "    <tr>\n",
       "      <th>0</th>\n",
       "      <td>2010-09-01</td>\n",
       "      <td>379.2</td>\n",
       "      <td>41565.38</td>\n",
       "      <td>88.56</td>\n",
       "      <td>2751.700</td>\n",
       "    </tr>\n",
       "    <tr>\n",
       "      <th>1</th>\n",
       "      <td>2010-09-02</td>\n",
       "      <td>369.6</td>\n",
       "      <td>38898.99</td>\n",
       "      <td>88.56</td>\n",
       "      <td>570.810</td>\n",
       "    </tr>\n",
       "    <tr>\n",
       "      <th>2</th>\n",
       "      <td>2010-09-03</td>\n",
       "      <td>439.2</td>\n",
       "      <td>41665.76</td>\n",
       "      <td>106.80</td>\n",
       "      <td>504.975</td>\n",
       "    </tr>\n",
       "  </tbody>\n",
       "</table>\n",
       "</div>"
      ],
      "text/plain": [
       "    FullDate   Tmax   SysLoad  GasPrice  ElecPrice\n",
       "0 2010-09-01  379.2  41565.38     88.56   2751.700\n",
       "1 2010-09-02  369.6  38898.99     88.56    570.810\n",
       "2 2010-09-03  439.2  41665.76    106.80    504.975"
      ]
     },
     "execution_count": 42,
     "metadata": {},
     "output_type": "execute_result"
    }
   ],
   "source": [
    "day_data.head(3)"
   ]
  },
  {
   "cell_type": "code",
   "execution_count": 43,
   "id": "5d061634",
   "metadata": {
    "execution": {
     "iopub.execute_input": "2022-04-04T11:10:09.081227Z",
     "iopub.status.busy": "2022-04-04T11:10:09.078739Z",
     "iopub.status.idle": "2022-04-04T11:10:09.083152Z",
     "shell.execute_reply": "2022-04-04T11:10:09.083686Z",
     "shell.execute_reply.started": "2022-04-04T11:08:07.954423Z"
    },
    "papermill": {
     "duration": 0.101351,
     "end_time": "2022-04-04T11:10:09.083861",
     "exception": false,
     "start_time": "2022-04-04T11:10:08.982510",
     "status": "completed"
    },
    "tags": []
   },
   "outputs": [],
   "source": [
    "train_data_2 = day_data.iloc[:2757,:]\n",
    "test_data_2 = day_data.iloc[2757:,:] "
   ]
  },
  {
   "cell_type": "code",
   "execution_count": 44,
   "id": "99a17360",
   "metadata": {
    "execution": {
     "iopub.execute_input": "2022-04-04T11:10:09.275277Z",
     "iopub.status.busy": "2022-04-04T11:10:09.274530Z",
     "iopub.status.idle": "2022-04-04T11:10:09.280687Z",
     "shell.execute_reply": "2022-04-04T11:10:09.280167Z",
     "shell.execute_reply.started": "2022-04-04T11:08:07.960677Z"
    },
    "papermill": {
     "duration": 0.104146,
     "end_time": "2022-04-04T11:10:09.280852",
     "exception": false,
     "start_time": "2022-04-04T11:10:09.176706",
     "status": "completed"
    },
    "tags": []
   },
   "outputs": [
    {
     "data": {
      "text/plain": [
       "((2757, 5), (1077, 5))"
      ]
     },
     "execution_count": 44,
     "metadata": {},
     "output_type": "execute_result"
    }
   ],
   "source": [
    "train_data_2.shape , test_data_2.shape"
   ]
  },
  {
   "cell_type": "code",
   "execution_count": 45,
   "id": "971bb4ff",
   "metadata": {
    "execution": {
     "iopub.execute_input": "2022-04-04T11:10:09.474778Z",
     "iopub.status.busy": "2022-04-04T11:10:09.473898Z",
     "iopub.status.idle": "2022-04-04T11:10:09.476674Z",
     "shell.execute_reply": "2022-04-04T11:10:09.476137Z",
     "shell.execute_reply.started": "2022-04-04T11:08:07.972304Z"
    },
    "papermill": {
     "duration": 0.103266,
     "end_time": "2022-04-04T11:10:09.476829",
     "exception": false,
     "start_time": "2022-04-04T11:10:09.373563",
     "status": "completed"
    },
    "tags": []
   },
   "outputs": [],
   "source": [
    "df_train_2 = train_data_2.iloc[:,[0,2,3,4]]\n",
    "df_test_2 = test_data_2.iloc[:,[0,2,3,4]]"
   ]
  },
  {
   "cell_type": "code",
   "execution_count": 46,
   "id": "a269a284",
   "metadata": {
    "execution": {
     "iopub.execute_input": "2022-04-04T11:10:09.670027Z",
     "iopub.status.busy": "2022-04-04T11:10:09.669369Z",
     "iopub.status.idle": "2022-04-04T11:10:09.671452Z",
     "shell.execute_reply": "2022-04-04T11:10:09.672122Z",
     "shell.execute_reply.started": "2022-04-04T11:08:07.984393Z"
    },
    "papermill": {
     "duration": 0.102427,
     "end_time": "2022-04-04T11:10:09.672338",
     "exception": false,
     "start_time": "2022-04-04T11:10:09.569911",
     "status": "completed"
    },
    "tags": []
   },
   "outputs": [],
   "source": [
    "df_train_2 = df_train_2.rename(columns = {'FullDate':'ds',\n",
    "                                           'SysLoad':'add1','GasPrice':'add2',\n",
    "                                           'ElecPrice':'y'})\n",
    "df_test_2 = df_test_2.rename(columns = {'FullDate':'ds',\n",
    "                                           'SysLoad':'add1','GasPrice':'add2',\n",
    "                                           'ElecPrice':'y'})"
   ]
  },
  {
   "cell_type": "code",
   "execution_count": 47,
   "id": "4aed232a",
   "metadata": {
    "execution": {
     "iopub.execute_input": "2022-04-04T11:10:09.862359Z",
     "iopub.status.busy": "2022-04-04T11:10:09.861588Z",
     "iopub.status.idle": "2022-04-04T11:10:09.873501Z",
     "shell.execute_reply": "2022-04-04T11:10:09.874045Z",
     "shell.execute_reply.started": "2022-04-04T11:08:07.996401Z"
    },
    "papermill": {
     "duration": 0.108752,
     "end_time": "2022-04-04T11:10:09.874275",
     "exception": false,
     "start_time": "2022-04-04T11:10:09.765523",
     "status": "completed"
    },
    "tags": []
   },
   "outputs": [
    {
     "data": {
      "text/html": [
       "<div>\n",
       "<style scoped>\n",
       "    .dataframe tbody tr th:only-of-type {\n",
       "        vertical-align: middle;\n",
       "    }\n",
       "\n",
       "    .dataframe tbody tr th {\n",
       "        vertical-align: top;\n",
       "    }\n",
       "\n",
       "    .dataframe thead th {\n",
       "        text-align: right;\n",
       "    }\n",
       "</style>\n",
       "<table border=\"1\" class=\"dataframe\">\n",
       "  <thead>\n",
       "    <tr style=\"text-align: right;\">\n",
       "      <th></th>\n",
       "      <th>ds</th>\n",
       "      <th>add1</th>\n",
       "      <th>add2</th>\n",
       "      <th>y</th>\n",
       "    </tr>\n",
       "  </thead>\n",
       "  <tbody>\n",
       "    <tr>\n",
       "      <th>0</th>\n",
       "      <td>2010-09-01</td>\n",
       "      <td>41565.380</td>\n",
       "      <td>88.56</td>\n",
       "      <td>2751.700</td>\n",
       "    </tr>\n",
       "    <tr>\n",
       "      <th>1</th>\n",
       "      <td>2010-09-02</td>\n",
       "      <td>38898.990</td>\n",
       "      <td>88.56</td>\n",
       "      <td>570.810</td>\n",
       "    </tr>\n",
       "    <tr>\n",
       "      <th>2</th>\n",
       "      <td>2010-09-03</td>\n",
       "      <td>41665.760</td>\n",
       "      <td>106.80</td>\n",
       "      <td>504.975</td>\n",
       "    </tr>\n",
       "    <tr>\n",
       "      <th>3</th>\n",
       "      <td>2010-09-04</td>\n",
       "      <td>35638.085</td>\n",
       "      <td>81.36</td>\n",
       "      <td>502.275</td>\n",
       "    </tr>\n",
       "    <tr>\n",
       "      <th>4</th>\n",
       "      <td>2010-09-05</td>\n",
       "      <td>35611.410</td>\n",
       "      <td>106.80</td>\n",
       "      <td>500.555</td>\n",
       "    </tr>\n",
       "  </tbody>\n",
       "</table>\n",
       "</div>"
      ],
      "text/plain": [
       "          ds       add1    add2         y\n",
       "0 2010-09-01  41565.380   88.56  2751.700\n",
       "1 2010-09-02  38898.990   88.56   570.810\n",
       "2 2010-09-03  41665.760  106.80   504.975\n",
       "3 2010-09-04  35638.085   81.36   502.275\n",
       "4 2010-09-05  35611.410  106.80   500.555"
      ]
     },
     "execution_count": 47,
     "metadata": {},
     "output_type": "execute_result"
    }
   ],
   "source": [
    "df_train_2.head()"
   ]
  },
  {
   "cell_type": "code",
   "execution_count": 48,
   "id": "e8b84b3d",
   "metadata": {
    "execution": {
     "iopub.execute_input": "2022-04-04T11:10:10.068352Z",
     "iopub.status.busy": "2022-04-04T11:10:10.067199Z",
     "iopub.status.idle": "2022-04-04T11:10:10.186553Z",
     "shell.execute_reply": "2022-04-04T11:10:10.185987Z",
     "shell.execute_reply.started": "2022-04-04T11:08:08.016468Z"
    },
    "papermill": {
     "duration": 0.218508,
     "end_time": "2022-04-04T11:10:10.186708",
     "exception": false,
     "start_time": "2022-04-04T11:10:09.968200",
     "status": "completed"
    },
    "tags": []
   },
   "outputs": [
    {
     "data": {
      "text/plain": [
       "<fbprophet.forecaster.Prophet at 0x7f08687695d0>"
      ]
     },
     "execution_count": 48,
     "metadata": {},
     "output_type": "execute_result"
    }
   ],
   "source": [
    "model = Prophet()\n",
    "model.add_regressor('add1')\n",
    "model.add_regressor('add2')"
   ]
  },
  {
   "cell_type": "code",
   "execution_count": 49,
   "id": "cda76175",
   "metadata": {
    "execution": {
     "iopub.execute_input": "2022-04-04T11:10:10.383984Z",
     "iopub.status.busy": "2022-04-04T11:10:10.382943Z",
     "iopub.status.idle": "2022-04-04T11:10:11.257290Z",
     "shell.execute_reply": "2022-04-04T11:10:11.256362Z",
     "shell.execute_reply.started": "2022-04-04T11:08:08.143002Z"
    },
    "papermill": {
     "duration": 0.974832,
     "end_time": "2022-04-04T11:10:11.257452",
     "exception": false,
     "start_time": "2022-04-04T11:10:10.282620",
     "status": "completed"
    },
    "tags": []
   },
   "outputs": [
    {
     "name": "stdout",
     "output_type": "stream",
     "text": [
      "Initial log joint probability = -4.20632\n",
      "    Iter      log prob        ||dx||      ||grad||       alpha      alpha0  # evals  Notes \n",
      "      99       8218.62   0.000422017        94.239           1           1      121   \n",
      "    Iter      log prob        ||dx||      ||grad||       alpha      alpha0  # evals  Notes \n",
      "     199       8219.39   5.87059e-05       77.0681        0.28           1      242   \n",
      "    Iter      log prob        ||dx||      ||grad||       alpha      alpha0  # evals  Notes \n",
      "     299       8219.75   0.000787244       97.0431      0.7361      0.7361      360   \n",
      "    Iter      log prob        ||dx||      ||grad||       alpha      alpha0  # evals  Notes \n",
      "     303       8219.76   2.35034e-05       104.781   2.094e-07       0.001      409  LS failed, Hessian reset \n",
      "     380       8219.85   4.79102e-07       62.7508      0.2411           1      505   \n",
      "Optimization terminated normally: \n",
      "  Convergence detected: relative gradient magnitude is below tolerance\n"
     ]
    }
   ],
   "source": [
    "model = model.fit(df_train_2)"
   ]
  },
  {
   "cell_type": "markdown",
   "id": "ac4f4600",
   "metadata": {
    "papermill": {
     "duration": 0.097963,
     "end_time": "2022-04-04T11:10:11.453289",
     "exception": false,
     "start_time": "2022-04-04T11:10:11.355326",
     "status": "completed"
    },
    "tags": []
   },
   "source": [
    "**Q.20 Train a multivariate time series model performing the same train test split as before, but now exclude T-max from the training data(drop T-max), What is the mean absolute percentage error (MAPE) to 2 decimal places on the test set?**"
   ]
  },
  {
   "cell_type": "code",
   "execution_count": 50,
   "id": "fa21d3db",
   "metadata": {
    "execution": {
     "iopub.execute_input": "2022-04-04T11:10:11.656583Z",
     "iopub.status.busy": "2022-04-04T11:10:11.655387Z",
     "iopub.status.idle": "2022-04-04T11:10:16.249086Z",
     "shell.execute_reply": "2022-04-04T11:10:16.248464Z",
     "shell.execute_reply.started": "2022-04-04T11:08:08.897189Z"
    },
    "papermill": {
     "duration": 4.699211,
     "end_time": "2022-04-04T11:10:16.249237",
     "exception": false,
     "start_time": "2022-04-04T11:10:11.550026",
     "status": "completed"
    },
    "tags": []
   },
   "outputs": [],
   "source": [
    "forecast_values_new = model.predict(df_test_2)"
   ]
  },
  {
   "cell_type": "code",
   "execution_count": 51,
   "id": "c8fca6b6",
   "metadata": {
    "execution": {
     "iopub.execute_input": "2022-04-04T11:10:16.444448Z",
     "iopub.status.busy": "2022-04-04T11:10:16.443714Z",
     "iopub.status.idle": "2022-04-04T11:10:16.449835Z",
     "shell.execute_reply": "2022-04-04T11:10:16.450409Z",
     "shell.execute_reply.started": "2022-04-04T11:08:12.849864Z"
    },
    "papermill": {
     "duration": 0.105402,
     "end_time": "2022-04-04T11:10:16.450588",
     "exception": false,
     "start_time": "2022-04-04T11:10:16.345186",
     "status": "completed"
    },
    "tags": []
   },
   "outputs": [
    {
     "name": "stdout",
     "output_type": "stream",
     "text": [
      "Mean Average Percentage Error ( MAPE) is:231.2\n"
     ]
    }
   ],
   "source": [
    "MAPE = Metric(df_test_2['y'],forecast_values_new['yhat'])\n",
    "print(f'Mean Average Percentage Error ( MAPE) is:{round(MAPE,2)}')"
   ]
  },
  {
   "cell_type": "code",
   "execution_count": null,
   "id": "740e797b",
   "metadata": {
    "papermill": {
     "duration": 0.116329,
     "end_time": "2022-04-04T11:10:16.664898",
     "exception": false,
     "start_time": "2022-04-04T11:10:16.548569",
     "status": "completed"
    },
    "tags": []
   },
   "outputs": [],
   "source": []
  }
 ],
 "metadata": {
  "kernelspec": {
   "display_name": "Python 3",
   "language": "python",
   "name": "python3"
  },
  "language_info": {
   "codemirror_mode": {
    "name": "ipython",
    "version": 3
   },
   "file_extension": ".py",
   "mimetype": "text/x-python",
   "name": "python",
   "nbconvert_exporter": "python",
   "pygments_lexer": "ipython3",
   "version": "3.7.12"
  },
  "papermill": {
   "default_parameters": {},
   "duration": 47.82295,
   "end_time": "2022-04-04T11:10:17.583368",
   "environment_variables": {},
   "exception": null,
   "input_path": "__notebook__.ipynb",
   "output_path": "__notebook__.ipynb",
   "parameters": {},
   "start_time": "2022-04-04T11:09:29.760418",
   "version": "2.3.3"
  }
 },
 "nbformat": 4,
 "nbformat_minor": 5
}
