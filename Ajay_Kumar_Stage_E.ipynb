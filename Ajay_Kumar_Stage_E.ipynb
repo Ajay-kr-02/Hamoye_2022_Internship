{
 "cells": [
  {
   "cell_type": "markdown",
   "id": "2d0712fa",
   "metadata": {
    "papermill": {
     "duration": 0.051172,
     "end_time": "2022-04-04T11:12:42.980644",
     "exception": false,
     "start_time": "2022-04-04T11:12:42.929472",
     "status": "completed"
    },
    "tags": []
   },
   "source": [
    "<b> Name: Ajay Kumar <br>\n",
    "    Hamoye ID: 147bffea7681f000 </b>"
   ]
  },
  {
   "cell_type": "code",
   "execution_count": 1,
   "id": "2baaaeda",
   "metadata": {
    "execution": {
     "iopub.execute_input": "2022-04-04T11:12:43.084800Z",
     "iopub.status.busy": "2022-04-04T11:12:43.084189Z",
     "iopub.status.idle": "2022-04-04T11:12:44.449927Z",
     "shell.execute_reply": "2022-04-04T11:12:44.450579Z",
     "shell.execute_reply.started": "2022-04-04T11:07:50.295292Z"
    },
    "papermill": {
     "duration": 1.419062,
     "end_time": "2022-04-04T11:12:44.450894",
     "exception": false,
     "start_time": "2022-04-04T11:12:43.031832",
     "status": "completed"
    },
    "tags": []
   },
   "outputs": [],
   "source": [
    "#Importing Libraries\n",
    "import numpy as np\n",
    "import pandas as pd\n",
    "import matplotlib.pyplot as plt\n",
    "import seaborn as sns\n",
    "from statsmodels.tsa.stattools import adfuller\n",
    "from fbprophet import Prophet"
   ]
  },
  {
   "cell_type": "code",
   "execution_count": 2,
   "id": "b23c2381",
   "metadata": {
    "execution": {
     "iopub.execute_input": "2022-04-04T11:12:44.543721Z",
     "iopub.status.busy": "2022-04-04T11:12:44.543118Z",
     "iopub.status.idle": "2022-04-04T11:12:44.701326Z",
     "shell.execute_reply": "2022-04-04T11:12:44.701835Z",
     "shell.execute_reply.started": "2022-04-04T11:07:51.663068Z"
    },
    "papermill": {
     "duration": 0.206534,
     "end_time": "2022-04-04T11:12:44.702003",
     "exception": false,
     "start_time": "2022-04-04T11:12:44.495469",
     "status": "completed"
    },
    "tags": []
   },
   "outputs": [],
   "source": [
    "data = pd.read_csv('../input/time-series-forecasting/Time_series_analysis_and_forecast_DATASET.csv')"
   ]
  },
  {
   "cell_type": "code",
   "execution_count": 3,
   "id": "e9327ccd",
   "metadata": {
    "execution": {
     "iopub.execute_input": "2022-04-04T11:12:44.793688Z",
     "iopub.status.busy": "2022-04-04T11:12:44.793094Z",
     "iopub.status.idle": "2022-04-04T11:12:44.812766Z",
     "shell.execute_reply": "2022-04-04T11:12:44.813251Z",
     "shell.execute_reply.started": "2022-04-04T11:07:51.842387Z"
    },
    "papermill": {
     "duration": 0.067217,
     "end_time": "2022-04-04T11:12:44.813414",
     "exception": false,
     "start_time": "2022-04-04T11:12:44.746197",
     "status": "completed"
    },
    "tags": []
   },
   "outputs": [
    {
     "data": {
      "text/html": [
       "<div>\n",
       "<style scoped>\n",
       "    .dataframe tbody tr th:only-of-type {\n",
       "        vertical-align: middle;\n",
       "    }\n",
       "\n",
       "    .dataframe tbody tr th {\n",
       "        vertical-align: top;\n",
       "    }\n",
       "\n",
       "    .dataframe thead th {\n",
       "        text-align: right;\n",
       "    }\n",
       "</style>\n",
       "<table border=\"1\" class=\"dataframe\">\n",
       "  <thead>\n",
       "    <tr style=\"text-align: right;\">\n",
       "      <th></th>\n",
       "      <th>FullDate</th>\n",
       "      <th>Tmax</th>\n",
       "      <th>SysLoad</th>\n",
       "      <th>GasPrice</th>\n",
       "      <th>ElecPrice</th>\n",
       "    </tr>\n",
       "  </thead>\n",
       "  <tbody>\n",
       "    <tr>\n",
       "      <th>0</th>\n",
       "      <td>2010-09-01 00:00:00</td>\n",
       "      <td>15.8</td>\n",
       "      <td>1688.215</td>\n",
       "      <td>3.69</td>\n",
       "      <td>23.710</td>\n",
       "    </tr>\n",
       "    <tr>\n",
       "      <th>1</th>\n",
       "      <td>2010-09-01 01:00:00</td>\n",
       "      <td>15.8</td>\n",
       "      <td>1669.195</td>\n",
       "      <td>3.69</td>\n",
       "      <td>22.635</td>\n",
       "    </tr>\n",
       "    <tr>\n",
       "      <th>2</th>\n",
       "      <td>2010-09-01 02:00:00</td>\n",
       "      <td>15.8</td>\n",
       "      <td>1491.980</td>\n",
       "      <td>3.69</td>\n",
       "      <td>22.565</td>\n",
       "    </tr>\n",
       "    <tr>\n",
       "      <th>3</th>\n",
       "      <td>2010-09-01 03:00:00</td>\n",
       "      <td>15.8</td>\n",
       "      <td>1330.760</td>\n",
       "      <td>3.69</td>\n",
       "      <td>18.910</td>\n",
       "    </tr>\n",
       "    <tr>\n",
       "      <th>4</th>\n",
       "      <td>2010-09-01 04:00:00</td>\n",
       "      <td>15.8</td>\n",
       "      <td>1247.940</td>\n",
       "      <td>3.69</td>\n",
       "      <td>18.030</td>\n",
       "    </tr>\n",
       "  </tbody>\n",
       "</table>\n",
       "</div>"
      ],
      "text/plain": [
       "              FullDate  Tmax   SysLoad  GasPrice  ElecPrice\n",
       "0  2010-09-01 00:00:00  15.8  1688.215      3.69     23.710\n",
       "1  2010-09-01 01:00:00  15.8  1669.195      3.69     22.635\n",
       "2  2010-09-01 02:00:00  15.8  1491.980      3.69     22.565\n",
       "3  2010-09-01 03:00:00  15.8  1330.760      3.69     18.910\n",
       "4  2010-09-01 04:00:00  15.8  1247.940      3.69     18.030"
      ]
     },
     "execution_count": 3,
     "metadata": {},
     "output_type": "execute_result"
    }
   ],
   "source": [
    "data.head()"
   ]
  },
  {
   "cell_type": "markdown",
   "id": "1cc553ca",
   "metadata": {
    "papermill": {
     "duration": 0.051386,
     "end_time": "2022-04-04T11:12:44.909666",
     "exception": false,
     "start_time": "2022-04-04T11:12:44.858280",
     "status": "completed"
    },
    "tags": []
   },
   "source": [
    "**Description of Data Set**\n",
    "* FullDate: Date in format yyyy-mm-dd  hh:mm:ss\n",
    "\n",
    "* ElecPrice: Prices of electricity charged in Kw per hour\n",
    "\n",
    "* Gas Price: power generated was done via a gas power plant, gas price is the price of gas at time-T\n",
    "\n",
    "* SysLoad: Total Load on system or Power consumed at time-T \n",
    "* Tmax: maximum temperature at time-T"
   ]
  },
  {
   "cell_type": "code",
   "execution_count": 4,
   "id": "21d0022b",
   "metadata": {
    "execution": {
     "iopub.execute_input": "2022-04-04T11:12:45.028828Z",
     "iopub.status.busy": "2022-04-04T11:12:45.028242Z",
     "iopub.status.idle": "2022-04-04T11:12:45.056541Z",
     "shell.execute_reply": "2022-04-04T11:12:45.056943Z",
     "shell.execute_reply.started": "2022-04-04T11:07:51.868017Z"
    },
    "papermill": {
     "duration": 0.082352,
     "end_time": "2022-04-04T11:12:45.057143",
     "exception": false,
     "start_time": "2022-04-04T11:12:44.974791",
     "status": "completed"
    },
    "tags": []
   },
   "outputs": [
    {
     "name": "stdout",
     "output_type": "stream",
     "text": [
      "<class 'pandas.core.frame.DataFrame'>\n",
      "RangeIndex: 92016 entries, 0 to 92015\n",
      "Data columns (total 5 columns):\n",
      " #   Column     Non-Null Count  Dtype  \n",
      "---  ------     --------------  -----  \n",
      " 0   FullDate   92016 non-null  object \n",
      " 1   Tmax       92016 non-null  float64\n",
      " 2   SysLoad    92016 non-null  float64\n",
      " 3   GasPrice   92016 non-null  float64\n",
      " 4   ElecPrice  92016 non-null  float64\n",
      "dtypes: float64(4), object(1)\n",
      "memory usage: 3.5+ MB\n"
     ]
    }
   ],
   "source": [
    "data.info()"
   ]
  },
  {
   "cell_type": "markdown",
   "id": "492df4db",
   "metadata": {
    "papermill": {
     "duration": 0.044302,
     "end_time": "2022-04-04T11:12:45.146285",
     "exception": false,
     "start_time": "2022-04-04T11:12:45.101983",
     "status": "completed"
    },
    "tags": []
   },
   "source": [
    "**Column FullDate is object type rest of the features are of float data type.**"
   ]
  },
  {
   "cell_type": "code",
   "execution_count": 5,
   "id": "c6bd37a2",
   "metadata": {
    "execution": {
     "iopub.execute_input": "2022-04-04T11:12:45.246089Z",
     "iopub.status.busy": "2022-04-04T11:12:45.245455Z",
     "iopub.status.idle": "2022-04-04T11:12:45.251949Z",
     "shell.execute_reply": "2022-04-04T11:12:45.252423Z",
     "shell.execute_reply.started": "2022-04-04T11:07:51.903854Z"
    },
    "papermill": {
     "duration": 0.060976,
     "end_time": "2022-04-04T11:12:45.252583",
     "exception": false,
     "start_time": "2022-04-04T11:12:45.191607",
     "status": "completed"
    },
    "tags": []
   },
   "outputs": [
    {
     "data": {
      "text/plain": [
       "FullDate     0\n",
       "Tmax         0\n",
       "SysLoad      0\n",
       "GasPrice     0\n",
       "ElecPrice    0\n",
       "dtype: int64"
      ]
     },
     "execution_count": 5,
     "metadata": {},
     "output_type": "execute_result"
    }
   ],
   "source": [
    "data.isnull().sum()"
   ]
  },
  {
   "cell_type": "markdown",
   "id": "a5218152",
   "metadata": {
    "papermill": {
     "duration": 0.045178,
     "end_time": "2022-04-04T11:12:45.342953",
     "exception": false,
     "start_time": "2022-04-04T11:12:45.297775",
     "status": "completed"
    },
    "tags": []
   },
   "source": [
    "**There are no missing values.**"
   ]
  },
  {
   "cell_type": "code",
   "execution_count": 6,
   "id": "58e42dfb",
   "metadata": {
    "execution": {
     "iopub.execute_input": "2022-04-04T11:12:45.436372Z",
     "iopub.status.busy": "2022-04-04T11:12:45.435758Z",
     "iopub.status.idle": "2022-04-04T11:12:45.469010Z",
     "shell.execute_reply": "2022-04-04T11:12:45.469472Z",
     "shell.execute_reply.started": "2022-04-04T11:07:51.923690Z"
    },
    "papermill": {
     "duration": 0.081359,
     "end_time": "2022-04-04T11:12:45.469637",
     "exception": false,
     "start_time": "2022-04-04T11:12:45.388278",
     "status": "completed"
    },
    "tags": []
   },
   "outputs": [
    {
     "data": {
      "text/html": [
       "<div>\n",
       "<style scoped>\n",
       "    .dataframe tbody tr th:only-of-type {\n",
       "        vertical-align: middle;\n",
       "    }\n",
       "\n",
       "    .dataframe tbody tr th {\n",
       "        vertical-align: top;\n",
       "    }\n",
       "\n",
       "    .dataframe thead th {\n",
       "        text-align: right;\n",
       "    }\n",
       "</style>\n",
       "<table border=\"1\" class=\"dataframe\">\n",
       "  <thead>\n",
       "    <tr style=\"text-align: right;\">\n",
       "      <th></th>\n",
       "      <th>Tmax</th>\n",
       "      <th>SysLoad</th>\n",
       "      <th>GasPrice</th>\n",
       "      <th>ElecPrice</th>\n",
       "    </tr>\n",
       "  </thead>\n",
       "  <tbody>\n",
       "    <tr>\n",
       "      <th>count</th>\n",
       "      <td>92016.000000</td>\n",
       "      <td>92016.000000</td>\n",
       "      <td>92016.000000</td>\n",
       "      <td>92016.000000</td>\n",
       "    </tr>\n",
       "    <tr>\n",
       "      <th>mean</th>\n",
       "      <td>231.696688</td>\n",
       "      <td>797.623357</td>\n",
       "      <td>6.016163</td>\n",
       "      <td>65.798356</td>\n",
       "    </tr>\n",
       "    <tr>\n",
       "      <th>std</th>\n",
       "      <td>4562.128748</td>\n",
       "      <td>613.520156</td>\n",
       "      <td>2.608116</td>\n",
       "      <td>213.144084</td>\n",
       "    </tr>\n",
       "    <tr>\n",
       "      <th>min</th>\n",
       "      <td>9.900000</td>\n",
       "      <td>-1596.810100</td>\n",
       "      <td>0.000000</td>\n",
       "      <td>-924.820000</td>\n",
       "    </tr>\n",
       "    <tr>\n",
       "      <th>25%</th>\n",
       "      <td>17.300000</td>\n",
       "      <td>417.119800</td>\n",
       "      <td>3.936900</td>\n",
       "      <td>31.543750</td>\n",
       "    </tr>\n",
       "    <tr>\n",
       "      <th>50%</th>\n",
       "      <td>21.900000</td>\n",
       "      <td>856.467925</td>\n",
       "      <td>5.165600</td>\n",
       "      <td>48.715000</td>\n",
       "    </tr>\n",
       "    <tr>\n",
       "      <th>75%</th>\n",
       "      <td>27.600000</td>\n",
       "      <td>1221.293675</td>\n",
       "      <td>8.023300</td>\n",
       "      <td>76.495000</td>\n",
       "    </tr>\n",
       "    <tr>\n",
       "      <th>max</th>\n",
       "      <td>99999.900000</td>\n",
       "      <td>3264.166300</td>\n",
       "      <td>29.990000</td>\n",
       "      <td>14700.000000</td>\n",
       "    </tr>\n",
       "  </tbody>\n",
       "</table>\n",
       "</div>"
      ],
      "text/plain": [
       "               Tmax       SysLoad      GasPrice     ElecPrice\n",
       "count  92016.000000  92016.000000  92016.000000  92016.000000\n",
       "mean     231.696688    797.623357      6.016163     65.798356\n",
       "std     4562.128748    613.520156      2.608116    213.144084\n",
       "min        9.900000  -1596.810100      0.000000   -924.820000\n",
       "25%       17.300000    417.119800      3.936900     31.543750\n",
       "50%       21.900000    856.467925      5.165600     48.715000\n",
       "75%       27.600000   1221.293675      8.023300     76.495000\n",
       "max    99999.900000   3264.166300     29.990000  14700.000000"
      ]
     },
     "execution_count": 6,
     "metadata": {},
     "output_type": "execute_result"
    }
   ],
   "source": [
    "data.describe() # Gettiing statistcal values of each feature."
   ]
  },
  {
   "cell_type": "code",
   "execution_count": 7,
   "id": "e679158b",
   "metadata": {
    "execution": {
     "iopub.execute_input": "2022-04-04T11:12:45.583853Z",
     "iopub.status.busy": "2022-04-04T11:12:45.582934Z",
     "iopub.status.idle": "2022-04-04T11:12:45.586925Z",
     "shell.execute_reply": "2022-04-04T11:12:45.586390Z",
     "shell.execute_reply.started": "2022-04-04T11:07:51.961311Z"
    },
    "papermill": {
     "duration": 0.071851,
     "end_time": "2022-04-04T11:12:45.587117",
     "exception": false,
     "start_time": "2022-04-04T11:12:45.515266",
     "status": "completed"
    },
    "tags": []
   },
   "outputs": [],
   "source": [
    "data['FullDate']= pd.to_datetime(data['FullDate']) # Converting object type column into datetime column."
   ]
  },
  {
   "cell_type": "code",
   "execution_count": 8,
   "id": "43832c7e",
   "metadata": {
    "execution": {
     "iopub.execute_input": "2022-04-04T11:12:45.686225Z",
     "iopub.status.busy": "2022-04-04T11:12:45.685516Z",
     "iopub.status.idle": "2022-04-04T11:12:45.689924Z",
     "shell.execute_reply": "2022-04-04T11:12:45.690504Z",
     "shell.execute_reply.started": "2022-04-04T11:07:52.002473Z"
    },
    "papermill": {
     "duration": 0.056198,
     "end_time": "2022-04-04T11:12:45.690675",
     "exception": false,
     "start_time": "2022-04-04T11:12:45.634477",
     "status": "completed"
    },
    "tags": []
   },
   "outputs": [],
   "source": [
    "data = data.set_index(\"FullDate\") # Converting FullDate column as row indexes."
   ]
  },
  {
   "cell_type": "code",
   "execution_count": 9,
   "id": "55dc4af9",
   "metadata": {
    "execution": {
     "iopub.execute_input": "2022-04-04T11:12:45.793425Z",
     "iopub.status.busy": "2022-04-04T11:12:45.792752Z",
     "iopub.status.idle": "2022-04-04T11:12:45.795894Z",
     "shell.execute_reply": "2022-04-04T11:12:45.796437Z",
     "shell.execute_reply.started": "2022-04-04T11:07:52.016550Z"
    },
    "papermill": {
     "duration": 0.059661,
     "end_time": "2022-04-04T11:12:45.796598",
     "exception": false,
     "start_time": "2022-04-04T11:12:45.736937",
     "status": "completed"
    },
    "tags": []
   },
   "outputs": [
    {
     "data": {
      "text/html": [
       "<div>\n",
       "<style scoped>\n",
       "    .dataframe tbody tr th:only-of-type {\n",
       "        vertical-align: middle;\n",
       "    }\n",
       "\n",
       "    .dataframe tbody tr th {\n",
       "        vertical-align: top;\n",
       "    }\n",
       "\n",
       "    .dataframe thead th {\n",
       "        text-align: right;\n",
       "    }\n",
       "</style>\n",
       "<table border=\"1\" class=\"dataframe\">\n",
       "  <thead>\n",
       "    <tr style=\"text-align: right;\">\n",
       "      <th></th>\n",
       "      <th>Tmax</th>\n",
       "      <th>SysLoad</th>\n",
       "      <th>GasPrice</th>\n",
       "      <th>ElecPrice</th>\n",
       "    </tr>\n",
       "    <tr>\n",
       "      <th>FullDate</th>\n",
       "      <th></th>\n",
       "      <th></th>\n",
       "      <th></th>\n",
       "      <th></th>\n",
       "    </tr>\n",
       "  </thead>\n",
       "  <tbody>\n",
       "    <tr>\n",
       "      <th>2010-09-01 00:00:00</th>\n",
       "      <td>15.8</td>\n",
       "      <td>1688.215</td>\n",
       "      <td>3.69</td>\n",
       "      <td>23.710</td>\n",
       "    </tr>\n",
       "    <tr>\n",
       "      <th>2010-09-01 01:00:00</th>\n",
       "      <td>15.8</td>\n",
       "      <td>1669.195</td>\n",
       "      <td>3.69</td>\n",
       "      <td>22.635</td>\n",
       "    </tr>\n",
       "    <tr>\n",
       "      <th>2010-09-01 02:00:00</th>\n",
       "      <td>15.8</td>\n",
       "      <td>1491.980</td>\n",
       "      <td>3.69</td>\n",
       "      <td>22.565</td>\n",
       "    </tr>\n",
       "    <tr>\n",
       "      <th>2010-09-01 03:00:00</th>\n",
       "      <td>15.8</td>\n",
       "      <td>1330.760</td>\n",
       "      <td>3.69</td>\n",
       "      <td>18.910</td>\n",
       "    </tr>\n",
       "    <tr>\n",
       "      <th>2010-09-01 04:00:00</th>\n",
       "      <td>15.8</td>\n",
       "      <td>1247.940</td>\n",
       "      <td>3.69</td>\n",
       "      <td>18.030</td>\n",
       "    </tr>\n",
       "  </tbody>\n",
       "</table>\n",
       "</div>"
      ],
      "text/plain": [
       "                     Tmax   SysLoad  GasPrice  ElecPrice\n",
       "FullDate                                                \n",
       "2010-09-01 00:00:00  15.8  1688.215      3.69     23.710\n",
       "2010-09-01 01:00:00  15.8  1669.195      3.69     22.635\n",
       "2010-09-01 02:00:00  15.8  1491.980      3.69     22.565\n",
       "2010-09-01 03:00:00  15.8  1330.760      3.69     18.910\n",
       "2010-09-01 04:00:00  15.8  1247.940      3.69     18.030"
      ]
     },
     "execution_count": 9,
     "metadata": {},
     "output_type": "execute_result"
    }
   ],
   "source": [
    "data.head()"
   ]
  },
  {
   "cell_type": "markdown",
   "id": "6945010e",
   "metadata": {
    "papermill": {
     "duration": 0.047201,
     "end_time": "2022-04-04T11:12:45.890576",
     "exception": false,
     "start_time": "2022-04-04T11:12:45.843375",
     "status": "completed"
    },
    "tags": []
   },
   "source": [
    "**Q.11 Resample the data from an hour sampling rate to a daily sampling rate (i.e sum over the hours for each day). Which of the following is a plot of ElecPrice over time?**"
   ]
  },
  {
   "cell_type": "code",
   "execution_count": 10,
   "id": "aa877ec5",
   "metadata": {
    "execution": {
     "iopub.execute_input": "2022-04-04T11:12:45.987301Z",
     "iopub.status.busy": "2022-04-04T11:12:45.986603Z",
     "iopub.status.idle": "2022-04-04T11:12:46.002259Z",
     "shell.execute_reply": "2022-04-04T11:12:46.002737Z",
     "shell.execute_reply.started": "2022-04-04T11:07:52.034474Z"
    },
    "papermill": {
     "duration": 0.065398,
     "end_time": "2022-04-04T11:12:46.002899",
     "exception": false,
     "start_time": "2022-04-04T11:12:45.937501",
     "status": "completed"
    },
    "tags": []
   },
   "outputs": [],
   "source": [
    "# Sampling Data for a day\n",
    "day_data = data.resample('D').sum()"
   ]
  },
  {
   "cell_type": "code",
   "execution_count": 11,
   "id": "16393855",
   "metadata": {
    "execution": {
     "iopub.execute_input": "2022-04-04T11:12:46.101955Z",
     "iopub.status.busy": "2022-04-04T11:12:46.101370Z",
     "iopub.status.idle": "2022-04-04T11:12:46.111483Z",
     "shell.execute_reply": "2022-04-04T11:12:46.111998Z",
     "shell.execute_reply.started": "2022-04-04T11:07:52.053639Z"
    },
    "papermill": {
     "duration": 0.060086,
     "end_time": "2022-04-04T11:12:46.112177",
     "exception": false,
     "start_time": "2022-04-04T11:12:46.052091",
     "status": "completed"
    },
    "tags": []
   },
   "outputs": [
    {
     "data": {
      "text/html": [
       "<div>\n",
       "<style scoped>\n",
       "    .dataframe tbody tr th:only-of-type {\n",
       "        vertical-align: middle;\n",
       "    }\n",
       "\n",
       "    .dataframe tbody tr th {\n",
       "        vertical-align: top;\n",
       "    }\n",
       "\n",
       "    .dataframe thead th {\n",
       "        text-align: right;\n",
       "    }\n",
       "</style>\n",
       "<table border=\"1\" class=\"dataframe\">\n",
       "  <thead>\n",
       "    <tr style=\"text-align: right;\">\n",
       "      <th></th>\n",
       "      <th>Tmax</th>\n",
       "      <th>SysLoad</th>\n",
       "      <th>GasPrice</th>\n",
       "      <th>ElecPrice</th>\n",
       "    </tr>\n",
       "    <tr>\n",
       "      <th>FullDate</th>\n",
       "      <th></th>\n",
       "      <th></th>\n",
       "      <th></th>\n",
       "      <th></th>\n",
       "    </tr>\n",
       "  </thead>\n",
       "  <tbody>\n",
       "    <tr>\n",
       "      <th>2010-09-01</th>\n",
       "      <td>379.2</td>\n",
       "      <td>41565.380</td>\n",
       "      <td>88.56</td>\n",
       "      <td>2751.700</td>\n",
       "    </tr>\n",
       "    <tr>\n",
       "      <th>2010-09-02</th>\n",
       "      <td>369.6</td>\n",
       "      <td>38898.990</td>\n",
       "      <td>88.56</td>\n",
       "      <td>570.810</td>\n",
       "    </tr>\n",
       "    <tr>\n",
       "      <th>2010-09-03</th>\n",
       "      <td>439.2</td>\n",
       "      <td>41665.760</td>\n",
       "      <td>106.80</td>\n",
       "      <td>504.975</td>\n",
       "    </tr>\n",
       "    <tr>\n",
       "      <th>2010-09-04</th>\n",
       "      <td>328.8</td>\n",
       "      <td>35638.085</td>\n",
       "      <td>81.36</td>\n",
       "      <td>502.275</td>\n",
       "    </tr>\n",
       "    <tr>\n",
       "      <th>2010-09-05</th>\n",
       "      <td>357.6</td>\n",
       "      <td>35611.410</td>\n",
       "      <td>106.80</td>\n",
       "      <td>500.555</td>\n",
       "    </tr>\n",
       "  </tbody>\n",
       "</table>\n",
       "</div>"
      ],
      "text/plain": [
       "             Tmax    SysLoad  GasPrice  ElecPrice\n",
       "FullDate                                         \n",
       "2010-09-01  379.2  41565.380     88.56   2751.700\n",
       "2010-09-02  369.6  38898.990     88.56    570.810\n",
       "2010-09-03  439.2  41665.760    106.80    504.975\n",
       "2010-09-04  328.8  35638.085     81.36    502.275\n",
       "2010-09-05  357.6  35611.410    106.80    500.555"
      ]
     },
     "execution_count": 11,
     "metadata": {},
     "output_type": "execute_result"
    }
   ],
   "source": [
    "day_data.head()"
   ]
  },
  {
   "cell_type": "code",
   "execution_count": 12,
   "id": "697effab",
   "metadata": {
    "execution": {
     "iopub.execute_input": "2022-04-04T11:12:46.207616Z",
     "iopub.status.busy": "2022-04-04T11:12:46.206943Z",
     "iopub.status.idle": "2022-04-04T11:12:46.512807Z",
     "shell.execute_reply": "2022-04-04T11:12:46.513289Z",
     "shell.execute_reply.started": "2022-04-04T11:07:52.067553Z"
    },
    "papermill": {
     "duration": 0.355106,
     "end_time": "2022-04-04T11:12:46.513451",
     "exception": false,
     "start_time": "2022-04-04T11:12:46.158345",
     "status": "completed"
    },
    "tags": []
   },
   "outputs": [
    {
     "data": {
      "text/plain": [
       "Text(0, 0.5, 'Electric Price')"
      ]
     },
     "execution_count": 12,
     "metadata": {},
     "output_type": "execute_result"
    },
    {
     "data": {
      "image/png": "[encoded data removed]",
      "text/plain": [
       "<Figure size 1080x576 with 1 Axes>"
      ]
     },
     "metadata": {
      "needs_background": "light"
     },
     "output_type": "display_data"
    }
   ],
   "source": [
    "plt.figure(figsize=( 15 , 8 ))\n",
    "plt.plot(day_data.index, day_data['ElecPrice'], '--' , marker= '*' , )\n",
    "plt.grid()\n",
    "plt.xlabel( 'Year' )\n",
    "plt.ylabel( 'Electric Price' )"
   ]
  },
  {
   "cell_type": "markdown",
   "id": "073ec739",
   "metadata": {
    "papermill": {
     "duration": 0.048078,
     "end_time": "2022-04-04T11:12:46.609910",
     "exception": false,
     "start_time": "2022-04-04T11:12:46.561832",
     "status": "completed"
    },
    "tags": []
   },
   "source": [
    "**Above shown graph provides the answer.**"
   ]
  },
  {
   "cell_type": "markdown",
   "id": "74d72961",
   "metadata": {
    "papermill": {
     "duration": 0.047826,
     "end_time": "2022-04-04T11:12:46.705697",
     "exception": false,
     "start_time": "2022-04-04T11:12:46.657871",
     "status": "completed"
    },
    "tags": []
   },
   "source": [
    "**Q.12 Using the Augmented Dicky Fuller test (ADF), what is the P-value of the SysLoad and GasPrice of the resampled Data set, to 6 decimal places?**"
   ]
  },
  {
   "cell_type": "code",
   "execution_count": 13,
   "id": "7f16eb95",
   "metadata": {
    "execution": {
     "iopub.execute_input": "2022-04-04T11:12:46.806581Z",
     "iopub.status.busy": "2022-04-04T11:12:46.805899Z",
     "iopub.status.idle": "2022-04-04T11:12:47.190862Z",
     "shell.execute_reply": "2022-04-04T11:12:47.191881Z",
     "shell.execute_reply.started": "2022-04-04T11:07:52.381076Z"
    },
    "papermill": {
     "duration": 0.438429,
     "end_time": "2022-04-04T11:12:47.192171",
     "exception": false,
     "start_time": "2022-04-04T11:12:46.753742",
     "status": "completed"
    },
    "tags": []
   },
   "outputs": [
    {
     "name": "stdout",
     "output_type": "stream",
     "text": [
      "SysLoad p-value: 0.004254\n",
      "GasPrice p-value: 0.045027\n"
     ]
    }
   ],
   "source": [
    "system_result = adfuller(day_data['SysLoad'])\n",
    "gas_result = adfuller(day_data['GasPrice'])\n",
    "print(f'SysLoad p-value: {round(system_result[1],6)}')\n",
    "print(f'GasPrice p-value: {round(gas_result[1],6)}')"
   ]
  },
  {
   "cell_type": "markdown",
   "id": "d02e57ef",
   "metadata": {
    "papermill": {
     "duration": 0.055965,
     "end_time": "2022-04-04T11:12:47.347279",
     "exception": false,
     "start_time": "2022-04-04T11:12:47.291314",
     "status": "completed"
    },
    "tags": []
   },
   "source": [
    "**SysLoad p-value: 0.004254\n",
    "GasPrice p-value: 0.045027**"
   ]
  },
  {
   "cell_type": "markdown",
   "id": "b07a5a02",
   "metadata": {
    "papermill": {
     "duration": 0.04853,
     "end_time": "2022-04-04T11:12:47.444732",
     "exception": false,
     "start_time": "2022-04-04T11:12:47.396202",
     "status": "completed"
    },
    "tags": []
   },
   "source": [
    "**Q.13 Using the Augmented Dicky Fuller test (ADF) what are the 10% and 5% critical values of GasPrice and ElecPrice of the resampled Data set, to 4 decimal places.**"
   ]
  },
  {
   "cell_type": "code",
   "execution_count": 14,
   "id": "dd60d580",
   "metadata": {
    "execution": {
     "iopub.execute_input": "2022-04-04T11:12:47.547635Z",
     "iopub.status.busy": "2022-04-04T11:12:47.546989Z",
     "iopub.status.idle": "2022-04-04T11:12:47.729142Z",
     "shell.execute_reply": "2022-04-04T11:12:47.729983Z",
     "shell.execute_reply.started": "2022-04-04T11:07:52.793242Z"
    },
    "papermill": {
     "duration": 0.23658,
     "end_time": "2022-04-04T11:12:47.730273",
     "exception": false,
     "start_time": "2022-04-04T11:12:47.493693",
     "status": "completed"
    },
    "tags": []
   },
   "outputs": [],
   "source": [
    "electricity_result = adfuller(day_data['ElecPrice'])"
   ]
  },
  {
   "cell_type": "code",
   "execution_count": 15,
   "id": "31e85c87",
   "metadata": {
    "execution": {
     "iopub.execute_input": "2022-04-04T11:12:47.891461Z",
     "iopub.status.busy": "2022-04-04T11:12:47.888954Z",
     "iopub.status.idle": "2022-04-04T11:12:47.893600Z",
     "shell.execute_reply": "2022-04-04T11:12:47.893148Z",
     "shell.execute_reply.started": "2022-04-04T11:07:52.993363Z"
    },
    "papermill": {
     "duration": 0.064762,
     "end_time": "2022-04-04T11:12:47.893730",
     "exception": false,
     "start_time": "2022-04-04T11:12:47.828968",
     "status": "completed"
    },
    "tags": []
   },
   "outputs": [
    {
     "name": "stdout",
     "output_type": "stream",
     "text": [
      "Critical Values:\n",
      "10% of GasPrice : -2.5672\n",
      "5% of GasPrice : -2.8623\n"
     ]
    }
   ],
   "source": [
    "print('Critical Values:')\n",
    "print(f'10% of GasPrice : {round(gas_result[4][\"10%\"],4)}')\n",
    "print(f'5% of GasPrice : {round(electricity_result[4][\"5%\"],4)}') "
   ]
  },
  {
   "cell_type": "markdown",
   "id": "dac4fea0",
   "metadata": {
    "papermill": {
     "duration": 0.049188,
     "end_time": "2022-04-04T11:12:47.992118",
     "exception": false,
     "start_time": "2022-04-04T11:12:47.942930",
     "status": "completed"
    },
    "tags": []
   },
   "source": [
    "**Critical Values are: <br>\n",
    "10% of GasPrice : -2.5672\n",
    "5% of GasPrice : -2.8623**"
   ]
  },
  {
   "cell_type": "code",
   "execution_count": 16,
   "id": "61df0dc0",
   "metadata": {
    "execution": {
     "iopub.execute_input": "2022-04-04T11:12:48.097348Z",
     "iopub.status.busy": "2022-04-04T11:12:48.096758Z",
     "iopub.status.idle": "2022-04-04T11:12:48.100331Z",
     "shell.execute_reply": "2022-04-04T11:12:48.100794Z",
     "shell.execute_reply.started": "2022-04-04T11:07:53.003439Z"
    },
    "papermill": {
     "duration": 0.057544,
     "end_time": "2022-04-04T11:12:48.100949",
     "exception": false,
     "start_time": "2022-04-04T11:12:48.043405",
     "status": "completed"
    },
    "tags": []
   },
   "outputs": [],
   "source": [
    "train_data = day_data.iloc[:2757,:]\n",
    "test_data = day_data.iloc[2757:,:] "
   ]
  },
  {
   "cell_type": "code",
   "execution_count": 17,
   "id": "f98830fc",
   "metadata": {
    "execution": {
     "iopub.execute_input": "2022-04-04T11:12:48.202140Z",
     "iopub.status.busy": "2022-04-04T11:12:48.201565Z",
     "iopub.status.idle": "2022-04-04T11:12:48.207172Z",
     "shell.execute_reply": "2022-04-04T11:12:48.206727Z",
     "shell.execute_reply.started": "2022-04-04T11:07:53.013757Z"
    },
    "papermill": {
     "duration": 0.057155,
     "end_time": "2022-04-04T11:12:48.207302",
     "exception": false,
     "start_time": "2022-04-04T11:12:48.150147",
     "status": "completed"
    },
    "tags": []
   },
   "outputs": [
    {
     "data": {
      "text/plain": [
       "((2757, 4), (1077, 4))"
      ]
     },
     "execution_count": 17,
     "metadata": {},
     "output_type": "execute_result"
    }
   ],
   "source": [
    "train_data.shape , test_data.shape"
   ]
  },
  {
   "cell_type": "code",
   "execution_count": 18,
   "id": "4a3917b3",
   "metadata": {
    "execution": {
     "iopub.execute_input": "2022-04-04T11:12:48.312054Z",
     "iopub.status.busy": "2022-04-04T11:12:48.311434Z",
     "iopub.status.idle": "2022-04-04T11:12:48.319772Z",
     "shell.execute_reply": "2022-04-04T11:12:48.320311Z",
     "shell.execute_reply.started": "2022-04-04T11:07:53.028591Z"
    },
    "papermill": {
     "duration": 0.063805,
     "end_time": "2022-04-04T11:12:48.320470",
     "exception": false,
     "start_time": "2022-04-04T11:12:48.256665",
     "status": "completed"
    },
    "tags": []
   },
   "outputs": [
    {
     "data": {
      "text/html": [
       "<div>\n",
       "<style scoped>\n",
       "    .dataframe tbody tr th:only-of-type {\n",
       "        vertical-align: middle;\n",
       "    }\n",
       "\n",
       "    .dataframe tbody tr th {\n",
       "        vertical-align: top;\n",
       "    }\n",
       "\n",
       "    .dataframe thead th {\n",
       "        text-align: right;\n",
       "    }\n",
       "</style>\n",
       "<table border=\"1\" class=\"dataframe\">\n",
       "  <thead>\n",
       "    <tr style=\"text-align: right;\">\n",
       "      <th></th>\n",
       "      <th>FullDate</th>\n",
       "      <th>Tmax</th>\n",
       "      <th>SysLoad</th>\n",
       "      <th>GasPrice</th>\n",
       "      <th>ElecPrice</th>\n",
       "    </tr>\n",
       "  </thead>\n",
       "  <tbody>\n",
       "    <tr>\n",
       "      <th>0</th>\n",
       "      <td>2010-09-01</td>\n",
       "      <td>379.2</td>\n",
       "      <td>41565.380</td>\n",
       "      <td>88.56</td>\n",
       "      <td>2751.700</td>\n",
       "    </tr>\n",
       "    <tr>\n",
       "      <th>1</th>\n",
       "      <td>2010-09-02</td>\n",
       "      <td>369.6</td>\n",
       "      <td>38898.990</td>\n",
       "      <td>88.56</td>\n",
       "      <td>570.810</td>\n",
       "    </tr>\n",
       "    <tr>\n",
       "      <th>2</th>\n",
       "      <td>2010-09-03</td>\n",
       "      <td>439.2</td>\n",
       "      <td>41665.760</td>\n",
       "      <td>106.80</td>\n",
       "      <td>504.975</td>\n",
       "    </tr>\n",
       "    <tr>\n",
       "      <th>3</th>\n",
       "      <td>2010-09-04</td>\n",
       "      <td>328.8</td>\n",
       "      <td>35638.085</td>\n",
       "      <td>81.36</td>\n",
       "      <td>502.275</td>\n",
       "    </tr>\n",
       "    <tr>\n",
       "      <th>4</th>\n",
       "      <td>2010-09-05</td>\n",
       "      <td>357.6</td>\n",
       "      <td>35611.410</td>\n",
       "      <td>106.80</td>\n",
       "      <td>500.555</td>\n",
       "    </tr>\n",
       "  </tbody>\n",
       "</table>\n",
       "</div>"
      ],
      "text/plain": [
       "    FullDate   Tmax    SysLoad  GasPrice  ElecPrice\n",
       "0 2010-09-01  379.2  41565.380     88.56   2751.700\n",
       "1 2010-09-02  369.6  38898.990     88.56    570.810\n",
       "2 2010-09-03  439.2  41665.760    106.80    504.975\n",
       "3 2010-09-04  328.8  35638.085     81.36    502.275\n",
       "4 2010-09-05  357.6  35611.410    106.80    500.555"
      ]
     },
     "execution_count": 18,
     "metadata": {},
     "output_type": "execute_result"
    }
   ],
   "source": [
    "train_data.reset_index(inplace = True)\n",
    "train_data.head()"
   ]
  },
  {
   "cell_type": "code",
   "execution_count": 19,
   "id": "898ec5d0",
   "metadata": {
    "execution": {
     "iopub.execute_input": "2022-04-04T11:12:48.422146Z",
     "iopub.status.busy": "2022-04-04T11:12:48.421582Z",
     "iopub.status.idle": "2022-04-04T11:12:48.425358Z",
     "shell.execute_reply": "2022-04-04T11:12:48.425859Z",
     "shell.execute_reply.started": "2022-04-04T11:07:53.056197Z"
    },
    "papermill": {
     "duration": 0.056113,
     "end_time": "2022-04-04T11:12:48.426006",
     "exception": false,
     "start_time": "2022-04-04T11:12:48.369893",
     "status": "completed"
    },
    "tags": []
   },
   "outputs": [],
   "source": [
    "df_train = train_data.iloc[:,[0,-1]]"
   ]
  },
  {
   "cell_type": "code",
   "execution_count": 20,
   "id": "ffbefe96",
   "metadata": {
    "execution": {
     "iopub.execute_input": "2022-04-04T11:12:48.527353Z",
     "iopub.status.busy": "2022-04-04T11:12:48.526790Z",
     "iopub.status.idle": "2022-04-04T11:12:48.536082Z",
     "shell.execute_reply": "2022-04-04T11:12:48.536549Z",
     "shell.execute_reply.started": "2022-04-04T11:07:53.064746Z"
    },
    "papermill": {
     "duration": 0.061214,
     "end_time": "2022-04-04T11:12:48.536701",
     "exception": false,
     "start_time": "2022-04-04T11:12:48.475487",
     "status": "completed"
    },
    "tags": []
   },
   "outputs": [
    {
     "data": {
      "text/html": [
       "<div>\n",
       "<style scoped>\n",
       "    .dataframe tbody tr th:only-of-type {\n",
       "        vertical-align: middle;\n",
       "    }\n",
       "\n",
       "    .dataframe tbody tr th {\n",
       "        vertical-align: top;\n",
       "    }\n",
       "\n",
       "    .dataframe thead th {\n",
       "        text-align: right;\n",
       "    }\n",
       "</style>\n",
       "<table border=\"1\" class=\"dataframe\">\n",
       "  <thead>\n",
       "    <tr style=\"text-align: right;\">\n",
       "      <th></th>\n",
       "      <th>ds</th>\n",
       "      <th>y</th>\n",
       "    </tr>\n",
       "  </thead>\n",
       "  <tbody>\n",
       "    <tr>\n",
       "      <th>0</th>\n",
       "      <td>2010-09-01</td>\n",
       "      <td>2751.700</td>\n",
       "    </tr>\n",
       "    <tr>\n",
       "      <th>1</th>\n",
       "      <td>2010-09-02</td>\n",
       "      <td>570.810</td>\n",
       "    </tr>\n",
       "    <tr>\n",
       "      <th>2</th>\n",
       "      <td>2010-09-03</td>\n",
       "      <td>504.975</td>\n",
       "    </tr>\n",
       "    <tr>\n",
       "      <th>3</th>\n",
       "      <td>2010-09-04</td>\n",
       "      <td>502.275</td>\n",
       "    </tr>\n",
       "    <tr>\n",
       "      <th>4</th>\n",
       "      <td>2010-09-05</td>\n",
       "      <td>500.555</td>\n",
       "    </tr>\n",
       "  </tbody>\n",
       "</table>\n",
       "</div>"
      ],
      "text/plain": [
       "          ds         y\n",
       "0 2010-09-01  2751.700\n",
       "1 2010-09-02   570.810\n",
       "2 2010-09-03   504.975\n",
       "3 2010-09-04   502.275\n",
       "4 2010-09-05   500.555"
      ]
     },
     "execution_count": 20,
     "metadata": {},
     "output_type": "execute_result"
    }
   ],
   "source": [
    "df_train = df_train.rename(columns={\"FullDate\": \"ds\", \"ElecPrice\": \"y\"})\n",
    "df_train.head()"
   ]
  },
  {
   "cell_type": "code",
   "execution_count": 21,
   "id": "d9614a05",
   "metadata": {
    "execution": {
     "iopub.execute_input": "2022-04-04T11:12:48.639634Z",
     "iopub.status.busy": "2022-04-04T11:12:48.639048Z",
     "iopub.status.idle": "2022-04-04T11:12:48.650693Z",
     "shell.execute_reply": "2022-04-04T11:12:48.651241Z",
     "shell.execute_reply.started": "2022-04-04T11:07:53.087240Z"
    },
    "papermill": {
     "duration": 0.064902,
     "end_time": "2022-04-04T11:12:48.651402",
     "exception": false,
     "start_time": "2022-04-04T11:12:48.586500",
     "status": "completed"
    },
    "tags": []
   },
   "outputs": [
    {
     "data": {
      "text/html": [
       "<div>\n",
       "<style scoped>\n",
       "    .dataframe tbody tr th:only-of-type {\n",
       "        vertical-align: middle;\n",
       "    }\n",
       "\n",
       "    .dataframe tbody tr th {\n",
       "        vertical-align: top;\n",
       "    }\n",
       "\n",
       "    .dataframe thead th {\n",
       "        text-align: right;\n",
       "    }\n",
       "</style>\n",
       "<table border=\"1\" class=\"dataframe\">\n",
       "  <thead>\n",
       "    <tr style=\"text-align: right;\">\n",
       "      <th></th>\n",
       "      <th>FullDate</th>\n",
       "      <th>Tmax</th>\n",
       "      <th>SysLoad</th>\n",
       "      <th>GasPrice</th>\n",
       "      <th>ElecPrice</th>\n",
       "    </tr>\n",
       "  </thead>\n",
       "  <tbody>\n",
       "    <tr>\n",
       "      <th>0</th>\n",
       "      <td>2018-03-20</td>\n",
       "      <td>540.0</td>\n",
       "      <td>7696.91130</td>\n",
       "      <td>201.5880</td>\n",
       "      <td>1833.00</td>\n",
       "    </tr>\n",
       "    <tr>\n",
       "      <th>1</th>\n",
       "      <td>2018-03-21</td>\n",
       "      <td>571.2</td>\n",
       "      <td>4658.05865</td>\n",
       "      <td>203.2560</td>\n",
       "      <td>1730.49</td>\n",
       "    </tr>\n",
       "    <tr>\n",
       "      <th>2</th>\n",
       "      <td>2018-03-22</td>\n",
       "      <td>722.4</td>\n",
       "      <td>19161.78525</td>\n",
       "      <td>203.2560</td>\n",
       "      <td>2260.55</td>\n",
       "    </tr>\n",
       "    <tr>\n",
       "      <th>3</th>\n",
       "      <td>2018-03-23</td>\n",
       "      <td>811.2</td>\n",
       "      <td>18090.43435</td>\n",
       "      <td>198.6456</td>\n",
       "      <td>2138.76</td>\n",
       "    </tr>\n",
       "    <tr>\n",
       "      <th>4</th>\n",
       "      <td>2018-03-24</td>\n",
       "      <td>832.8</td>\n",
       "      <td>3763.53865</td>\n",
       "      <td>180.2160</td>\n",
       "      <td>1721.70</td>\n",
       "    </tr>\n",
       "  </tbody>\n",
       "</table>\n",
       "</div>"
      ],
      "text/plain": [
       "    FullDate   Tmax      SysLoad  GasPrice  ElecPrice\n",
       "0 2018-03-20  540.0   7696.91130  201.5880    1833.00\n",
       "1 2018-03-21  571.2   4658.05865  203.2560    1730.49\n",
       "2 2018-03-22  722.4  19161.78525  203.2560    2260.55\n",
       "3 2018-03-23  811.2  18090.43435  198.6456    2138.76\n",
       "4 2018-03-24  832.8   3763.53865  180.2160    1721.70"
      ]
     },
     "execution_count": 21,
     "metadata": {},
     "output_type": "execute_result"
    }
   ],
   "source": [
    "test_data.reset_index(inplace = True)\n",
    "test_data.head()"
   ]
  },
  {
   "cell_type": "code",
   "execution_count": 22,
   "id": "da624722",
   "metadata": {
    "execution": {
     "iopub.execute_input": "2022-04-04T11:12:48.755215Z",
     "iopub.status.busy": "2022-04-04T11:12:48.754652Z",
     "iopub.status.idle": "2022-04-04T11:12:48.758416Z",
     "shell.execute_reply": "2022-04-04T11:12:48.758907Z",
     "shell.execute_reply.started": "2022-04-04T11:07:53.113886Z"
    },
    "papermill": {
     "duration": 0.057247,
     "end_time": "2022-04-04T11:12:48.759076",
     "exception": false,
     "start_time": "2022-04-04T11:12:48.701829",
     "status": "completed"
    },
    "tags": []
   },
   "outputs": [],
   "source": [
    "test_df = test_data.iloc[:,[0,-1]]"
   ]
  },
  {
   "cell_type": "code",
   "execution_count": 23,
   "id": "e5d76513",
   "metadata": {
    "execution": {
     "iopub.execute_input": "2022-04-04T11:12:48.861842Z",
     "iopub.status.busy": "2022-04-04T11:12:48.861282Z",
     "iopub.status.idle": "2022-04-04T11:12:48.871894Z",
     "shell.execute_reply": "2022-04-04T11:12:48.871410Z",
     "shell.execute_reply.started": "2022-04-04T11:07:53.121208Z"
    },
    "papermill": {
     "duration": 0.063185,
     "end_time": "2022-04-04T11:12:48.872102",
     "exception": false,
     "start_time": "2022-04-04T11:12:48.808917",
     "status": "completed"
    },
    "tags": []
   },
   "outputs": [
    {
     "data": {
      "text/html": [
       "<div>\n",
       "<style scoped>\n",
       "    .dataframe tbody tr th:only-of-type {\n",
       "        vertical-align: middle;\n",
       "    }\n",
       "\n",
       "    .dataframe tbody tr th {\n",
       "        vertical-align: top;\n",
       "    }\n",
       "\n",
       "    .dataframe thead th {\n",
       "        text-align: right;\n",
       "    }\n",
       "</style>\n",
       "<table border=\"1\" class=\"dataframe\">\n",
       "  <thead>\n",
       "    <tr style=\"text-align: right;\">\n",
       "      <th></th>\n",
       "      <th>ds</th>\n",
       "      <th>y</th>\n",
       "    </tr>\n",
       "  </thead>\n",
       "  <tbody>\n",
       "    <tr>\n",
       "      <th>0</th>\n",
       "      <td>2018-03-20</td>\n",
       "      <td>1833.00</td>\n",
       "    </tr>\n",
       "    <tr>\n",
       "      <th>1</th>\n",
       "      <td>2018-03-21</td>\n",
       "      <td>1730.49</td>\n",
       "    </tr>\n",
       "    <tr>\n",
       "      <th>2</th>\n",
       "      <td>2018-03-22</td>\n",
       "      <td>2260.55</td>\n",
       "    </tr>\n",
       "    <tr>\n",
       "      <th>3</th>\n",
       "      <td>2018-03-23</td>\n",
       "      <td>2138.76</td>\n",
       "    </tr>\n",
       "    <tr>\n",
       "      <th>4</th>\n",
       "      <td>2018-03-24</td>\n",
       "      <td>1721.70</td>\n",
       "    </tr>\n",
       "  </tbody>\n",
       "</table>\n",
       "</div>"
      ],
      "text/plain": [
       "          ds        y\n",
       "0 2018-03-20  1833.00\n",
       "1 2018-03-21  1730.49\n",
       "2 2018-03-22  2260.55\n",
       "3 2018-03-23  2138.76\n",
       "4 2018-03-24  1721.70"
      ]
     },
     "execution_count": 23,
     "metadata": {},
     "output_type": "execute_result"
    }
   ],
   "source": [
    "test_df = test_df.rename(columns={\"FullDate\": \"ds\", \"ElecPrice\": \"y\"})\n",
    "test_df.head()"
   ]
  },
  {
   "cell_type": "code",
   "execution_count": 24,
   "id": "25cdbb70",
   "metadata": {
    "execution": {
     "iopub.execute_input": "2022-04-04T11:12:48.980094Z",
     "iopub.status.busy": "2022-04-04T11:12:48.979480Z",
     "iopub.status.idle": "2022-04-04T11:12:51.169375Z",
     "shell.execute_reply": "2022-04-04T11:12:51.169788Z",
     "shell.execute_reply.started": "2022-04-04T11:07:53.137888Z"
    },
    "papermill": {
     "duration": 2.245542,
     "end_time": "2022-04-04T11:12:51.170059",
     "exception": false,
     "start_time": "2022-04-04T11:12:48.924517",
     "status": "completed"
    },
    "tags": []
   },
   "outputs": [
    {
     "name": "stdout",
     "output_type": "stream",
     "text": [
      "Initial log joint probability = -4.20632\n"
     ]
    },
    {
     "data": {
      "text/plain": [
       "<fbprophet.forecaster.Prophet at 0x7fa4f1e86650>"
      ]
     },
     "execution_count": 24,
     "metadata": {},
     "output_type": "execute_result"
    },
    {
     "name": "stdout",
     "output_type": "stream",
     "text": [
      "    Iter      log prob        ||dx||      ||grad||       alpha      alpha0  # evals  Notes \n",
      "      99       8006.42   0.000190736       172.415           1           1      121   \n",
      "    Iter      log prob        ||dx||      ||grad||       alpha      alpha0  # evals  Notes \n",
      "     199        8007.2    4.4511e-05       55.1814      0.8319      0.8319      241   \n",
      "    Iter      log prob        ||dx||      ||grad||       alpha      alpha0  # evals  Notes \n",
      "     224       8007.24   0.000127972       100.748   1.491e-06       0.001      313  LS failed, Hessian reset \n",
      "     299       8007.56   3.00801e-05       44.3474      0.5552      0.5552      406   \n",
      "    Iter      log prob        ||dx||      ||grad||       alpha      alpha0  # evals  Notes \n",
      "     351       8007.61   4.26709e-05       140.953   1.449e-07       0.001      531  LS failed, Hessian reset \n",
      "     399       8007.64   7.42204e-06       64.1818      0.0646           1      606   \n",
      "    Iter      log prob        ||dx||      ||grad||       alpha      alpha0  # evals  Notes \n",
      "     449       8007.72   7.37433e-05       197.824   8.271e-07       0.001      707  LS failed, Hessian reset \n",
      "     498       8007.79   3.31562e-07       65.0605      0.2206     0.02206      775   \n",
      "Optimization terminated normally: \n",
      "  Convergence detected: relative gradient magnitude is below tolerance\n"
     ]
    }
   ],
   "source": [
    "model = Prophet()\n",
    "model.fit(df_train)"
   ]
  },
  {
   "cell_type": "code",
   "execution_count": 25,
   "id": "1a9e7532",
   "metadata": {
    "execution": {
     "iopub.execute_input": "2022-04-04T11:12:51.313477Z",
     "iopub.status.busy": "2022-04-04T11:12:51.312800Z",
     "iopub.status.idle": "2022-04-04T11:12:54.897945Z",
     "shell.execute_reply": "2022-04-04T11:12:54.897316Z",
     "shell.execute_reply.started": "2022-04-04T11:07:55.714020Z"
    },
    "papermill": {
     "duration": 3.646718,
     "end_time": "2022-04-04T11:12:54.898097",
     "exception": false,
     "start_time": "2022-04-04T11:12:51.251379",
     "status": "completed"
    },
    "tags": []
   },
   "outputs": [
    {
     "data": {
      "text/html": [
       "<div>\n",
       "<style scoped>\n",
       "    .dataframe tbody tr th:only-of-type {\n",
       "        vertical-align: middle;\n",
       "    }\n",
       "\n",
       "    .dataframe tbody tr th {\n",
       "        vertical-align: top;\n",
       "    }\n",
       "\n",
       "    .dataframe thead th {\n",
       "        text-align: right;\n",
       "    }\n",
       "</style>\n",
       "<table border=\"1\" class=\"dataframe\">\n",
       "  <thead>\n",
       "    <tr style=\"text-align: right;\">\n",
       "      <th></th>\n",
       "      <th>ds</th>\n",
       "      <th>trend</th>\n",
       "      <th>yhat_lower</th>\n",
       "      <th>yhat_upper</th>\n",
       "      <th>trend_lower</th>\n",
       "      <th>trend_upper</th>\n",
       "      <th>additive_terms</th>\n",
       "      <th>additive_terms_lower</th>\n",
       "      <th>additive_terms_upper</th>\n",
       "      <th>weekly</th>\n",
       "      <th>weekly_lower</th>\n",
       "      <th>weekly_upper</th>\n",
       "      <th>yearly</th>\n",
       "      <th>yearly_lower</th>\n",
       "      <th>yearly_upper</th>\n",
       "      <th>multiplicative_terms</th>\n",
       "      <th>multiplicative_terms_lower</th>\n",
       "      <th>multiplicative_terms_upper</th>\n",
       "      <th>yhat</th>\n",
       "    </tr>\n",
       "  </thead>\n",
       "  <tbody>\n",
       "    <tr>\n",
       "      <th>0</th>\n",
       "      <td>2018-03-20</td>\n",
       "      <td>2685.995282</td>\n",
       "      <td>63.342047</td>\n",
       "      <td>4850.146456</td>\n",
       "      <td>2685.995282</td>\n",
       "      <td>2685.995282</td>\n",
       "      <td>-154.967811</td>\n",
       "      <td>-154.967811</td>\n",
       "      <td>-154.967811</td>\n",
       "      <td>9.737563</td>\n",
       "      <td>9.737563</td>\n",
       "      <td>9.737563</td>\n",
       "      <td>-164.705374</td>\n",
       "      <td>-164.705374</td>\n",
       "      <td>-164.705374</td>\n",
       "      <td>0.0</td>\n",
       "      <td>0.0</td>\n",
       "      <td>0.0</td>\n",
       "      <td>2531.027472</td>\n",
       "    </tr>\n",
       "    <tr>\n",
       "      <th>1</th>\n",
       "      <td>2018-03-21</td>\n",
       "      <td>2686.787698</td>\n",
       "      <td>393.158982</td>\n",
       "      <td>5234.235517</td>\n",
       "      <td>2686.787698</td>\n",
       "      <td>2686.787698</td>\n",
       "      <td>-2.473227</td>\n",
       "      <td>-2.473227</td>\n",
       "      <td>-2.473227</td>\n",
       "      <td>159.362662</td>\n",
       "      <td>159.362662</td>\n",
       "      <td>159.362662</td>\n",
       "      <td>-161.835889</td>\n",
       "      <td>-161.835889</td>\n",
       "      <td>-161.835889</td>\n",
       "      <td>0.0</td>\n",
       "      <td>0.0</td>\n",
       "      <td>0.0</td>\n",
       "      <td>2684.314472</td>\n",
       "    </tr>\n",
       "    <tr>\n",
       "      <th>2</th>\n",
       "      <td>2018-03-22</td>\n",
       "      <td>2687.580114</td>\n",
       "      <td>648.964608</td>\n",
       "      <td>5216.233990</td>\n",
       "      <td>2687.580114</td>\n",
       "      <td>2687.580114</td>\n",
       "      <td>95.717382</td>\n",
       "      <td>95.717382</td>\n",
       "      <td>95.717382</td>\n",
       "      <td>257.120465</td>\n",
       "      <td>257.120465</td>\n",
       "      <td>257.120465</td>\n",
       "      <td>-161.403083</td>\n",
       "      <td>-161.403083</td>\n",
       "      <td>-161.403083</td>\n",
       "      <td>0.0</td>\n",
       "      <td>0.0</td>\n",
       "      <td>0.0</td>\n",
       "      <td>2783.297497</td>\n",
       "    </tr>\n",
       "    <tr>\n",
       "      <th>3</th>\n",
       "      <td>2018-03-23</td>\n",
       "      <td>2688.372531</td>\n",
       "      <td>263.076925</td>\n",
       "      <td>4888.643304</td>\n",
       "      <td>2688.372531</td>\n",
       "      <td>2688.372531</td>\n",
       "      <td>-112.965306</td>\n",
       "      <td>-112.965306</td>\n",
       "      <td>-112.965306</td>\n",
       "      <td>50.276079</td>\n",
       "      <td>50.276079</td>\n",
       "      <td>50.276079</td>\n",
       "      <td>-163.241385</td>\n",
       "      <td>-163.241385</td>\n",
       "      <td>-163.241385</td>\n",
       "      <td>0.0</td>\n",
       "      <td>0.0</td>\n",
       "      <td>0.0</td>\n",
       "      <td>2575.407225</td>\n",
       "    </tr>\n",
       "    <tr>\n",
       "      <th>4</th>\n",
       "      <td>2018-03-24</td>\n",
       "      <td>2689.164947</td>\n",
       "      <td>61.342306</td>\n",
       "      <td>4538.900712</td>\n",
       "      <td>2689.164947</td>\n",
       "      <td>2689.164947</td>\n",
       "      <td>-438.563887</td>\n",
       "      <td>-438.563887</td>\n",
       "      <td>-438.563887</td>\n",
       "      <td>-271.455104</td>\n",
       "      <td>-271.455104</td>\n",
       "      <td>-271.455104</td>\n",
       "      <td>-167.108783</td>\n",
       "      <td>-167.108783</td>\n",
       "      <td>-167.108783</td>\n",
       "      <td>0.0</td>\n",
       "      <td>0.0</td>\n",
       "      <td>0.0</td>\n",
       "      <td>2250.601060</td>\n",
       "    </tr>\n",
       "  </tbody>\n",
       "</table>\n",
       "</div>"
      ],
      "text/plain": [
       "          ds        trend  yhat_lower   yhat_upper  trend_lower  trend_upper  \\\n",
       "0 2018-03-20  2685.995282   63.342047  4850.146456  2685.995282  2685.995282   \n",
       "1 2018-03-21  2686.787698  393.158982  5234.235517  2686.787698  2686.787698   \n",
       "2 2018-03-22  2687.580114  648.964608  5216.233990  2687.580114  2687.580114   \n",
       "3 2018-03-23  2688.372531  263.076925  4888.643304  2688.372531  2688.372531   \n",
       "4 2018-03-24  2689.164947   61.342306  4538.900712  2689.164947  2689.164947   \n",
       "\n",
       "   additive_terms  additive_terms_lower  additive_terms_upper      weekly  \\\n",
       "0     -154.967811           -154.967811           -154.967811    9.737563   \n",
       "1       -2.473227             -2.473227             -2.473227  159.362662   \n",
       "2       95.717382             95.717382             95.717382  257.120465   \n",
       "3     -112.965306           -112.965306           -112.965306   50.276079   \n",
       "4     -438.563887           -438.563887           -438.563887 -271.455104   \n",
       "\n",
       "   weekly_lower  weekly_upper      yearly  yearly_lower  yearly_upper  \\\n",
       "0      9.737563      9.737563 -164.705374   -164.705374   -164.705374   \n",
       "1    159.362662    159.362662 -161.835889   -161.835889   -161.835889   \n",
       "2    257.120465    257.120465 -161.403083   -161.403083   -161.403083   \n",
       "3     50.276079     50.276079 -163.241385   -163.241385   -163.241385   \n",
       "4   -271.455104   -271.455104 -167.108783   -167.108783   -167.108783   \n",
       "\n",
       "   multiplicative_terms  multiplicative_terms_lower  \\\n",
       "0                   0.0                         0.0   \n",
       "1                   0.0                         0.0   \n",
       "2                   0.0                         0.0   \n",
       "3                   0.0                         0.0   \n",
       "4                   0.0                         0.0   \n",
       "\n",
       "   multiplicative_terms_upper         yhat  \n",
       "0                         0.0  2531.027472  \n",
       "1                         0.0  2684.314472  \n",
       "2                         0.0  2783.297497  \n",
       "3                         0.0  2575.407225  \n",
       "4                         0.0  2250.601060  "
      ]
     },
     "execution_count": 25,
     "metadata": {},
     "output_type": "execute_result"
    }
   ],
   "source": [
    "forecast_values = model.predict(test_df) \n",
    "forecast_values.head()"
   ]
  },
  {
   "cell_type": "markdown",
   "id": "c3548318",
   "metadata": {
    "papermill": {
     "duration": 0.053698,
     "end_time": "2022-04-04T11:12:55.004946",
     "exception": false,
     "start_time": "2022-04-04T11:12:54.951248",
     "status": "completed"
    },
    "tags": []
   },
   "source": [
    "**Q.14 Evaluating the results of your time series model on the test set, what is the MAPE (in %) in 2 decimal places?**"
   ]
  },
  {
   "cell_type": "code",
   "execution_count": 26,
   "id": "c9cb4ffc",
   "metadata": {
    "execution": {
     "iopub.execute_input": "2022-04-04T11:12:55.117137Z",
     "iopub.status.busy": "2022-04-04T11:12:55.114504Z",
     "iopub.status.idle": "2022-04-04T11:12:55.118890Z",
     "shell.execute_reply": "2022-04-04T11:12:55.119481Z",
     "shell.execute_reply.started": "2022-04-04T11:07:59.544218Z"
    },
    "papermill": {
     "duration": 0.060838,
     "end_time": "2022-04-04T11:12:55.119660",
     "exception": false,
     "start_time": "2022-04-04T11:12:55.058822",
     "status": "completed"
    },
    "tags": []
   },
   "outputs": [],
   "source": [
    "def Metric(y_true,y_pred):\n",
    "  y_true,y_pred = np.array(y_true), np.array(y_pred)\n",
    "  return np.mean(np.abs((y_true - y_pred)/y_true)) *100"
   ]
  },
  {
   "cell_type": "code",
   "execution_count": 27,
   "id": "6c762140",
   "metadata": {
    "execution": {
     "iopub.execute_input": "2022-04-04T11:12:55.230628Z",
     "iopub.status.busy": "2022-04-04T11:12:55.230016Z",
     "iopub.status.idle": "2022-04-04T11:12:55.233370Z",
     "shell.execute_reply": "2022-04-04T11:12:55.234042Z",
     "shell.execute_reply.started": "2022-04-04T11:07:59.556344Z"
    },
    "papermill": {
     "duration": 0.061616,
     "end_time": "2022-04-04T11:12:55.234260",
     "exception": false,
     "start_time": "2022-04-04T11:12:55.172644",
     "status": "completed"
    },
    "tags": []
   },
   "outputs": [
    {
     "name": "stdout",
     "output_type": "stream",
     "text": [
      "Mean Average Percentage Error ( MAPE) is: 544.76\n"
     ]
    }
   ],
   "source": [
    "MAPE = Metric(test_df['y'],forecast_values['yhat'])\n",
    "print(f'Mean Average Percentage Error ( MAPE) is: {round(MAPE,2)}')"
   ]
  },
  {
   "cell_type": "markdown",
   "id": "e33ebdb4",
   "metadata": {
    "papermill": {
     "duration": 0.052545,
     "end_time": "2022-04-04T11:12:55.341454",
     "exception": false,
     "start_time": "2022-04-04T11:12:55.288909",
     "status": "completed"
    },
    "tags": []
   },
   "source": [
    "**Q.15 What is the RMSE in 2 decimal places?**"
   ]
  },
  {
   "cell_type": "code",
   "execution_count": 28,
   "id": "81040ecf",
   "metadata": {
    "execution": {
     "iopub.execute_input": "2022-04-04T11:12:55.450532Z",
     "iopub.status.busy": "2022-04-04T11:12:55.449637Z",
     "iopub.status.idle": "2022-04-04T11:12:55.601141Z",
     "shell.execute_reply": "2022-04-04T11:12:55.601576Z",
     "shell.execute_reply.started": "2022-04-04T11:07:59.572619Z"
    },
    "papermill": {
     "duration": 0.207783,
     "end_time": "2022-04-04T11:12:55.601761",
     "exception": false,
     "start_time": "2022-04-04T11:12:55.393978",
     "status": "completed"
    },
    "tags": []
   },
   "outputs": [],
   "source": [
    "from sklearn import metrics"
   ]
  },
  {
   "cell_type": "code",
   "execution_count": 29,
   "id": "ffa3c078",
   "metadata": {
    "execution": {
     "iopub.execute_input": "2022-04-04T11:12:55.713253Z",
     "iopub.status.busy": "2022-04-04T11:12:55.712453Z",
     "iopub.status.idle": "2022-04-04T11:12:55.715675Z",
     "shell.execute_reply": "2022-04-04T11:12:55.716360Z",
     "shell.execute_reply.started": "2022-04-04T11:07:59.757784Z"
    },
    "papermill": {
     "duration": 0.062361,
     "end_time": "2022-04-04T11:12:55.716579",
     "exception": false,
     "start_time": "2022-04-04T11:12:55.654218",
     "status": "completed"
    },
    "tags": []
   },
   "outputs": [
    {
     "name": "stdout",
     "output_type": "stream",
     "text": [
      "RMSE is: 3208.1698\n"
     ]
    }
   ],
   "source": [
    "RMSE = np.sqrt(metrics.mean_squared_error(test_df['y'],forecast_values['yhat']))\n",
    "print(f'RMSE is: {round(RMSE,4)}')"
   ]
  },
  {
   "cell_type": "markdown",
   "id": "993eb409",
   "metadata": {
    "papermill": {
     "duration": 0.053786,
     "end_time": "2022-04-04T11:12:55.824770",
     "exception": false,
     "start_time": "2022-04-04T11:12:55.770984",
     "status": "completed"
    },
    "tags": []
   },
   "source": [
    "**Q.16 If you plot the components from the forecasted model, what month of the yearly seasonality has the highest value?**"
   ]
  },
  {
   "cell_type": "code",
   "execution_count": 30,
   "id": "c204e66a",
   "metadata": {
    "execution": {
     "iopub.execute_input": "2022-04-04T11:12:55.956922Z",
     "iopub.status.busy": "2022-04-04T11:12:55.955941Z",
     "iopub.status.idle": "2022-04-04T11:12:57.099767Z",
     "shell.execute_reply": "2022-04-04T11:12:57.100255Z",
     "shell.execute_reply.started": "2022-04-04T11:07:59.767198Z"
    },
    "papermill": {
     "duration": 1.222779,
     "end_time": "2022-04-04T11:12:57.100436",
     "exception": false,
     "start_time": "2022-04-04T11:12:55.877657",
     "status": "completed"
    },
    "tags": []
   },
   "outputs": [
    {
     "data": {
      "image/png": "[encoded data removed]",
      "text/plain": [
       "<Figure size 648x648 with 3 Axes>"
      ]
     },
     "execution_count": 30,
     "metadata": {},
     "output_type": "execute_result"
    },
    {
     "data": {
      "image/png": "[encoded data removed]",
      "text/plain": [
       "<Figure size 648x648 with 3 Axes>"
      ]
     },
     "metadata": {},
     "output_type": "display_data"
    }
   ],
   "source": [
    "model.plot_components(forecast_values)"
   ]
  },
  {
   "cell_type": "markdown",
   "id": "5f8eb3d4",
   "metadata": {
    "papermill": {
     "duration": 0.056544,
     "end_time": "2022-04-04T11:12:57.214457",
     "exception": false,
     "start_time": "2022-04-04T11:12:57.157913",
     "status": "completed"
    },
    "tags": []
   },
   "source": [
    "**In third graph July month shows of the highest value.**"
   ]
  },
  {
   "cell_type": "code",
   "execution_count": 31,
   "id": "81ef0295",
   "metadata": {
    "execution": {
     "iopub.execute_input": "2022-04-04T11:12:57.331476Z",
     "iopub.status.busy": "2022-04-04T11:12:57.330792Z",
     "iopub.status.idle": "2022-04-04T11:12:57.334702Z",
     "shell.execute_reply": "2022-04-04T11:12:57.335163Z",
     "shell.execute_reply.started": "2022-04-04T11:08:00.924243Z"
    },
    "papermill": {
     "duration": 0.063718,
     "end_time": "2022-04-04T11:12:57.335327",
     "exception": false,
     "start_time": "2022-04-04T11:12:57.271609",
     "status": "completed"
    },
    "tags": []
   },
   "outputs": [],
   "source": [
    "day_data.reset_index(inplace=True)"
   ]
  },
  {
   "cell_type": "code",
   "execution_count": 32,
   "id": "5ea17355",
   "metadata": {
    "execution": {
     "iopub.execute_input": "2022-04-04T11:12:57.454246Z",
     "iopub.status.busy": "2022-04-04T11:12:57.453649Z",
     "iopub.status.idle": "2022-04-04T11:12:57.465006Z",
     "shell.execute_reply": "2022-04-04T11:12:57.465535Z",
     "shell.execute_reply.started": "2022-04-04T11:08:00.931441Z"
    },
    "papermill": {
     "duration": 0.071277,
     "end_time": "2022-04-04T11:12:57.465695",
     "exception": false,
     "start_time": "2022-04-04T11:12:57.394418",
     "status": "completed"
    },
    "tags": []
   },
   "outputs": [
    {
     "data": {
      "text/html": [
       "<div>\n",
       "<style scoped>\n",
       "    .dataframe tbody tr th:only-of-type {\n",
       "        vertical-align: middle;\n",
       "    }\n",
       "\n",
       "    .dataframe tbody tr th {\n",
       "        vertical-align: top;\n",
       "    }\n",
       "\n",
       "    .dataframe thead th {\n",
       "        text-align: right;\n",
       "    }\n",
       "</style>\n",
       "<table border=\"1\" class=\"dataframe\">\n",
       "  <thead>\n",
       "    <tr style=\"text-align: right;\">\n",
       "      <th></th>\n",
       "      <th>FullDate</th>\n",
       "      <th>Tmax</th>\n",
       "      <th>SysLoad</th>\n",
       "      <th>GasPrice</th>\n",
       "      <th>ElecPrice</th>\n",
       "    </tr>\n",
       "  </thead>\n",
       "  <tbody>\n",
       "    <tr>\n",
       "      <th>0</th>\n",
       "      <td>2010-09-01</td>\n",
       "      <td>379.2</td>\n",
       "      <td>41565.38</td>\n",
       "      <td>88.56</td>\n",
       "      <td>2751.700</td>\n",
       "    </tr>\n",
       "    <tr>\n",
       "      <th>1</th>\n",
       "      <td>2010-09-02</td>\n",
       "      <td>369.6</td>\n",
       "      <td>38898.99</td>\n",
       "      <td>88.56</td>\n",
       "      <td>570.810</td>\n",
       "    </tr>\n",
       "    <tr>\n",
       "      <th>2</th>\n",
       "      <td>2010-09-03</td>\n",
       "      <td>439.2</td>\n",
       "      <td>41665.76</td>\n",
       "      <td>106.80</td>\n",
       "      <td>504.975</td>\n",
       "    </tr>\n",
       "  </tbody>\n",
       "</table>\n",
       "</div>"
      ],
      "text/plain": [
       "    FullDate   Tmax   SysLoad  GasPrice  ElecPrice\n",
       "0 2010-09-01  379.2  41565.38     88.56   2751.700\n",
       "1 2010-09-02  369.6  38898.99     88.56    570.810\n",
       "2 2010-09-03  439.2  41665.76    106.80    504.975"
      ]
     },
     "execution_count": 32,
     "metadata": {},
     "output_type": "execute_result"
    }
   ],
   "source": [
    "day_data.head(3)"
   ]
  },
  {
   "cell_type": "code",
   "execution_count": 33,
   "id": "b092a053",
   "metadata": {
    "execution": {
     "iopub.execute_input": "2022-04-04T11:12:57.583175Z",
     "iopub.status.busy": "2022-04-04T11:12:57.582542Z",
     "iopub.status.idle": "2022-04-04T11:12:57.586697Z",
     "shell.execute_reply": "2022-04-04T11:12:57.587110Z",
     "shell.execute_reply.started": "2022-04-04T11:08:00.951853Z"
    },
    "papermill": {
     "duration": 0.064515,
     "end_time": "2022-04-04T11:12:57.587276",
     "exception": false,
     "start_time": "2022-04-04T11:12:57.522761",
     "status": "completed"
    },
    "tags": []
   },
   "outputs": [],
   "source": [
    "new_day_data = day_data.rename(columns = {'FullDate':'ds','Tmax':'add2',\n",
    "                                           'SysLoad':'add1','GasPrice':'add3',\n",
    "                                           'ElecPrice':'y'})"
   ]
  },
  {
   "cell_type": "code",
   "execution_count": 34,
   "id": "31587a6e",
   "metadata": {
    "execution": {
     "iopub.execute_input": "2022-04-04T11:12:57.705226Z",
     "iopub.status.busy": "2022-04-04T11:12:57.704588Z",
     "iopub.status.idle": "2022-04-04T11:12:57.714833Z",
     "shell.execute_reply": "2022-04-04T11:12:57.715291Z",
     "shell.execute_reply.started": "2022-04-04T11:08:00.962168Z"
    },
    "papermill": {
     "duration": 0.070678,
     "end_time": "2022-04-04T11:12:57.715464",
     "exception": false,
     "start_time": "2022-04-04T11:12:57.644786",
     "status": "completed"
    },
    "tags": []
   },
   "outputs": [
    {
     "data": {
      "text/html": [
       "<div>\n",
       "<style scoped>\n",
       "    .dataframe tbody tr th:only-of-type {\n",
       "        vertical-align: middle;\n",
       "    }\n",
       "\n",
       "    .dataframe tbody tr th {\n",
       "        vertical-align: top;\n",
       "    }\n",
       "\n",
       "    .dataframe thead th {\n",
       "        text-align: right;\n",
       "    }\n",
       "</style>\n",
       "<table border=\"1\" class=\"dataframe\">\n",
       "  <thead>\n",
       "    <tr style=\"text-align: right;\">\n",
       "      <th></th>\n",
       "      <th>ds</th>\n",
       "      <th>add2</th>\n",
       "      <th>add1</th>\n",
       "      <th>add3</th>\n",
       "      <th>y</th>\n",
       "    </tr>\n",
       "  </thead>\n",
       "  <tbody>\n",
       "    <tr>\n",
       "      <th>0</th>\n",
       "      <td>2010-09-01</td>\n",
       "      <td>379.2</td>\n",
       "      <td>41565.38</td>\n",
       "      <td>88.56</td>\n",
       "      <td>2751.700</td>\n",
       "    </tr>\n",
       "    <tr>\n",
       "      <th>1</th>\n",
       "      <td>2010-09-02</td>\n",
       "      <td>369.6</td>\n",
       "      <td>38898.99</td>\n",
       "      <td>88.56</td>\n",
       "      <td>570.810</td>\n",
       "    </tr>\n",
       "    <tr>\n",
       "      <th>2</th>\n",
       "      <td>2010-09-03</td>\n",
       "      <td>439.2</td>\n",
       "      <td>41665.76</td>\n",
       "      <td>106.80</td>\n",
       "      <td>504.975</td>\n",
       "    </tr>\n",
       "  </tbody>\n",
       "</table>\n",
       "</div>"
      ],
      "text/plain": [
       "          ds   add2      add1    add3         y\n",
       "0 2010-09-01  379.2  41565.38   88.56  2751.700\n",
       "1 2010-09-02  369.6  38898.99   88.56   570.810\n",
       "2 2010-09-03  439.2  41665.76  106.80   504.975"
      ]
     },
     "execution_count": 34,
     "metadata": {},
     "output_type": "execute_result"
    }
   ],
   "source": [
    "new_day_data.head(3)"
   ]
  },
  {
   "cell_type": "code",
   "execution_count": 35,
   "id": "768ee85f",
   "metadata": {
    "execution": {
     "iopub.execute_input": "2022-04-04T11:12:57.836218Z",
     "iopub.status.busy": "2022-04-04T11:12:57.835570Z",
     "iopub.status.idle": "2022-04-04T11:12:57.839079Z",
     "shell.execute_reply": "2022-04-04T11:12:57.839532Z",
     "shell.execute_reply.started": "2022-04-04T11:08:00.982178Z"
    },
    "papermill": {
     "duration": 0.06455,
     "end_time": "2022-04-04T11:12:57.839691",
     "exception": false,
     "start_time": "2022-04-04T11:12:57.775141",
     "status": "completed"
    },
    "tags": []
   },
   "outputs": [],
   "source": [
    "train_data_new = new_day_data.iloc[:2757,:]\n",
    "test_data_new = new_day_data.iloc[2757:,:]"
   ]
  },
  {
   "cell_type": "code",
   "execution_count": 36,
   "id": "7452953b",
   "metadata": {
    "execution": {
     "iopub.execute_input": "2022-04-04T11:12:57.959322Z",
     "iopub.status.busy": "2022-04-04T11:12:57.958711Z",
     "iopub.status.idle": "2022-04-04T11:12:58.089776Z",
     "shell.execute_reply": "2022-04-04T11:12:58.089269Z",
     "shell.execute_reply.started": "2022-04-04T11:08:00.993045Z"
    },
    "papermill": {
     "duration": 0.191448,
     "end_time": "2022-04-04T11:12:58.089907",
     "exception": false,
     "start_time": "2022-04-04T11:12:57.898459",
     "status": "completed"
    },
    "tags": []
   },
   "outputs": [
    {
     "data": {
      "text/plain": [
       "<fbprophet.forecaster.Prophet at 0x7fa4ed0e7c90>"
      ]
     },
     "execution_count": 36,
     "metadata": {},
     "output_type": "execute_result"
    }
   ],
   "source": [
    "model = Prophet()\n",
    "model.add_regressor('add1')\n",
    "model.add_regressor('add2')\n",
    "model.add_regressor('add3')"
   ]
  },
  {
   "cell_type": "code",
   "execution_count": 37,
   "id": "0735aa73",
   "metadata": {
    "execution": {
     "iopub.execute_input": "2022-04-04T11:12:58.212810Z",
     "iopub.status.busy": "2022-04-04T11:12:58.210121Z",
     "iopub.status.idle": "2022-04-04T11:12:59.107726Z",
     "shell.execute_reply": "2022-04-04T11:12:59.108240Z",
     "shell.execute_reply.started": "2022-04-04T11:08:01.122618Z"
    },
    "papermill": {
     "duration": 0.959537,
     "end_time": "2022-04-04T11:12:59.108415",
     "exception": false,
     "start_time": "2022-04-04T11:12:58.148878",
     "status": "completed"
    },
    "tags": []
   },
   "outputs": [
    {
     "name": "stdout",
     "output_type": "stream",
     "text": [
      "Initial log joint probability = -4.20632\n",
      "    Iter      log prob        ||dx||      ||grad||       alpha      alpha0  # evals  Notes \n",
      "      99       8218.46   0.000765413       377.196           1           1      113   \n",
      "    Iter      log prob        ||dx||      ||grad||       alpha      alpha0  # evals  Notes \n",
      "     199       8219.42   0.000181158       126.613           1           1      238   \n",
      "    Iter      log prob        ||dx||      ||grad||       alpha      alpha0  # evals  Notes \n",
      "     299       8219.72   0.000285842       78.9036           1           1      358   \n",
      "    Iter      log prob        ||dx||      ||grad||       alpha      alpha0  # evals  Notes \n",
      "     314       8219.78   7.57213e-05       255.214   4.419e-07       0.001      431  LS failed, Hessian reset \n",
      "     399       8219.86   1.51602e-05       76.2299      0.5333      0.5333      534   \n",
      "    Iter      log prob        ||dx||      ||grad||       alpha      alpha0  # evals  Notes \n",
      "     443       8219.87   8.26302e-07        70.335           1           1      588   \n",
      "Optimization terminated normally: \n",
      "  Convergence detected: relative gradient magnitude is below tolerance\n"
     ]
    }
   ],
   "source": [
    "model = model.fit(train_data_new)"
   ]
  },
  {
   "cell_type": "markdown",
   "id": "154f6cc6",
   "metadata": {
    "papermill": {
     "duration": 0.058285,
     "end_time": "2022-04-04T11:12:59.226067",
     "exception": false,
     "start_time": "2022-04-04T11:12:59.167782",
     "status": "completed"
    },
    "tags": []
   },
   "source": [
    "**Q.17 Evaluating the results of your time series model on the test set, what is the MAPE (in %) in 2 decimal places?**"
   ]
  },
  {
   "cell_type": "code",
   "execution_count": 38,
   "id": "5697f7d9",
   "metadata": {
    "execution": {
     "iopub.execute_input": "2022-04-04T11:12:59.358410Z",
     "iopub.status.busy": "2022-04-04T11:12:59.353317Z",
     "iopub.status.idle": "2022-04-04T11:13:03.474111Z",
     "shell.execute_reply": "2022-04-04T11:13:03.473449Z",
     "shell.execute_reply.started": "2022-04-04T11:08:02.003278Z"
    },
    "papermill": {
     "duration": 4.189114,
     "end_time": "2022-04-04T11:13:03.474253",
     "exception": false,
     "start_time": "2022-04-04T11:12:59.285139",
     "status": "completed"
    },
    "tags": []
   },
   "outputs": [],
   "source": [
    "forecast_values_new = model.predict(test_data_new)"
   ]
  },
  {
   "cell_type": "code",
   "execution_count": 39,
   "id": "0554467a",
   "metadata": {
    "execution": {
     "iopub.execute_input": "2022-04-04T11:13:03.594550Z",
     "iopub.status.busy": "2022-04-04T11:13:03.593934Z",
     "iopub.status.idle": "2022-04-04T11:13:03.599820Z",
     "shell.execute_reply": "2022-04-04T11:13:03.600296Z",
     "shell.execute_reply.started": "2022-04-04T11:08:05.861417Z"
    },
    "papermill": {
     "duration": 0.067665,
     "end_time": "2022-04-04T11:13:03.600462",
     "exception": false,
     "start_time": "2022-04-04T11:13:03.532797",
     "status": "completed"
    },
    "tags": []
   },
   "outputs": [
    {
     "name": "stdout",
     "output_type": "stream",
     "text": [
      "Mean Average Percentage Error ( MAPE) is:233.56\n"
     ]
    }
   ],
   "source": [
    "MAPE = Metric(test_data_new['y'],forecast_values_new['yhat'])\n",
    "print(f'Mean Average Percentage Error ( MAPE) is:{round(MAPE,2)}')"
   ]
  },
  {
   "cell_type": "markdown",
   "id": "06406ca2",
   "metadata": {
    "papermill": {
     "duration": 0.058935,
     "end_time": "2022-04-04T11:13:03.718851",
     "exception": false,
     "start_time": "2022-04-04T11:13:03.659916",
     "status": "completed"
    },
    "tags": []
   },
   "source": [
    "**Q18. What is the RMSE in 2 decimal places?**"
   ]
  },
  {
   "cell_type": "code",
   "execution_count": 40,
   "id": "5edefb2a",
   "metadata": {
    "execution": {
     "iopub.execute_input": "2022-04-04T11:13:03.840630Z",
     "iopub.status.busy": "2022-04-04T11:13:03.840066Z",
     "iopub.status.idle": "2022-04-04T11:13:03.845606Z",
     "shell.execute_reply": "2022-04-04T11:13:03.846186Z",
     "shell.execute_reply.started": "2022-04-04T11:08:05.871270Z"
    },
    "papermill": {
     "duration": 0.068112,
     "end_time": "2022-04-04T11:13:03.846355",
     "exception": false,
     "start_time": "2022-04-04T11:13:03.778243",
     "status": "completed"
    },
    "tags": []
   },
   "outputs": [
    {
     "name": "stdout",
     "output_type": "stream",
     "text": [
      "RMSE is: 2709.4\n"
     ]
    }
   ],
   "source": [
    "RMSE = np.sqrt(metrics.mean_squared_error(test_data_new['y'],forecast_values_new['yhat']))\n",
    "print(f'RMSE is: {round(RMSE,2)}')"
   ]
  },
  {
   "cell_type": "markdown",
   "id": "6d9a003c",
   "metadata": {
    "papermill": {
     "duration": 0.059288,
     "end_time": "2022-04-04T11:13:03.965679",
     "exception": false,
     "start_time": "2022-04-04T11:13:03.906391",
     "status": "completed"
    },
    "tags": []
   },
   "source": [
    "**Q.19 If you plot the components from the multivariate forecasted model, what day of the daily seasonality has the highest value?**"
   ]
  },
  {
   "cell_type": "code",
   "execution_count": 41,
   "id": "27e2b6d0",
   "metadata": {
    "execution": {
     "iopub.execute_input": "2022-04-04T11:13:04.090726Z",
     "iopub.status.busy": "2022-04-04T11:13:04.090088Z",
     "iopub.status.idle": "2022-04-04T11:13:05.770983Z",
     "shell.execute_reply": "2022-04-04T11:13:05.771467Z",
     "shell.execute_reply.started": "2022-04-04T11:08:05.882347Z"
    },
    "papermill": {
     "duration": 1.745432,
     "end_time": "2022-04-04T11:13:05.771629",
     "exception": false,
     "start_time": "2022-04-04T11:13:04.026197",
     "status": "completed"
    },
    "tags": []
   },
   "outputs": [
    {
     "data": {
      "image/png": "[encoded data removed]",
      "text/plain": [
       "<Figure size 648x864 with 4 Axes>"
      ]
     },
     "execution_count": 41,
     "metadata": {},
     "output_type": "execute_result"
    },
    {
     "data": {
      "image/png": "[encoded data removed]",
      "text/plain": [
       "<Figure size 648x864 with 4 Axes>"
      ]
     },
     "metadata": {},
     "output_type": "display_data"
    }
   ],
   "source": [
    "model.plot_components(forecast_values_new)"
   ]
  },
  {
   "cell_type": "markdown",
   "id": "70296c84",
   "metadata": {
    "papermill": {
     "duration": 0.065926,
     "end_time": "2022-04-04T11:13:05.904319",
     "exception": false,
     "start_time": "2022-04-04T11:13:05.838393",
     "status": "completed"
    },
    "tags": []
   },
   "source": [
    "**From graph second we get our answer as THURSDAY**"
   ]
  },
  {
   "cell_type": "code",
   "execution_count": 42,
   "id": "f1c6a40a",
   "metadata": {
    "execution": {
     "iopub.execute_input": "2022-04-04T11:13:06.038702Z",
     "iopub.status.busy": "2022-04-04T11:13:06.038130Z",
     "iopub.status.idle": "2022-04-04T11:13:06.048510Z",
     "shell.execute_reply": "2022-04-04T11:13:06.049073Z",
     "shell.execute_reply.started": "2022-04-04T11:08:07.939841Z"
    },
    "papermill": {
     "duration": 0.079098,
     "end_time": "2022-04-04T11:13:06.049239",
     "exception": false,
     "start_time": "2022-04-04T11:13:05.970141",
     "status": "completed"
    },
    "tags": []
   },
   "outputs": [
    {
     "data": {
      "text/html": [
       "<div>\n",
       "<style scoped>\n",
       "    .dataframe tbody tr th:only-of-type {\n",
       "        vertical-align: middle;\n",
       "    }\n",
       "\n",
       "    .dataframe tbody tr th {\n",
       "        vertical-align: top;\n",
       "    }\n",
       "\n",
       "    .dataframe thead th {\n",
       "        text-align: right;\n",
       "    }\n",
       "</style>\n",
       "<table border=\"1\" class=\"dataframe\">\n",
       "  <thead>\n",
       "    <tr style=\"text-align: right;\">\n",
       "      <th></th>\n",
       "      <th>FullDate</th>\n",
       "      <th>Tmax</th>\n",
       "      <th>SysLoad</th>\n",
       "      <th>GasPrice</th>\n",
       "      <th>ElecPrice</th>\n",
       "    </tr>\n",
       "  </thead>\n",
       "  <tbody>\n",
       "    <tr>\n",
       "      <th>0</th>\n",
       "      <td>2010-09-01</td>\n",
       "      <td>379.2</td>\n",
       "      <td>41565.38</td>\n",
       "      <td>88.56</td>\n",
       "      <td>2751.700</td>\n",
       "    </tr>\n",
       "    <tr>\n",
       "      <th>1</th>\n",
       "      <td>2010-09-02</td>\n",
       "      <td>369.6</td>\n",
       "      <td>38898.99</td>\n",
       "      <td>88.56</td>\n",
       "      <td>570.810</td>\n",
       "    </tr>\n",
       "    <tr>\n",
       "      <th>2</th>\n",
       "      <td>2010-09-03</td>\n",
       "      <td>439.2</td>\n",
       "      <td>41665.76</td>\n",
       "      <td>106.80</td>\n",
       "      <td>504.975</td>\n",
       "    </tr>\n",
       "  </tbody>\n",
       "</table>\n",
       "</div>"
      ],
      "text/plain": [
       "    FullDate   Tmax   SysLoad  GasPrice  ElecPrice\n",
       "0 2010-09-01  379.2  41565.38     88.56   2751.700\n",
       "1 2010-09-02  369.6  38898.99     88.56    570.810\n",
       "2 2010-09-03  439.2  41665.76    106.80    504.975"
      ]
     },
     "execution_count": 42,
     "metadata": {},
     "output_type": "execute_result"
    }
   ],
   "source": [
    "day_data.head(3)"
   ]
  },
  {
   "cell_type": "code",
   "execution_count": 43,
   "id": "f7c019e2",
   "metadata": {
    "execution": {
     "iopub.execute_input": "2022-04-04T11:13:06.186718Z",
     "iopub.status.busy": "2022-04-04T11:13:06.186156Z",
     "iopub.status.idle": "2022-04-04T11:13:06.189664Z",
     "shell.execute_reply": "2022-04-04T11:13:06.190223Z",
     "shell.execute_reply.started": "2022-04-04T11:08:07.954423Z"
    },
    "papermill": {
     "duration": 0.072994,
     "end_time": "2022-04-04T11:13:06.190382",
     "exception": false,
     "start_time": "2022-04-04T11:13:06.117388",
     "status": "completed"
    },
    "tags": []
   },
   "outputs": [],
   "source": [
    "train_data_2 = day_data.iloc[:2757,:]\n",
    "test_data_2 = day_data.iloc[2757:,:] "
   ]
  },
  {
   "cell_type": "code",
   "execution_count": 44,
   "id": "cb59f637",
   "metadata": {
    "execution": {
     "iopub.execute_input": "2022-04-04T11:13:06.328098Z",
     "iopub.status.busy": "2022-04-04T11:13:06.327536Z",
     "iopub.status.idle": "2022-04-04T11:13:06.330154Z",
     "shell.execute_reply": "2022-04-04T11:13:06.330593Z",
     "shell.execute_reply.started": "2022-04-04T11:08:07.960677Z"
    },
    "papermill": {
     "duration": 0.073706,
     "end_time": "2022-04-04T11:13:06.330740",
     "exception": false,
     "start_time": "2022-04-04T11:13:06.257034",
     "status": "completed"
    },
    "tags": []
   },
   "outputs": [
    {
     "data": {
      "text/plain": [
       "((2757, 5), (1077, 5))"
      ]
     },
     "execution_count": 44,
     "metadata": {},
     "output_type": "execute_result"
    }
   ],
   "source": [
    "train_data_2.shape , test_data_2.shape"
   ]
  },
  {
   "cell_type": "code",
   "execution_count": 45,
   "id": "cbc5fd2d",
   "metadata": {
    "execution": {
     "iopub.execute_input": "2022-04-04T11:13:06.466797Z",
     "iopub.status.busy": "2022-04-04T11:13:06.466228Z",
     "iopub.status.idle": "2022-04-04T11:13:06.471186Z",
     "shell.execute_reply": "2022-04-04T11:13:06.471600Z",
     "shell.execute_reply.started": "2022-04-04T11:08:07.972304Z"
    },
    "papermill": {
     "duration": 0.074565,
     "end_time": "2022-04-04T11:13:06.471783",
     "exception": false,
     "start_time": "2022-04-04T11:13:06.397218",
     "status": "completed"
    },
    "tags": []
   },
   "outputs": [],
   "source": [
    "df_train_2 = train_data_2.iloc[:,[0,2,3,4]]\n",
    "df_test_2 = test_data_2.iloc[:,[0,2,3,4]]"
   ]
  },
  {
   "cell_type": "code",
   "execution_count": 46,
   "id": "e132fce0",
   "metadata": {
    "execution": {
     "iopub.execute_input": "2022-04-04T11:13:06.608668Z",
     "iopub.status.busy": "2022-04-04T11:13:06.608018Z",
     "iopub.status.idle": "2022-04-04T11:13:06.613117Z",
     "shell.execute_reply": "2022-04-04T11:13:06.613565Z",
     "shell.execute_reply.started": "2022-04-04T11:08:07.984393Z"
    },
    "papermill": {
     "duration": 0.074721,
     "end_time": "2022-04-04T11:13:06.613724",
     "exception": false,
     "start_time": "2022-04-04T11:13:06.539003",
     "status": "completed"
    },
    "tags": []
   },
   "outputs": [],
   "source": [
    "df_train_2 = df_train_2.rename(columns = {'FullDate':'ds',\n",
    "                                           'SysLoad':'add1','GasPrice':'add2',\n",
    "                                           'ElecPrice':'y'})\n",
    "df_test_2 = df_test_2.rename(columns = {'FullDate':'ds',\n",
    "                                           'SysLoad':'add1','GasPrice':'add2',\n",
    "                                           'ElecPrice':'y'})"
   ]
  },
  {
   "cell_type": "code",
   "execution_count": 47,
   "id": "df922d69",
   "metadata": {
    "execution": {
     "iopub.execute_input": "2022-04-04T11:13:06.749629Z",
     "iopub.status.busy": "2022-04-04T11:13:06.748897Z",
     "iopub.status.idle": "2022-04-04T11:13:06.758775Z",
     "shell.execute_reply": "2022-04-04T11:13:06.759257Z",
     "shell.execute_reply.started": "2022-04-04T11:08:07.996401Z"
    },
    "papermill": {
     "duration": 0.079347,
     "end_time": "2022-04-04T11:13:06.759417",
     "exception": false,
     "start_time": "2022-04-04T11:13:06.680070",
     "status": "completed"
    },
    "tags": []
   },
   "outputs": [
    {
     "data": {
      "text/html": [
       "<div>\n",
       "<style scoped>\n",
       "    .dataframe tbody tr th:only-of-type {\n",
       "        vertical-align: middle;\n",
       "    }\n",
       "\n",
       "    .dataframe tbody tr th {\n",
       "        vertical-align: top;\n",
       "    }\n",
       "\n",
       "    .dataframe thead th {\n",
       "        text-align: right;\n",
       "    }\n",
       "</style>\n",
       "<table border=\"1\" class=\"dataframe\">\n",
       "  <thead>\n",
       "    <tr style=\"text-align: right;\">\n",
       "      <th></th>\n",
       "      <th>ds</th>\n",
       "      <th>add1</th>\n",
       "      <th>add2</th>\n",
       "      <th>y</th>\n",
       "    </tr>\n",
       "  </thead>\n",
       "  <tbody>\n",
       "    <tr>\n",
       "      <th>0</th>\n",
       "      <td>2010-09-01</td>\n",
       "      <td>41565.380</td>\n",
       "      <td>88.56</td>\n",
       "      <td>2751.700</td>\n",
       "    </tr>\n",
       "    <tr>\n",
       "      <th>1</th>\n",
       "      <td>2010-09-02</td>\n",
       "      <td>38898.990</td>\n",
       "      <td>88.56</td>\n",
       "      <td>570.810</td>\n",
       "    </tr>\n",
       "    <tr>\n",
       "      <th>2</th>\n",
       "      <td>2010-09-03</td>\n",
       "      <td>41665.760</td>\n",
       "      <td>106.80</td>\n",
       "      <td>504.975</td>\n",
       "    </tr>\n",
       "    <tr>\n",
       "      <th>3</th>\n",
       "      <td>2010-09-04</td>\n",
       "      <td>35638.085</td>\n",
       "      <td>81.36</td>\n",
       "      <td>502.275</td>\n",
       "    </tr>\n",
       "    <tr>\n",
       "      <th>4</th>\n",
       "      <td>2010-09-05</td>\n",
       "      <td>35611.410</td>\n",
       "      <td>106.80</td>\n",
       "      <td>500.555</td>\n",
       "    </tr>\n",
       "  </tbody>\n",
       "</table>\n",
       "</div>"
      ],
      "text/plain": [
       "          ds       add1    add2         y\n",
       "0 2010-09-01  41565.380   88.56  2751.700\n",
       "1 2010-09-02  38898.990   88.56   570.810\n",
       "2 2010-09-03  41665.760  106.80   504.975\n",
       "3 2010-09-04  35638.085   81.36   502.275\n",
       "4 2010-09-05  35611.410  106.80   500.555"
      ]
     },
     "execution_count": 47,
     "metadata": {},
     "output_type": "execute_result"
    }
   ],
   "source": [
    "df_train_2.head()"
   ]
  },
  {
   "cell_type": "code",
   "execution_count": 48,
   "id": "ec882ad8",
   "metadata": {
    "execution": {
     "iopub.execute_input": "2022-04-04T11:13:06.900761Z",
     "iopub.status.busy": "2022-04-04T11:13:06.899569Z",
     "iopub.status.idle": "2022-04-04T11:13:07.038536Z",
     "shell.execute_reply": "2022-04-04T11:13:07.039231Z",
     "shell.execute_reply.started": "2022-04-04T11:08:08.016468Z"
    },
    "papermill": {
     "duration": 0.212681,
     "end_time": "2022-04-04T11:13:07.039486",
     "exception": false,
     "start_time": "2022-04-04T11:13:06.826805",
     "status": "completed"
    },
    "tags": []
   },
   "outputs": [
    {
     "data": {
      "text/plain": [
       "<fbprophet.forecaster.Prophet at 0x7fa4eb651c10>"
      ]
     },
     "execution_count": 48,
     "metadata": {},
     "output_type": "execute_result"
    }
   ],
   "source": [
    "model = Prophet()\n",
    "model.add_regressor('add1')\n",
    "model.add_regressor('add2')"
   ]
  },
  {
   "cell_type": "code",
   "execution_count": 49,
   "id": "ca2fb2c3",
   "metadata": {
    "execution": {
     "iopub.execute_input": "2022-04-04T11:13:07.185859Z",
     "iopub.status.busy": "2022-04-04T11:13:07.185296Z",
     "iopub.status.idle": "2022-04-04T11:13:07.930287Z",
     "shell.execute_reply": "2022-04-04T11:13:07.930857Z",
     "shell.execute_reply.started": "2022-04-04T11:08:08.143002Z"
    },
    "papermill": {
     "duration": 0.816221,
     "end_time": "2022-04-04T11:13:07.931046",
     "exception": false,
     "start_time": "2022-04-04T11:13:07.114825",
     "status": "completed"
    },
    "tags": []
   },
   "outputs": [
    {
     "name": "stdout",
     "output_type": "stream",
     "text": [
      "Initial log joint probability = -4.20632\n",
      "    Iter      log prob        ||dx||      ||grad||       alpha      alpha0  # evals  Notes \n",
      "      99       8218.62   0.000422017        94.239           1           1      121   \n",
      "    Iter      log prob        ||dx||      ||grad||       alpha      alpha0  # evals  Notes \n",
      "     199       8219.39   5.87059e-05       77.0681        0.28           1      242   \n",
      "    Iter      log prob        ||dx||      ||grad||       alpha      alpha0  # evals  Notes \n",
      "     299       8219.75   0.000787244       97.0431      0.7361      0.7361      360   \n",
      "    Iter      log prob        ||dx||      ||grad||       alpha      alpha0  # evals  Notes \n",
      "     303       8219.76   2.35034e-05       104.781   2.094e-07       0.001      409  LS failed, Hessian reset \n",
      "     380       8219.85   4.79102e-07       62.7508      0.2411           1      505   \n",
      "Optimization terminated normally: \n",
      "  Convergence detected: relative gradient magnitude is below tolerance\n"
     ]
    }
   ],
   "source": [
    "model = model.fit(df_train_2)"
   ]
  },
  {
   "cell_type": "markdown",
   "id": "fca9047e",
   "metadata": {
    "papermill": {
     "duration": 0.068917,
     "end_time": "2022-04-04T11:13:08.068927",
     "exception": false,
     "start_time": "2022-04-04T11:13:08.000010",
     "status": "completed"
    },
    "tags": []
   },
   "source": [
    "**Q.20 Train a multivariate time series model performing the same train test split as before, but now exclude T-max from the training data(drop T-max), What is the mean absolute percentage error (MAPE) to 2 decimal places on the test set?**"
   ]
  },
  {
   "cell_type": "code",
   "execution_count": 50,
   "id": "1af01206",
   "metadata": {
    "execution": {
     "iopub.execute_input": "2022-04-04T11:13:08.212335Z",
     "iopub.status.busy": "2022-04-04T11:13:08.211372Z",
     "iopub.status.idle": "2022-04-04T11:13:11.721863Z",
     "shell.execute_reply": "2022-04-04T11:13:11.720834Z",
     "shell.execute_reply.started": "2022-04-04T11:08:08.897189Z"
    },
    "papermill": {
     "duration": 3.582224,
     "end_time": "2022-04-04T11:13:11.722046",
     "exception": false,
     "start_time": "2022-04-04T11:13:08.139822",
     "status": "completed"
    },
    "tags": []
   },
   "outputs": [],
   "source": [
    "forecast_values_new = model.predict(df_test_2)"
   ]
  },
  {
   "cell_type": "code",
   "execution_count": 51,
   "id": "5155157e",
   "metadata": {
    "execution": {
     "iopub.execute_input": "2022-04-04T11:13:11.861395Z",
     "iopub.status.busy": "2022-04-04T11:13:11.860472Z",
     "iopub.status.idle": "2022-04-04T11:13:11.866471Z",
     "shell.execute_reply": "2022-04-04T11:13:11.866903Z",
     "shell.execute_reply.started": "2022-04-04T11:08:12.849864Z"
    },
    "papermill": {
     "duration": 0.076867,
     "end_time": "2022-04-04T11:13:11.867093",
     "exception": false,
     "start_time": "2022-04-04T11:13:11.790226",
     "status": "completed"
    },
    "tags": []
   },
   "outputs": [
    {
     "name": "stdout",
     "output_type": "stream",
     "text": [
      "Mean Average Percentage Error ( MAPE) is:231.2\n"
     ]
    }
   ],
   "source": [
    "MAPE = Metric(df_test_2['y'],forecast_values_new['yhat'])\n",
    "print(f'Mean Average Percentage Error ( MAPE) is:{round(MAPE,2)}')"
   ]
  }
 ],
 "metadata": {
  "kernelspec": {
   "display_name": "Python 3",
   "language": "python",
   "name": "python3"
  },
  "language_info": {
   "codemirror_mode": {
    "name": "ipython",
    "version": 3
   },
   "file_extension": ".py",
   "mimetype": "text/x-python",
   "name": "python",
   "nbconvert_exporter": "python",
   "pygments_lexer": "ipython3",
   "version": "3.7.12"
  },
  "papermill": {
   "default_parameters": {},
   "duration": 38.219826,
   "end_time": "2022-04-04T11:13:12.745630",
   "environment_variables": {},
   "exception": null,
   "input_path": "__notebook__.ipynb",
   "output_path": "__notebook__.ipynb",
   "parameters": {},
   "start_time": "2022-04-04T11:12:34.525804",
   "version": "2.3.3"
  }
 },
 "nbformat": 4,
 "nbformat_minor": 5
}
